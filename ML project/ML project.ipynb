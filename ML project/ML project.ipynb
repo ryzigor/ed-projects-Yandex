{
 "cells": [
  {
   "cell_type": "markdown",
   "metadata": {},
   "source": [
    "# Исследование взаимодействия с клиентами фитнес-центра\n",
    "\n",
    "Сеть фитнес-центров «Культурист-датасаентист» разрабатывает стратегию взаимодействия с клиентами на основе аналитических данных.\n",
    "Распространённая проблема фитнес-клубов и других сервисов — отток клиентов. Как понять, что клиент больше не с вами? Можно записать в отток тех, кто попросил закрыть договор или удалил аккаунт. Однако клиенты не всегда уходят демонстративно: чаще перестают пользоваться сервисом тихо.\n",
    "\n",
    "Индикаторы оттока зависят от специфики отрасли. Когда пользователь редко, но стабильно закупается в интернет-магазине — не похоже, что он «отвалился». А вот если две недели не заходит на канал с ежедневно обновляемым контентом, дела плохи: подписчик заскучал и, кажется, оставил вас.\n",
    "\n",
    "Для фитнес-центра можно считать, что клиент попал в отток, если за последний месяц ни разу не посетил спортзал. Конечно, не исключено, что он уехал на Бали и по приезде обязательно продолжит ходить на фитнес. Однако чаще бывает наоборот. Если клиент начал новую жизнь с понедельника, немного походил в спортзал, а потом пропал — скорее всего, он не вернётся.\n",
    "\n",
    "Чтобы бороться с оттоком, отдел по работе с клиентами «Культуриста-датасаентиста» перевёл в электронный вид множество клиентских анкет. Задача — провести анализ и подготовить план действий по удержанию клиентов.\n",
    "\n",
    "А именно:\n",
    "- научиться прогнозировать вероятность оттока (на уровне следующего месяца) для каждого клиента;\n",
    "- сформировать типичные портреты клиентов: выделить несколько наиболее ярких групп и охарактеризовать их основные свойства;\n",
    "- проанализировать основные признаки, наиболее сильно влияющие на отток;\n",
    "- сформулировать основные выводы и разработать рекомендации по повышению качества работы с клиентами:\n",
    "        1) выделить целевые группы клиентов;\n",
    "        2) предложить меры по снижению оттока;\n",
    "        3) определить другие особенности взаимодействия с клиентами.\n",
    "\n",
    "#### Описание данных\n",
    "Таблица `/datasets/gym_churn.csv`:\n",
    "\n",
    "Данные клиента за предыдущий до проверки факта оттока месяц:\n",
    "- `gender` — пол;\n",
    "-`Near_Location` — проживание или работа в районе, где находится фитнес-центр;\n",
    "- `Partner` — сотрудник компании-партнёра клуба (сотрудничество с компаниями, чьи сотрудники могут получать скидки на абонемент — в таком случае фитнес-центр хранит информацию о работодателе клиента);\n",
    "- `Promo_friends` — факт первоначальной записи в рамках акции «приведи друга» (использовал промо-код от знакомого при оплате первого абонемента);\n",
    "- `Phone` — наличие контактного телефона;\n",
    "- `Age` — возраст;\n",
    "- `Lifetime` — время с момента первого обращения в фитнес-центр (в месяцах).\n",
    "\n",
    "Информация на основе журнала посещений, покупок и информация о текущем статусе абонемента клиента:\n",
    "- `Contract_period` — длительность текущего действующего абонемента (месяц, 6 месяцев, год);\n",
    "- `Month_to_end_contract` — срок до окончания текущего действующего абонемента (в месяцах);\n",
    "- `Group_visits` — факт посещения групповых занятий;\n",
    "- `Avg_class_frequency_total` — средняя частота посещений в неделю за все время с начала действия абонемента;\n",
    "- `Avg_class_frequency_current_month` — средняя частота посещений в неделю за предыдущий месяц;\n",
    "- `Avg_additional_charges_total` — суммарная выручка от других услуг фитнес-центра: кафе, спорттовары, косметический и массажный салон.\n",
    "- `Churn` — факт оттока в текущем месяце."
   ]
  },
  {
   "cell_type": "markdown",
   "metadata": {},
   "source": [
    "# Шаг 1. Загрузка данных и подготовка их к анализу"
   ]
  },
  {
   "cell_type": "code",
   "execution_count": 1,
   "metadata": {},
   "outputs": [],
   "source": [
    "#Импорт библиотек\n",
    "import pandas as pd\n",
    "import numpy as np\n",
    "import matplotlib.pyplot as plt\n",
    "import seaborn as sns\n",
    "import os\n",
    "\n",
    "from sklearn.model_selection import train_test_split\n",
    "from sklearn.linear_model import LogisticRegression\n",
    "from sklearn.ensemble import RandomForestClassifier\n",
    "from sklearn.metrics import accuracy_score, precision_score, recall_score\n",
    "from sklearn.preprocessing import StandardScaler\n",
    "from scipy.cluster.hierarchy import dendrogram, linkage\n",
    "from sklearn.cluster import KMeans"
   ]
  },
  {
   "cell_type": "code",
   "execution_count": 2,
   "metadata": {},
   "outputs": [],
   "source": [
    "#Функция для чтения таблиц\n",
    "def read_table(name):\n",
    "    pth1 = '/datasets/' + name + '.csv'\n",
    "    pth2 = 'C:\\\\Users\\\\user\\YandexDisk\\Data analyst Yandex 2022\\Проекты\\Project_11 (ML)\\\\' + name + '.csv'\n",
    "    pth3 = 'F:\\\\YandexDisk\\\\Data analyst Yandex 2022\\\\Проекты\\\\Project_11 (ML)\\\\' + name +'.csv'\n",
    "\n",
    "    if os.path.exists(pth1):\n",
    "        table = pd.read_csv(pth1, sep=',')\n",
    "    elif os.path.exists(pth2):\n",
    "        table = pd.read_csv(pth2, sep=',')\n",
    "    elif os.path.exists(pth3):\n",
    "        table = pd.read_csv(pth3, sep=',')\n",
    "    else:\n",
    "        raise FileNotFoundError()\n",
    "        return\n",
    "    return table\n",
    "\n",
    "#Читаем датасет\n",
    "data = read_table('gym_churn')"
   ]
  },
  {
   "cell_type": "code",
   "execution_count": 3,
   "metadata": {
    "scrolled": true
   },
   "outputs": [
    {
     "name": "stdout",
     "output_type": "stream",
     "text": [
      "<class 'pandas.core.frame.DataFrame'>\n",
      "RangeIndex: 4000 entries, 0 to 3999\n",
      "Data columns (total 14 columns):\n",
      " #   Column                             Non-Null Count  Dtype  \n",
      "---  ------                             --------------  -----  \n",
      " 0   gender                             4000 non-null   int64  \n",
      " 1   Near_Location                      4000 non-null   int64  \n",
      " 2   Partner                            4000 non-null   int64  \n",
      " 3   Promo_friends                      4000 non-null   int64  \n",
      " 4   Phone                              4000 non-null   int64  \n",
      " 5   Contract_period                    4000 non-null   int64  \n",
      " 6   Group_visits                       4000 non-null   int64  \n",
      " 7   Age                                4000 non-null   int64  \n",
      " 8   Avg_additional_charges_total       4000 non-null   float64\n",
      " 9   Month_to_end_contract              4000 non-null   float64\n",
      " 10  Lifetime                           4000 non-null   int64  \n",
      " 11  Avg_class_frequency_total          4000 non-null   float64\n",
      " 12  Avg_class_frequency_current_month  4000 non-null   float64\n",
      " 13  Churn                              4000 non-null   int64  \n",
      "dtypes: float64(4), int64(10)\n",
      "memory usage: 437.6 KB\n"
     ]
    }
   ],
   "source": [
    "#общая информация о датасете\n",
    "data.info()"
   ]
  },
  {
   "cell_type": "code",
   "execution_count": 4,
   "metadata": {},
   "outputs": [
    {
     "data": {
      "text/html": [
       "<div>\n",
       "<style scoped>\n",
       "    .dataframe tbody tr th:only-of-type {\n",
       "        vertical-align: middle;\n",
       "    }\n",
       "\n",
       "    .dataframe tbody tr th {\n",
       "        vertical-align: top;\n",
       "    }\n",
       "\n",
       "    .dataframe thead th {\n",
       "        text-align: right;\n",
       "    }\n",
       "</style>\n",
       "<table border=\"1\" class=\"dataframe\">\n",
       "  <thead>\n",
       "    <tr style=\"text-align: right;\">\n",
       "      <th></th>\n",
       "      <th>gender</th>\n",
       "      <th>Near_Location</th>\n",
       "      <th>Partner</th>\n",
       "      <th>Promo_friends</th>\n",
       "      <th>Phone</th>\n",
       "      <th>Contract_period</th>\n",
       "      <th>Group_visits</th>\n",
       "      <th>Age</th>\n",
       "      <th>Avg_additional_charges_total</th>\n",
       "      <th>Month_to_end_contract</th>\n",
       "      <th>Lifetime</th>\n",
       "      <th>Avg_class_frequency_total</th>\n",
       "      <th>Avg_class_frequency_current_month</th>\n",
       "      <th>Churn</th>\n",
       "    </tr>\n",
       "  </thead>\n",
       "  <tbody>\n",
       "    <tr>\n",
       "      <th>0</th>\n",
       "      <td>1</td>\n",
       "      <td>1</td>\n",
       "      <td>1</td>\n",
       "      <td>1</td>\n",
       "      <td>0</td>\n",
       "      <td>6</td>\n",
       "      <td>1</td>\n",
       "      <td>29</td>\n",
       "      <td>14.227470</td>\n",
       "      <td>5.0</td>\n",
       "      <td>3</td>\n",
       "      <td>0.020398</td>\n",
       "      <td>0.000000</td>\n",
       "      <td>0</td>\n",
       "    </tr>\n",
       "    <tr>\n",
       "      <th>1</th>\n",
       "      <td>0</td>\n",
       "      <td>1</td>\n",
       "      <td>0</td>\n",
       "      <td>0</td>\n",
       "      <td>1</td>\n",
       "      <td>12</td>\n",
       "      <td>1</td>\n",
       "      <td>31</td>\n",
       "      <td>113.202938</td>\n",
       "      <td>12.0</td>\n",
       "      <td>7</td>\n",
       "      <td>1.922936</td>\n",
       "      <td>1.910244</td>\n",
       "      <td>0</td>\n",
       "    </tr>\n",
       "    <tr>\n",
       "      <th>2</th>\n",
       "      <td>0</td>\n",
       "      <td>1</td>\n",
       "      <td>1</td>\n",
       "      <td>0</td>\n",
       "      <td>1</td>\n",
       "      <td>1</td>\n",
       "      <td>0</td>\n",
       "      <td>28</td>\n",
       "      <td>129.448479</td>\n",
       "      <td>1.0</td>\n",
       "      <td>2</td>\n",
       "      <td>1.859098</td>\n",
       "      <td>1.736502</td>\n",
       "      <td>0</td>\n",
       "    </tr>\n",
       "    <tr>\n",
       "      <th>3</th>\n",
       "      <td>0</td>\n",
       "      <td>1</td>\n",
       "      <td>1</td>\n",
       "      <td>1</td>\n",
       "      <td>1</td>\n",
       "      <td>12</td>\n",
       "      <td>1</td>\n",
       "      <td>33</td>\n",
       "      <td>62.669863</td>\n",
       "      <td>12.0</td>\n",
       "      <td>2</td>\n",
       "      <td>3.205633</td>\n",
       "      <td>3.357215</td>\n",
       "      <td>0</td>\n",
       "    </tr>\n",
       "    <tr>\n",
       "      <th>4</th>\n",
       "      <td>1</td>\n",
       "      <td>1</td>\n",
       "      <td>1</td>\n",
       "      <td>1</td>\n",
       "      <td>1</td>\n",
       "      <td>1</td>\n",
       "      <td>0</td>\n",
       "      <td>26</td>\n",
       "      <td>198.362265</td>\n",
       "      <td>1.0</td>\n",
       "      <td>3</td>\n",
       "      <td>1.113884</td>\n",
       "      <td>1.120078</td>\n",
       "      <td>0</td>\n",
       "    </tr>\n",
       "  </tbody>\n",
       "</table>\n",
       "</div>"
      ],
      "text/plain": [
       "   gender  Near_Location  Partner  Promo_friends  Phone  Contract_period  \\\n",
       "0       1              1        1              1      0                6   \n",
       "1       0              1        0              0      1               12   \n",
       "2       0              1        1              0      1                1   \n",
       "3       0              1        1              1      1               12   \n",
       "4       1              1        1              1      1                1   \n",
       "\n",
       "   Group_visits  Age  Avg_additional_charges_total  Month_to_end_contract  \\\n",
       "0             1   29                     14.227470                    5.0   \n",
       "1             1   31                    113.202938                   12.0   \n",
       "2             0   28                    129.448479                    1.0   \n",
       "3             1   33                     62.669863                   12.0   \n",
       "4             0   26                    198.362265                    1.0   \n",
       "\n",
       "   Lifetime  Avg_class_frequency_total  Avg_class_frequency_current_month  \\\n",
       "0         3                   0.020398                           0.000000   \n",
       "1         7                   1.922936                           1.910244   \n",
       "2         2                   1.859098                           1.736502   \n",
       "3         2                   3.205633                           3.357215   \n",
       "4         3                   1.113884                           1.120078   \n",
       "\n",
       "   Churn  \n",
       "0      0  \n",
       "1      0  \n",
       "2      0  \n",
       "3      0  \n",
       "4      0  "
      ]
     },
     "execution_count": 4,
     "metadata": {},
     "output_type": "execute_result"
    }
   ],
   "source": [
    "#первые пять строк\n",
    "data.head()"
   ]
  },
  {
   "cell_type": "code",
   "execution_count": 5,
   "metadata": {},
   "outputs": [
    {
     "data": {
      "text/plain": [
       "0"
      ]
     },
     "execution_count": 5,
     "metadata": {},
     "output_type": "execute_result"
    }
   ],
   "source": [
    "#проверяем на наличие явных дубликатов\n",
    "data.duplicated().sum()"
   ]
  },
  {
   "cell_type": "code",
   "execution_count": 6,
   "metadata": {},
   "outputs": [
    {
     "data": {
      "text/plain": [
       "1    2041\n",
       "0    1959\n",
       "Name: gender, dtype: int64"
      ]
     },
     "metadata": {},
     "output_type": "display_data"
    },
    {
     "data": {
      "text/plain": [
       "1    3381\n",
       "0     619\n",
       "Name: Near_Location, dtype: int64"
      ]
     },
     "metadata": {},
     "output_type": "display_data"
    },
    {
     "data": {
      "text/plain": [
       "0    2053\n",
       "1    1947\n",
       "Name: Partner, dtype: int64"
      ]
     },
     "metadata": {},
     "output_type": "display_data"
    },
    {
     "data": {
      "text/plain": [
       "0    2766\n",
       "1    1234\n",
       "Name: Promo_friends, dtype: int64"
      ]
     },
     "metadata": {},
     "output_type": "display_data"
    },
    {
     "data": {
      "text/plain": [
       "1    3614\n",
       "0     386\n",
       "Name: Phone, dtype: int64"
      ]
     },
     "metadata": {},
     "output_type": "display_data"
    },
    {
     "data": {
      "text/plain": [
       "1     2207\n",
       "12     960\n",
       "6      833\n",
       "Name: Contract_period, dtype: int64"
      ]
     },
     "metadata": {},
     "output_type": "display_data"
    },
    {
     "data": {
      "text/plain": [
       "0    2351\n",
       "1    1649\n",
       "Name: Group_visits, dtype: int64"
      ]
     },
     "metadata": {},
     "output_type": "display_data"
    },
    {
     "data": {
      "text/plain": [
       "29    468\n",
       "30    457\n",
       "28    447\n",
       "31    434\n",
       "27    378\n",
       "32    364\n",
       "26    300\n",
       "33    253\n",
       "25    231\n",
       "34    174\n",
       "24    148\n",
       "35     98\n",
       "23     82\n",
       "36     48\n",
       "22     33\n",
       "37     29\n",
       "21     24\n",
       "20     14\n",
       "38     10\n",
       "39      3\n",
       "19      2\n",
       "18      2\n",
       "41      1\n",
       "Name: Age, dtype: int64"
      ]
     },
     "metadata": {},
     "output_type": "display_data"
    }
   ],
   "source": [
    "#проверяем на наличие неявных дубликатов\n",
    "for feature in data.loc[:, 'gender':'Age'].columns:\n",
    "    display(data[feature].value_counts())"
   ]
  },
  {
   "cell_type": "markdown",
   "metadata": {},
   "source": [
    "# Шаг 2. Исследовательский анализ данных"
   ]
  },
  {
   "cell_type": "code",
   "execution_count": 7,
   "metadata": {
    "scrolled": true
   },
   "outputs": [
    {
     "data": {
      "text/html": [
       "<div>\n",
       "<style scoped>\n",
       "    .dataframe tbody tr th:only-of-type {\n",
       "        vertical-align: middle;\n",
       "    }\n",
       "\n",
       "    .dataframe tbody tr th {\n",
       "        vertical-align: top;\n",
       "    }\n",
       "\n",
       "    .dataframe thead th {\n",
       "        text-align: right;\n",
       "    }\n",
       "</style>\n",
       "<table border=\"1\" class=\"dataframe\">\n",
       "  <thead>\n",
       "    <tr style=\"text-align: right;\">\n",
       "      <th></th>\n",
       "      <th>gender</th>\n",
       "      <th>Near_Location</th>\n",
       "      <th>Partner</th>\n",
       "      <th>Promo_friends</th>\n",
       "      <th>Phone</th>\n",
       "      <th>Contract_period</th>\n",
       "      <th>Group_visits</th>\n",
       "      <th>Age</th>\n",
       "      <th>Avg_additional_charges_total</th>\n",
       "      <th>Month_to_end_contract</th>\n",
       "      <th>Lifetime</th>\n",
       "      <th>Avg_class_frequency_total</th>\n",
       "      <th>Avg_class_frequency_current_month</th>\n",
       "      <th>Churn</th>\n",
       "    </tr>\n",
       "  </thead>\n",
       "  <tbody>\n",
       "    <tr>\n",
       "      <th>count</th>\n",
       "      <td>4000.000000</td>\n",
       "      <td>4000.000000</td>\n",
       "      <td>4000.000000</td>\n",
       "      <td>4000.000000</td>\n",
       "      <td>4000.000000</td>\n",
       "      <td>4000.000000</td>\n",
       "      <td>4000.000000</td>\n",
       "      <td>4000.000000</td>\n",
       "      <td>4000.000000</td>\n",
       "      <td>4000.000000</td>\n",
       "      <td>4000.000000</td>\n",
       "      <td>4000.000000</td>\n",
       "      <td>4000.000000</td>\n",
       "      <td>4000.000000</td>\n",
       "    </tr>\n",
       "    <tr>\n",
       "      <th>mean</th>\n",
       "      <td>0.510250</td>\n",
       "      <td>0.845250</td>\n",
       "      <td>0.486750</td>\n",
       "      <td>0.308500</td>\n",
       "      <td>0.903500</td>\n",
       "      <td>4.681250</td>\n",
       "      <td>0.412250</td>\n",
       "      <td>29.184250</td>\n",
       "      <td>146.943728</td>\n",
       "      <td>4.322750</td>\n",
       "      <td>3.724750</td>\n",
       "      <td>1.879020</td>\n",
       "      <td>1.767052</td>\n",
       "      <td>0.265250</td>\n",
       "    </tr>\n",
       "    <tr>\n",
       "      <th>std</th>\n",
       "      <td>0.499957</td>\n",
       "      <td>0.361711</td>\n",
       "      <td>0.499887</td>\n",
       "      <td>0.461932</td>\n",
       "      <td>0.295313</td>\n",
       "      <td>4.549706</td>\n",
       "      <td>0.492301</td>\n",
       "      <td>3.258367</td>\n",
       "      <td>96.355602</td>\n",
       "      <td>4.191297</td>\n",
       "      <td>3.749267</td>\n",
       "      <td>0.972245</td>\n",
       "      <td>1.052906</td>\n",
       "      <td>0.441521</td>\n",
       "    </tr>\n",
       "    <tr>\n",
       "      <th>min</th>\n",
       "      <td>0.000000</td>\n",
       "      <td>0.000000</td>\n",
       "      <td>0.000000</td>\n",
       "      <td>0.000000</td>\n",
       "      <td>0.000000</td>\n",
       "      <td>1.000000</td>\n",
       "      <td>0.000000</td>\n",
       "      <td>18.000000</td>\n",
       "      <td>0.148205</td>\n",
       "      <td>1.000000</td>\n",
       "      <td>0.000000</td>\n",
       "      <td>0.000000</td>\n",
       "      <td>0.000000</td>\n",
       "      <td>0.000000</td>\n",
       "    </tr>\n",
       "    <tr>\n",
       "      <th>25%</th>\n",
       "      <td>0.000000</td>\n",
       "      <td>1.000000</td>\n",
       "      <td>0.000000</td>\n",
       "      <td>0.000000</td>\n",
       "      <td>1.000000</td>\n",
       "      <td>1.000000</td>\n",
       "      <td>0.000000</td>\n",
       "      <td>27.000000</td>\n",
       "      <td>68.868830</td>\n",
       "      <td>1.000000</td>\n",
       "      <td>1.000000</td>\n",
       "      <td>1.180875</td>\n",
       "      <td>0.963003</td>\n",
       "      <td>0.000000</td>\n",
       "    </tr>\n",
       "    <tr>\n",
       "      <th>50%</th>\n",
       "      <td>1.000000</td>\n",
       "      <td>1.000000</td>\n",
       "      <td>0.000000</td>\n",
       "      <td>0.000000</td>\n",
       "      <td>1.000000</td>\n",
       "      <td>1.000000</td>\n",
       "      <td>0.000000</td>\n",
       "      <td>29.000000</td>\n",
       "      <td>136.220159</td>\n",
       "      <td>1.000000</td>\n",
       "      <td>3.000000</td>\n",
       "      <td>1.832768</td>\n",
       "      <td>1.719574</td>\n",
       "      <td>0.000000</td>\n",
       "    </tr>\n",
       "    <tr>\n",
       "      <th>75%</th>\n",
       "      <td>1.000000</td>\n",
       "      <td>1.000000</td>\n",
       "      <td>1.000000</td>\n",
       "      <td>1.000000</td>\n",
       "      <td>1.000000</td>\n",
       "      <td>6.000000</td>\n",
       "      <td>1.000000</td>\n",
       "      <td>31.000000</td>\n",
       "      <td>210.949625</td>\n",
       "      <td>6.000000</td>\n",
       "      <td>5.000000</td>\n",
       "      <td>2.536078</td>\n",
       "      <td>2.510336</td>\n",
       "      <td>1.000000</td>\n",
       "    </tr>\n",
       "    <tr>\n",
       "      <th>max</th>\n",
       "      <td>1.000000</td>\n",
       "      <td>1.000000</td>\n",
       "      <td>1.000000</td>\n",
       "      <td>1.000000</td>\n",
       "      <td>1.000000</td>\n",
       "      <td>12.000000</td>\n",
       "      <td>1.000000</td>\n",
       "      <td>41.000000</td>\n",
       "      <td>552.590740</td>\n",
       "      <td>12.000000</td>\n",
       "      <td>31.000000</td>\n",
       "      <td>6.023668</td>\n",
       "      <td>6.146783</td>\n",
       "      <td>1.000000</td>\n",
       "    </tr>\n",
       "  </tbody>\n",
       "</table>\n",
       "</div>"
      ],
      "text/plain": [
       "            gender  Near_Location      Partner  Promo_friends        Phone  \\\n",
       "count  4000.000000    4000.000000  4000.000000    4000.000000  4000.000000   \n",
       "mean      0.510250       0.845250     0.486750       0.308500     0.903500   \n",
       "std       0.499957       0.361711     0.499887       0.461932     0.295313   \n",
       "min       0.000000       0.000000     0.000000       0.000000     0.000000   \n",
       "25%       0.000000       1.000000     0.000000       0.000000     1.000000   \n",
       "50%       1.000000       1.000000     0.000000       0.000000     1.000000   \n",
       "75%       1.000000       1.000000     1.000000       1.000000     1.000000   \n",
       "max       1.000000       1.000000     1.000000       1.000000     1.000000   \n",
       "\n",
       "       Contract_period  Group_visits          Age  \\\n",
       "count      4000.000000   4000.000000  4000.000000   \n",
       "mean          4.681250      0.412250    29.184250   \n",
       "std           4.549706      0.492301     3.258367   \n",
       "min           1.000000      0.000000    18.000000   \n",
       "25%           1.000000      0.000000    27.000000   \n",
       "50%           1.000000      0.000000    29.000000   \n",
       "75%           6.000000      1.000000    31.000000   \n",
       "max          12.000000      1.000000    41.000000   \n",
       "\n",
       "       Avg_additional_charges_total  Month_to_end_contract     Lifetime  \\\n",
       "count                   4000.000000            4000.000000  4000.000000   \n",
       "mean                     146.943728               4.322750     3.724750   \n",
       "std                       96.355602               4.191297     3.749267   \n",
       "min                        0.148205               1.000000     0.000000   \n",
       "25%                       68.868830               1.000000     1.000000   \n",
       "50%                      136.220159               1.000000     3.000000   \n",
       "75%                      210.949625               6.000000     5.000000   \n",
       "max                      552.590740              12.000000    31.000000   \n",
       "\n",
       "       Avg_class_frequency_total  Avg_class_frequency_current_month  \\\n",
       "count                4000.000000                        4000.000000   \n",
       "mean                    1.879020                           1.767052   \n",
       "std                     0.972245                           1.052906   \n",
       "min                     0.000000                           0.000000   \n",
       "25%                     1.180875                           0.963003   \n",
       "50%                     1.832768                           1.719574   \n",
       "75%                     2.536078                           2.510336   \n",
       "max                     6.023668                           6.146783   \n",
       "\n",
       "             Churn  \n",
       "count  4000.000000  \n",
       "mean      0.265250  \n",
       "std       0.441521  \n",
       "min       0.000000  \n",
       "25%       0.000000  \n",
       "50%       0.000000  \n",
       "75%       1.000000  \n",
       "max       1.000000  "
      ]
     },
     "execution_count": 7,
     "metadata": {},
     "output_type": "execute_result"
    }
   ],
   "source": [
    "#изучим распределения по признакам датасета\n",
    "data.describe()"
   ]
  },
  {
   "cell_type": "markdown",
   "metadata": {},
   "source": [
    "Можно выделить следующие факты:\n",
    "- Мужчины и женщины в пропорции почти 50 на 50.\n",
    "- Живут или работают рядом с фитнес-центром 85%.\n",
    "- Почти половина клиентов - сотрудники компаний-партнеров. \n",
    "- 30% всех клиентов пришли по акции \"Приведи друга\".\n",
    "- Телефон указан у 90% клиентов.\n",
    "- Средний абонемент 4,7 месяца, медианный 1 месяц.\n",
    "- 41% посещал групповые занятия. \n",
    "- Средний и медианный возраст клиентов 29 лет."
   ]
  },
  {
   "cell_type": "code",
   "execution_count": 8,
   "metadata": {},
   "outputs": [
    {
     "data": {
      "text/html": [
       "<div>\n",
       "<style scoped>\n",
       "    .dataframe tbody tr th:only-of-type {\n",
       "        vertical-align: middle;\n",
       "    }\n",
       "\n",
       "    .dataframe tbody tr th {\n",
       "        vertical-align: top;\n",
       "    }\n",
       "\n",
       "    .dataframe thead th {\n",
       "        text-align: right;\n",
       "    }\n",
       "</style>\n",
       "<table border=\"1\" class=\"dataframe\">\n",
       "  <thead>\n",
       "    <tr style=\"text-align: right;\">\n",
       "      <th></th>\n",
       "      <th>gender</th>\n",
       "      <th>Near_Location</th>\n",
       "      <th>Partner</th>\n",
       "      <th>Promo_friends</th>\n",
       "      <th>Phone</th>\n",
       "      <th>Contract_period</th>\n",
       "      <th>Group_visits</th>\n",
       "      <th>Age</th>\n",
       "      <th>Avg_additional_charges_total</th>\n",
       "      <th>Month_to_end_contract</th>\n",
       "      <th>Lifetime</th>\n",
       "      <th>Avg_class_frequency_total</th>\n",
       "      <th>Avg_class_frequency_current_month</th>\n",
       "    </tr>\n",
       "    <tr>\n",
       "      <th>Churn</th>\n",
       "      <th></th>\n",
       "      <th></th>\n",
       "      <th></th>\n",
       "      <th></th>\n",
       "      <th></th>\n",
       "      <th></th>\n",
       "      <th></th>\n",
       "      <th></th>\n",
       "      <th></th>\n",
       "      <th></th>\n",
       "      <th></th>\n",
       "      <th></th>\n",
       "      <th></th>\n",
       "    </tr>\n",
       "  </thead>\n",
       "  <tbody>\n",
       "    <tr>\n",
       "      <th>0</th>\n",
       "      <td>0.510037</td>\n",
       "      <td>0.873086</td>\n",
       "      <td>0.534195</td>\n",
       "      <td>0.353522</td>\n",
       "      <td>0.903709</td>\n",
       "      <td>5.747193</td>\n",
       "      <td>0.464103</td>\n",
       "      <td>29.976523</td>\n",
       "      <td>158.445715</td>\n",
       "      <td>5.283089</td>\n",
       "      <td>4.711807</td>\n",
       "      <td>2.024876</td>\n",
       "      <td>2.027882</td>\n",
       "    </tr>\n",
       "    <tr>\n",
       "      <th>1</th>\n",
       "      <td>0.510839</td>\n",
       "      <td>0.768143</td>\n",
       "      <td>0.355325</td>\n",
       "      <td>0.183789</td>\n",
       "      <td>0.902922</td>\n",
       "      <td>1.728558</td>\n",
       "      <td>0.268615</td>\n",
       "      <td>26.989632</td>\n",
       "      <td>115.082899</td>\n",
       "      <td>1.662582</td>\n",
       "      <td>0.990575</td>\n",
       "      <td>1.474995</td>\n",
       "      <td>1.044546</td>\n",
       "    </tr>\n",
       "  </tbody>\n",
       "</table>\n",
       "</div>"
      ],
      "text/plain": [
       "         gender  Near_Location   Partner  Promo_friends     Phone  \\\n",
       "Churn                                                               \n",
       "0      0.510037       0.873086  0.534195       0.353522  0.903709   \n",
       "1      0.510839       0.768143  0.355325       0.183789  0.902922   \n",
       "\n",
       "       Contract_period  Group_visits        Age  Avg_additional_charges_total  \\\n",
       "Churn                                                                           \n",
       "0             5.747193      0.464103  29.976523                    158.445715   \n",
       "1             1.728558      0.268615  26.989632                    115.082899   \n",
       "\n",
       "       Month_to_end_contract  Lifetime  Avg_class_frequency_total  \\\n",
       "Churn                                                               \n",
       "0                   5.283089  4.711807                   2.024876   \n",
       "1                   1.662582  0.990575                   1.474995   \n",
       "\n",
       "       Avg_class_frequency_current_month  \n",
       "Churn                                     \n",
       "0                               2.027882  \n",
       "1                               1.044546  "
      ]
     },
     "execution_count": 8,
     "metadata": {},
     "output_type": "execute_result"
    }
   ],
   "source": [
    "#Посмотрим на средние значения признаков по группам оставшихся и в оттоке\n",
    "data.groupby('Churn').agg('mean')"
   ]
  },
  {
   "cell_type": "markdown",
   "metadata": {},
   "source": [
    "Обнаруженные основные зависимости:\n",
    "- Факт оттока не зависит от пола клиента. \n",
    "- Чуть чаще уходят те, кто не работает или не живет рядом с фитнес-центром.\n",
    "- Чуть чаще уходят те, кто не работает в компаниях-партнерах.\n",
    "- Чаще уходят клиенты с короткими абонементами.\n",
    "- Посетившие групповые занятия уходят реже.\n",
    "- Средний возраст клиента в оттоке ниже.\n",
    "- Чаще уходят клиенты с малым лайфтаймом и те, кто редко посещал."
   ]
  },
  {
   "cell_type": "markdown",
   "metadata": {},
   "source": [
    "Построим столбчатые гистограммы для категориальных признаков и гистограммы распределения для числовых."
   ]
  },
  {
   "cell_type": "code",
   "execution_count": 9,
   "metadata": {},
   "outputs": [
    {
     "data": {
      "image/png": "[encoded data removed]",
      "text/plain": [
       "<Figure size 1080x720 with 8 Axes>"
      ]
     },
     "metadata": {
      "needs_background": "light"
     },
     "output_type": "display_data"
    },
    {
     "data": {
      "image/png": "[encoded data removed]",
      "text/plain": [
       "<Figure size 1080x720 with 6 Axes>"
      ]
     },
     "metadata": {
      "needs_background": "light"
     },
     "output_type": "display_data"
    }
   ],
   "source": [
    "#классифицируем признаки\n",
    "categorial = ['gender', 'Near_Location', 'Partner', 'Promo_friends', 'Phone', 'Contract_period', 'Group_visits', 'Churn']\n",
    "numeric = ['Age', 'Avg_additional_charges_total', 'Month_to_end_contract', 'Lifetime', 'Avg_class_frequency_total', 'Avg_class_frequency_current_month']\n",
    "\n",
    "#обрабатываем категориальные признаки\n",
    "plt.figure(figsize=(15, 10))\n",
    "for i in range(len(categorial)):\n",
    "    ax = plt.subplot(3, 3, i+1)\n",
    "    data.pivot_table(index=categorial[i], values='Age', aggfunc='count').plot(kind='bar', legend=False, ax=ax) \n",
    "plt.show()\n",
    "\n",
    "#обрабатываем числовые признаки\n",
    "plt.figure(figsize=(15, 10))\n",
    "for i in range(len(numeric)):\n",
    "    ax = plt.subplot(2, 3, i+1)\n",
    "    data[numeric[i]].hist(ax=ax)\n",
    "    plt.title(numeric[i])\n",
    "plt.show()"
   ]
  },
  {
   "cell_type": "code",
   "execution_count": 10,
   "metadata": {},
   "outputs": [
    {
     "data": {
      "image/png": "[encoded data removed]",
      "text/plain": [
       "<Figure size 720x360 with 1 Axes>"
      ]
     },
     "metadata": {
      "needs_background": "light"
     },
     "output_type": "display_data"
    },
    {
     "data": {
      "image/png": "[encoded data removed]",
      "text/plain": [
       "<Figure size 720x360 with 1 Axes>"
      ]
     },
     "metadata": {
      "needs_background": "light"
     },
     "output_type": "display_data"
    },
    {
     "data": {
      "image/png": "[encoded data removed]",
      "text/plain": [
       "<Figure size 720x360 with 1 Axes>"
      ]
     },
     "metadata": {
      "needs_background": "light"
     },
     "output_type": "display_data"
    },
    {
     "data": {
      "image/png": "[encoded data removed]",
      "text/plain": [
       "<Figure size 720x360 with 1 Axes>"
      ]
     },
     "metadata": {
      "needs_background": "light"
     },
     "output_type": "display_data"
    },
    {
     "data": {
      "image/png": "[encoded data removed]",
      "text/plain": [
       "<Figure size 720x360 with 1 Axes>"
      ]
     },
     "metadata": {
      "needs_background": "light"
     },
     "output_type": "display_data"
    },
    {
     "data": {
      "image/png": "[encoded data removed]",
      "text/plain": [
       "<Figure size 720x360 with 1 Axes>"
      ]
     },
     "metadata": {
      "needs_background": "light"
     },
     "output_type": "display_data"
    },
    {
     "data": {
      "image/png": "[encoded data removed]",
      "text/plain": [
       "<Figure size 720x360 with 1 Axes>"
      ]
     },
     "metadata": {
      "needs_background": "light"
     },
     "output_type": "display_data"
    },
    {
     "data": {
      "image/png": "[encoded data removed]",
      "text/plain": [
       "<Figure size 720x360 with 1 Axes>"
      ]
     },
     "metadata": {
      "needs_background": "light"
     },
     "output_type": "display_data"
    },
    {
     "data": {
      "image/png": "[encoded data removed]",
      "text/plain": [
       "<Figure size 720x360 with 1 Axes>"
      ]
     },
     "metadata": {
      "needs_background": "light"
     },
     "output_type": "display_data"
    },
    {
     "data": {
      "image/png": "[encoded data removed]",
      "text/plain": [
       "<Figure size 720x360 with 1 Axes>"
      ]
     },
     "metadata": {
      "needs_background": "light"
     },
     "output_type": "display_data"
    },
    {
     "data": {
      "image/png": "[encoded data removed]",
      "text/plain": [
       "<Figure size 720x360 with 1 Axes>"
      ]
     },
     "metadata": {
      "needs_background": "light"
     },
     "output_type": "display_data"
    },
    {
     "data": {
      "image/png": "[encoded data removed]",
      "text/plain": [
       "<Figure size 720x360 with 1 Axes>"
      ]
     },
     "metadata": {
      "needs_background": "light"
     },
     "output_type": "display_data"
    },
    {
     "data": {
      "image/png": "[encoded data removed]",
      "text/plain": [
       "<Figure size 720x360 with 1 Axes>"
      ]
     },
     "metadata": {
      "needs_background": "light"
     },
     "output_type": "display_data"
    },
    {
     "data": {
      "image/png": "[encoded data removed]",
      "text/plain": [
       "<Figure size 720x360 with 1 Axes>"
      ]
     },
     "metadata": {
      "needs_background": "light"
     },
     "output_type": "display_data"
    }
   ],
   "source": [
    "#Доработка\n",
    "import warnings\n",
    "warnings.filterwarnings('ignore') #убираю предупреждение python\n",
    "\n",
    "int_features = data.columns\n",
    "\n",
    "for col in int_features:\n",
    "    plt.figure(figsize=(10, 5))\n",
    "    sns.distplot(data.query('Churn==0')[col])\n",
    "    sns.distplot(data.query('Churn!=0')[col], color = 'r')\n",
    "    plt.legend(labels = ('Остались', 'Ушли'))\n",
    "    plt.title('Распределение для признака ' + col)\n",
    "    plt.show()"
   ]
  },
  {
   "cell_type": "markdown",
   "metadata": {},
   "source": [
    "Данные получены и готовы к анализу. Дубликатов не обнаружено. Аномалий также не замечено, распределение числовых признаков на гистограммах визуально выглдит близким к нормальному. Гистограммы категорианых признаков подтверждают ранее сделанные выводы о данных.\n",
    "\n",
    "Построим матрицу и хитмэп корреляций между признаками."
   ]
  },
  {
   "cell_type": "code",
   "execution_count": 11,
   "metadata": {},
   "outputs": [
    {
     "data": {
      "text/html": [
       "<div>\n",
       "<style scoped>\n",
       "    .dataframe tbody tr th:only-of-type {\n",
       "        vertical-align: middle;\n",
       "    }\n",
       "\n",
       "    .dataframe tbody tr th {\n",
       "        vertical-align: top;\n",
       "    }\n",
       "\n",
       "    .dataframe thead th {\n",
       "        text-align: right;\n",
       "    }\n",
       "</style>\n",
       "<table border=\"1\" class=\"dataframe\">\n",
       "  <thead>\n",
       "    <tr style=\"text-align: right;\">\n",
       "      <th></th>\n",
       "      <th>gender</th>\n",
       "      <th>Near_Location</th>\n",
       "      <th>Partner</th>\n",
       "      <th>Promo_friends</th>\n",
       "      <th>Phone</th>\n",
       "      <th>Contract_period</th>\n",
       "      <th>Group_visits</th>\n",
       "      <th>Age</th>\n",
       "      <th>Avg_additional_charges_total</th>\n",
       "      <th>Month_to_end_contract</th>\n",
       "      <th>Lifetime</th>\n",
       "      <th>Avg_class_frequency_total</th>\n",
       "      <th>Avg_class_frequency_current_month</th>\n",
       "      <th>Churn</th>\n",
       "    </tr>\n",
       "  </thead>\n",
       "  <tbody>\n",
       "    <tr>\n",
       "      <th>gender</th>\n",
       "      <td>1.000000</td>\n",
       "      <td>0.006699</td>\n",
       "      <td>-0.010463</td>\n",
       "      <td>-0.005033</td>\n",
       "      <td>-0.008542</td>\n",
       "      <td>0.000502</td>\n",
       "      <td>0.017879</td>\n",
       "      <td>0.013807</td>\n",
       "      <td>-0.009334</td>\n",
       "      <td>-0.001281</td>\n",
       "      <td>0.013579</td>\n",
       "      <td>0.014620</td>\n",
       "      <td>0.009156</td>\n",
       "      <td>0.000708</td>\n",
       "    </tr>\n",
       "    <tr>\n",
       "      <th>Near_Location</th>\n",
       "      <td>0.006699</td>\n",
       "      <td>1.000000</td>\n",
       "      <td>-0.005119</td>\n",
       "      <td>0.210964</td>\n",
       "      <td>-0.015763</td>\n",
       "      <td>0.150233</td>\n",
       "      <td>0.154728</td>\n",
       "      <td>0.058358</td>\n",
       "      <td>0.040761</td>\n",
       "      <td>0.143961</td>\n",
       "      <td>0.070921</td>\n",
       "      <td>0.043127</td>\n",
       "      <td>0.062664</td>\n",
       "      <td>-0.128098</td>\n",
       "    </tr>\n",
       "    <tr>\n",
       "      <th>Partner</th>\n",
       "      <td>-0.010463</td>\n",
       "      <td>-0.005119</td>\n",
       "      <td>1.000000</td>\n",
       "      <td>0.451960</td>\n",
       "      <td>0.009970</td>\n",
       "      <td>0.306166</td>\n",
       "      <td>0.022710</td>\n",
       "      <td>0.047480</td>\n",
       "      <td>0.022941</td>\n",
       "      <td>0.294632</td>\n",
       "      <td>0.061229</td>\n",
       "      <td>0.024938</td>\n",
       "      <td>0.045561</td>\n",
       "      <td>-0.157986</td>\n",
       "    </tr>\n",
       "    <tr>\n",
       "      <th>Promo_friends</th>\n",
       "      <td>-0.005033</td>\n",
       "      <td>0.210964</td>\n",
       "      <td>0.451960</td>\n",
       "      <td>1.000000</td>\n",
       "      <td>0.001982</td>\n",
       "      <td>0.244552</td>\n",
       "      <td>0.120170</td>\n",
       "      <td>0.050113</td>\n",
       "      <td>0.036898</td>\n",
       "      <td>0.239553</td>\n",
       "      <td>0.072721</td>\n",
       "      <td>0.028063</td>\n",
       "      <td>0.053768</td>\n",
       "      <td>-0.162233</td>\n",
       "    </tr>\n",
       "    <tr>\n",
       "      <th>Phone</th>\n",
       "      <td>-0.008542</td>\n",
       "      <td>-0.015763</td>\n",
       "      <td>0.009970</td>\n",
       "      <td>0.001982</td>\n",
       "      <td>1.000000</td>\n",
       "      <td>-0.006893</td>\n",
       "      <td>-0.010099</td>\n",
       "      <td>-0.011403</td>\n",
       "      <td>0.009279</td>\n",
       "      <td>-0.011196</td>\n",
       "      <td>-0.018801</td>\n",
       "      <td>0.008340</td>\n",
       "      <td>0.013375</td>\n",
       "      <td>-0.001177</td>\n",
       "    </tr>\n",
       "    <tr>\n",
       "      <th>Contract_period</th>\n",
       "      <td>0.000502</td>\n",
       "      <td>0.150233</td>\n",
       "      <td>0.306166</td>\n",
       "      <td>0.244552</td>\n",
       "      <td>-0.006893</td>\n",
       "      <td>1.000000</td>\n",
       "      <td>0.169991</td>\n",
       "      <td>0.138249</td>\n",
       "      <td>0.111445</td>\n",
       "      <td>0.973064</td>\n",
       "      <td>0.170725</td>\n",
       "      <td>0.096211</td>\n",
       "      <td>0.159407</td>\n",
       "      <td>-0.389984</td>\n",
       "    </tr>\n",
       "    <tr>\n",
       "      <th>Group_visits</th>\n",
       "      <td>0.017879</td>\n",
       "      <td>0.154728</td>\n",
       "      <td>0.022710</td>\n",
       "      <td>0.120170</td>\n",
       "      <td>-0.010099</td>\n",
       "      <td>0.169991</td>\n",
       "      <td>1.000000</td>\n",
       "      <td>0.080934</td>\n",
       "      <td>0.032079</td>\n",
       "      <td>0.163703</td>\n",
       "      <td>0.075853</td>\n",
       "      <td>0.056695</td>\n",
       "      <td>0.075923</td>\n",
       "      <td>-0.175325</td>\n",
       "    </tr>\n",
       "    <tr>\n",
       "      <th>Age</th>\n",
       "      <td>0.013807</td>\n",
       "      <td>0.058358</td>\n",
       "      <td>0.047480</td>\n",
       "      <td>0.050113</td>\n",
       "      <td>-0.011403</td>\n",
       "      <td>0.138249</td>\n",
       "      <td>0.080934</td>\n",
       "      <td>1.000000</td>\n",
       "      <td>0.080240</td>\n",
       "      <td>0.134511</td>\n",
       "      <td>0.164693</td>\n",
       "      <td>0.119953</td>\n",
       "      <td>0.183095</td>\n",
       "      <td>-0.404735</td>\n",
       "    </tr>\n",
       "    <tr>\n",
       "      <th>Avg_additional_charges_total</th>\n",
       "      <td>-0.009334</td>\n",
       "      <td>0.040761</td>\n",
       "      <td>0.022941</td>\n",
       "      <td>0.036898</td>\n",
       "      <td>0.009279</td>\n",
       "      <td>0.111445</td>\n",
       "      <td>0.032079</td>\n",
       "      <td>0.080240</td>\n",
       "      <td>1.000000</td>\n",
       "      <td>0.113958</td>\n",
       "      <td>0.079028</td>\n",
       "      <td>0.044426</td>\n",
       "      <td>0.079570</td>\n",
       "      <td>-0.198697</td>\n",
       "    </tr>\n",
       "    <tr>\n",
       "      <th>Month_to_end_contract</th>\n",
       "      <td>-0.001281</td>\n",
       "      <td>0.143961</td>\n",
       "      <td>0.294632</td>\n",
       "      <td>0.239553</td>\n",
       "      <td>-0.011196</td>\n",
       "      <td>0.973064</td>\n",
       "      <td>0.163703</td>\n",
       "      <td>0.134511</td>\n",
       "      <td>0.113958</td>\n",
       "      <td>1.000000</td>\n",
       "      <td>0.161078</td>\n",
       "      <td>0.085387</td>\n",
       "      <td>0.147605</td>\n",
       "      <td>-0.381393</td>\n",
       "    </tr>\n",
       "    <tr>\n",
       "      <th>Lifetime</th>\n",
       "      <td>0.013579</td>\n",
       "      <td>0.070921</td>\n",
       "      <td>0.061229</td>\n",
       "      <td>0.072721</td>\n",
       "      <td>-0.018801</td>\n",
       "      <td>0.170725</td>\n",
       "      <td>0.075853</td>\n",
       "      <td>0.164693</td>\n",
       "      <td>0.079028</td>\n",
       "      <td>0.161078</td>\n",
       "      <td>1.000000</td>\n",
       "      <td>0.112338</td>\n",
       "      <td>0.181975</td>\n",
       "      <td>-0.438220</td>\n",
       "    </tr>\n",
       "    <tr>\n",
       "      <th>Avg_class_frequency_total</th>\n",
       "      <td>0.014620</td>\n",
       "      <td>0.043127</td>\n",
       "      <td>0.024938</td>\n",
       "      <td>0.028063</td>\n",
       "      <td>0.008340</td>\n",
       "      <td>0.096211</td>\n",
       "      <td>0.056695</td>\n",
       "      <td>0.119953</td>\n",
       "      <td>0.044426</td>\n",
       "      <td>0.085387</td>\n",
       "      <td>0.112338</td>\n",
       "      <td>1.000000</td>\n",
       "      <td>0.952739</td>\n",
       "      <td>-0.249715</td>\n",
       "    </tr>\n",
       "    <tr>\n",
       "      <th>Avg_class_frequency_current_month</th>\n",
       "      <td>0.009156</td>\n",
       "      <td>0.062664</td>\n",
       "      <td>0.045561</td>\n",
       "      <td>0.053768</td>\n",
       "      <td>0.013375</td>\n",
       "      <td>0.159407</td>\n",
       "      <td>0.075923</td>\n",
       "      <td>0.183095</td>\n",
       "      <td>0.079570</td>\n",
       "      <td>0.147605</td>\n",
       "      <td>0.181975</td>\n",
       "      <td>0.952739</td>\n",
       "      <td>1.000000</td>\n",
       "      <td>-0.412348</td>\n",
       "    </tr>\n",
       "    <tr>\n",
       "      <th>Churn</th>\n",
       "      <td>0.000708</td>\n",
       "      <td>-0.128098</td>\n",
       "      <td>-0.157986</td>\n",
       "      <td>-0.162233</td>\n",
       "      <td>-0.001177</td>\n",
       "      <td>-0.389984</td>\n",
       "      <td>-0.175325</td>\n",
       "      <td>-0.404735</td>\n",
       "      <td>-0.198697</td>\n",
       "      <td>-0.381393</td>\n",
       "      <td>-0.438220</td>\n",
       "      <td>-0.249715</td>\n",
       "      <td>-0.412348</td>\n",
       "      <td>1.000000</td>\n",
       "    </tr>\n",
       "  </tbody>\n",
       "</table>\n",
       "</div>"
      ],
      "text/plain": [
       "                                     gender  Near_Location   Partner  \\\n",
       "gender                             1.000000       0.006699 -0.010463   \n",
       "Near_Location                      0.006699       1.000000 -0.005119   \n",
       "Partner                           -0.010463      -0.005119  1.000000   \n",
       "Promo_friends                     -0.005033       0.210964  0.451960   \n",
       "Phone                             -0.008542      -0.015763  0.009970   \n",
       "Contract_period                    0.000502       0.150233  0.306166   \n",
       "Group_visits                       0.017879       0.154728  0.022710   \n",
       "Age                                0.013807       0.058358  0.047480   \n",
       "Avg_additional_charges_total      -0.009334       0.040761  0.022941   \n",
       "Month_to_end_contract             -0.001281       0.143961  0.294632   \n",
       "Lifetime                           0.013579       0.070921  0.061229   \n",
       "Avg_class_frequency_total          0.014620       0.043127  0.024938   \n",
       "Avg_class_frequency_current_month  0.009156       0.062664  0.045561   \n",
       "Churn                              0.000708      -0.128098 -0.157986   \n",
       "\n",
       "                                   Promo_friends     Phone  Contract_period  \\\n",
       "gender                                 -0.005033 -0.008542         0.000502   \n",
       "Near_Location                           0.210964 -0.015763         0.150233   \n",
       "Partner                                 0.451960  0.009970         0.306166   \n",
       "Promo_friends                           1.000000  0.001982         0.244552   \n",
       "Phone                                   0.001982  1.000000        -0.006893   \n",
       "Contract_period                         0.244552 -0.006893         1.000000   \n",
       "Group_visits                            0.120170 -0.010099         0.169991   \n",
       "Age                                     0.050113 -0.011403         0.138249   \n",
       "Avg_additional_charges_total            0.036898  0.009279         0.111445   \n",
       "Month_to_end_contract                   0.239553 -0.011196         0.973064   \n",
       "Lifetime                                0.072721 -0.018801         0.170725   \n",
       "Avg_class_frequency_total               0.028063  0.008340         0.096211   \n",
       "Avg_class_frequency_current_month       0.053768  0.013375         0.159407   \n",
       "Churn                                  -0.162233 -0.001177        -0.389984   \n",
       "\n",
       "                                   Group_visits       Age  \\\n",
       "gender                                 0.017879  0.013807   \n",
       "Near_Location                          0.154728  0.058358   \n",
       "Partner                                0.022710  0.047480   \n",
       "Promo_friends                          0.120170  0.050113   \n",
       "Phone                                 -0.010099 -0.011403   \n",
       "Contract_period                        0.169991  0.138249   \n",
       "Group_visits                           1.000000  0.080934   \n",
       "Age                                    0.080934  1.000000   \n",
       "Avg_additional_charges_total           0.032079  0.080240   \n",
       "Month_to_end_contract                  0.163703  0.134511   \n",
       "Lifetime                               0.075853  0.164693   \n",
       "Avg_class_frequency_total              0.056695  0.119953   \n",
       "Avg_class_frequency_current_month      0.075923  0.183095   \n",
       "Churn                                 -0.175325 -0.404735   \n",
       "\n",
       "                                   Avg_additional_charges_total  \\\n",
       "gender                                                -0.009334   \n",
       "Near_Location                                          0.040761   \n",
       "Partner                                                0.022941   \n",
       "Promo_friends                                          0.036898   \n",
       "Phone                                                  0.009279   \n",
       "Contract_period                                        0.111445   \n",
       "Group_visits                                           0.032079   \n",
       "Age                                                    0.080240   \n",
       "Avg_additional_charges_total                           1.000000   \n",
       "Month_to_end_contract                                  0.113958   \n",
       "Lifetime                                               0.079028   \n",
       "Avg_class_frequency_total                              0.044426   \n",
       "Avg_class_frequency_current_month                      0.079570   \n",
       "Churn                                                 -0.198697   \n",
       "\n",
       "                                   Month_to_end_contract  Lifetime  \\\n",
       "gender                                         -0.001281  0.013579   \n",
       "Near_Location                                   0.143961  0.070921   \n",
       "Partner                                         0.294632  0.061229   \n",
       "Promo_friends                                   0.239553  0.072721   \n",
       "Phone                                          -0.011196 -0.018801   \n",
       "Contract_period                                 0.973064  0.170725   \n",
       "Group_visits                                    0.163703  0.075853   \n",
       "Age                                             0.134511  0.164693   \n",
       "Avg_additional_charges_total                    0.113958  0.079028   \n",
       "Month_to_end_contract                           1.000000  0.161078   \n",
       "Lifetime                                        0.161078  1.000000   \n",
       "Avg_class_frequency_total                       0.085387  0.112338   \n",
       "Avg_class_frequency_current_month               0.147605  0.181975   \n",
       "Churn                                          -0.381393 -0.438220   \n",
       "\n",
       "                                   Avg_class_frequency_total  \\\n",
       "gender                                              0.014620   \n",
       "Near_Location                                       0.043127   \n",
       "Partner                                             0.024938   \n",
       "Promo_friends                                       0.028063   \n",
       "Phone                                               0.008340   \n",
       "Contract_period                                     0.096211   \n",
       "Group_visits                                        0.056695   \n",
       "Age                                                 0.119953   \n",
       "Avg_additional_charges_total                        0.044426   \n",
       "Month_to_end_contract                               0.085387   \n",
       "Lifetime                                            0.112338   \n",
       "Avg_class_frequency_total                           1.000000   \n",
       "Avg_class_frequency_current_month                   0.952739   \n",
       "Churn                                              -0.249715   \n",
       "\n",
       "                                   Avg_class_frequency_current_month     Churn  \n",
       "gender                                                      0.009156  0.000708  \n",
       "Near_Location                                               0.062664 -0.128098  \n",
       "Partner                                                     0.045561 -0.157986  \n",
       "Promo_friends                                               0.053768 -0.162233  \n",
       "Phone                                                       0.013375 -0.001177  \n",
       "Contract_period                                             0.159407 -0.389984  \n",
       "Group_visits                                                0.075923 -0.175325  \n",
       "Age                                                         0.183095 -0.404735  \n",
       "Avg_additional_charges_total                                0.079570 -0.198697  \n",
       "Month_to_end_contract                                       0.147605 -0.381393  \n",
       "Lifetime                                                    0.181975 -0.438220  \n",
       "Avg_class_frequency_total                                   0.952739 -0.249715  \n",
       "Avg_class_frequency_current_month                           1.000000 -0.412348  \n",
       "Churn                                                      -0.412348  1.000000  "
      ]
     },
     "metadata": {},
     "output_type": "display_data"
    },
    {
     "data": {
      "image/png": "[encoded data removed]",
      "text/plain": [
       "<Figure size 1080x720 with 2 Axes>"
      ]
     },
     "metadata": {
      "needs_background": "light"
     },
     "output_type": "display_data"
    }
   ],
   "source": [
    "#матрица корреляций\n",
    "cm = data.corr()\n",
    "display(cm)\n",
    "plt.figure(figsize=(15, 10))\n",
    "sns.heatmap(cm, annot=True, square=True)\n",
    "plt.show()"
   ]
  },
  {
   "cell_type": "markdown",
   "metadata": {},
   "source": [
    "Сильных взаимных корреляций между признаками нет. Значения колеблются от -0,44 до +0,45. Это значит, что лишних для линейных моделей машинного обучения признаков в данных нет."
   ]
  },
  {
   "cell_type": "markdown",
   "metadata": {},
   "source": [
    "# Шаг 3. Построение модели прогнозирования оттока клиентов"
   ]
  },
  {
   "cell_type": "markdown",
   "metadata": {},
   "source": [
    "Построим модель бинарной классификации клиентов, где целевой признак — факт оттока клиента в следующем месяце. Используем два алгоритма - логистической регрессии и случайного леса."
   ]
  },
  {
   "cell_type": "code",
   "execution_count": 12,
   "metadata": {},
   "outputs": [],
   "source": [
    "#Разделяем данные на признаки (матрица X) и целевую переменную (y)\n",
    "X = data.drop(columns=['Churn'])\n",
    "y = data['Churn']\n",
    "\n",
    "#Разбиваем данные на обучающую и валидационную выборки\n",
    "X_train, X_test, y_train, y_test = train_test_split(X, y, test_size=0.2, random_state=0)\n",
    "\n",
    "#Обучаем модели train-выборкой по алгоритмам логистической регрессии и случайного леса (количество сдвигов оценки = 100)\n",
    "lr_model = LogisticRegression(solver='liblinear', random_state=0)\n",
    "rf_model = RandomForestClassifier(n_estimators = 100, random_state=0)\n",
    "lr_model.fit(X_train, y_train)\n",
    "rf_model.fit(X_train, y_train)\n",
    "\n",
    "#Формируем векторы предсказаний\n",
    "lr_y_pred = lr_model.predict(X_test)\n",
    "rf_y_pred = rf_model.predict(X_test)"
   ]
  },
  {
   "cell_type": "markdown",
   "metadata": {},
   "source": [
    "Рассчитаем метрики для обоих моделей.  "
   ]
  },
  {
   "cell_type": "code",
   "execution_count": 13,
   "metadata": {},
   "outputs": [
    {
     "name": "stdout",
     "output_type": "stream",
     "text": [
      "Logistic regression\n",
      "Accuracy: 0.93\n",
      "Precision: 0.86\n",
      "Recall: 0.83\n",
      "Random forest regression\n",
      "Accuracy: 0.92\n",
      "Precision: 0.84\n",
      "Recall: 0.82\n"
     ]
    }
   ],
   "source": [
    "print('Logistic regression')\n",
    "print('Accuracy: {:.2f}'.format(accuracy_score(y_test, lr_y_pred)))\n",
    "print('Precision: {:.2f}'.format(precision_score(y_test, lr_y_pred)))\n",
    "print('Recall: {:.2f}'.format(recall_score(y_test, lr_y_pred)))\n",
    "print('Random forest regression')\n",
    "print('Accuracy: {:.2f}'.format(accuracy_score(y_test, rf_y_pred)))\n",
    "print('Precision: {:.2f}'.format(precision_score(y_test, rf_y_pred)))\n",
    "print('Recall: {:.2f}'.format(recall_score(y_test, rf_y_pred)))"
   ]
  },
  {
   "cell_type": "markdown",
   "metadata": {},
   "source": [
    "Лучше показал себя алгоритм логистической регрессии, его метрики немного выше."
   ]
  },
  {
   "cell_type": "markdown",
   "metadata": {},
   "source": [
    "# Шаг 4. Выполним кластеризацию клиентов"
   ]
  },
  {
   "cell_type": "code",
   "execution_count": 14,
   "metadata": {},
   "outputs": [
    {
     "data": {
      "image/png": "[encoded data removed]",
      "text/plain": [
       "<Figure size 1080x720 with 1 Axes>"
      ]
     },
     "metadata": {
      "needs_background": "light"
     },
     "output_type": "display_data"
    }
   ],
   "source": [
    "#Стандартизируем данные\n",
    "sc = StandardScaler()\n",
    "X_sc = sc.fit_transform(X)\n",
    "\n",
    "#Строим дендрограмму\n",
    "linked = linkage(X_sc, method = 'ward')\n",
    "plt.figure(figsize=(15, 10))  \n",
    "dendrogram(linked, orientation='top')\n",
    "plt.title('Иерархическая кластеризация клиентов')\n",
    "plt.show() "
   ]
  },
  {
   "cell_type": "markdown",
   "metadata": {},
   "source": [
    "На основании дендрограммы оптимально выделить от 4 до 6 кластеров. Остановимся на 5. Построим модель кластеризации с применением алгоритма K-Means с n=5."
   ]
  },
  {
   "cell_type": "code",
   "execution_count": 15,
   "metadata": {},
   "outputs": [
    {
     "data": {
      "text/html": [
       "<div>\n",
       "<style scoped>\n",
       "    .dataframe tbody tr th:only-of-type {\n",
       "        vertical-align: middle;\n",
       "    }\n",
       "\n",
       "    .dataframe tbody tr th {\n",
       "        vertical-align: top;\n",
       "    }\n",
       "\n",
       "    .dataframe thead th {\n",
       "        text-align: right;\n",
       "    }\n",
       "</style>\n",
       "<table border=\"1\" class=\"dataframe\">\n",
       "  <thead>\n",
       "    <tr style=\"text-align: right;\">\n",
       "      <th></th>\n",
       "      <th>gender</th>\n",
       "      <th>Near_Location</th>\n",
       "      <th>Partner</th>\n",
       "      <th>Promo_friends</th>\n",
       "      <th>Phone</th>\n",
       "      <th>Contract_period</th>\n",
       "      <th>Group_visits</th>\n",
       "      <th>Age</th>\n",
       "      <th>Avg_additional_charges_total</th>\n",
       "      <th>Month_to_end_contract</th>\n",
       "      <th>Lifetime</th>\n",
       "      <th>Avg_class_frequency_total</th>\n",
       "      <th>Avg_class_frequency_current_month</th>\n",
       "      <th>Churn</th>\n",
       "    </tr>\n",
       "    <tr>\n",
       "      <th>cluster</th>\n",
       "      <th></th>\n",
       "      <th></th>\n",
       "      <th></th>\n",
       "      <th></th>\n",
       "      <th></th>\n",
       "      <th></th>\n",
       "      <th></th>\n",
       "      <th></th>\n",
       "      <th></th>\n",
       "      <th></th>\n",
       "      <th></th>\n",
       "      <th></th>\n",
       "      <th></th>\n",
       "      <th></th>\n",
       "    </tr>\n",
       "  </thead>\n",
       "  <tbody>\n",
       "    <tr>\n",
       "      <th>0</th>\n",
       "      <td>0.522078</td>\n",
       "      <td>0.862338</td>\n",
       "      <td>0.470130</td>\n",
       "      <td>0.306494</td>\n",
       "      <td>0.000000</td>\n",
       "      <td>4.787013</td>\n",
       "      <td>0.425974</td>\n",
       "      <td>29.301299</td>\n",
       "      <td>143.957664</td>\n",
       "      <td>4.475325</td>\n",
       "      <td>3.924675</td>\n",
       "      <td>1.847220</td>\n",
       "      <td>1.716369</td>\n",
       "      <td>0.267532</td>\n",
       "    </tr>\n",
       "    <tr>\n",
       "      <th>1</th>\n",
       "      <td>0.480787</td>\n",
       "      <td>0.812559</td>\n",
       "      <td>0.000000</td>\n",
       "      <td>0.086223</td>\n",
       "      <td>1.000000</td>\n",
       "      <td>1.866917</td>\n",
       "      <td>0.325211</td>\n",
       "      <td>28.145267</td>\n",
       "      <td>131.369042</td>\n",
       "      <td>1.791003</td>\n",
       "      <td>2.345829</td>\n",
       "      <td>1.325865</td>\n",
       "      <td>1.086883</td>\n",
       "      <td>0.550141</td>\n",
       "    </tr>\n",
       "    <tr>\n",
       "      <th>2</th>\n",
       "      <td>0.559567</td>\n",
       "      <td>0.858002</td>\n",
       "      <td>0.338147</td>\n",
       "      <td>0.197353</td>\n",
       "      <td>0.998797</td>\n",
       "      <td>2.730445</td>\n",
       "      <td>0.448857</td>\n",
       "      <td>30.196149</td>\n",
       "      <td>164.579011</td>\n",
       "      <td>2.519856</td>\n",
       "      <td>5.010830</td>\n",
       "      <td>2.928140</td>\n",
       "      <td>2.934140</td>\n",
       "      <td>0.048135</td>\n",
       "    </tr>\n",
       "    <tr>\n",
       "      <th>3</th>\n",
       "      <td>0.509603</td>\n",
       "      <td>0.750320</td>\n",
       "      <td>1.000000</td>\n",
       "      <td>0.451985</td>\n",
       "      <td>1.000000</td>\n",
       "      <td>2.554417</td>\n",
       "      <td>0.303457</td>\n",
       "      <td>28.499360</td>\n",
       "      <td>129.812508</td>\n",
       "      <td>2.370038</td>\n",
       "      <td>2.832266</td>\n",
       "      <td>1.355379</td>\n",
       "      <td>1.176172</td>\n",
       "      <td>0.395647</td>\n",
       "    </tr>\n",
       "    <tr>\n",
       "      <th>4</th>\n",
       "      <td>0.495726</td>\n",
       "      <td>0.943376</td>\n",
       "      <td>0.752137</td>\n",
       "      <td>0.541667</td>\n",
       "      <td>1.000000</td>\n",
       "      <td>11.352564</td>\n",
       "      <td>0.564103</td>\n",
       "      <td>29.993590</td>\n",
       "      <td>164.563799</td>\n",
       "      <td>10.376068</td>\n",
       "      <td>4.817308</td>\n",
       "      <td>2.028169</td>\n",
       "      <td>2.020129</td>\n",
       "      <td>0.023504</td>\n",
       "    </tr>\n",
       "  </tbody>\n",
       "</table>\n",
       "</div>"
      ],
      "text/plain": [
       "           gender  Near_Location   Partner  Promo_friends     Phone  \\\n",
       "cluster                                                               \n",
       "0        0.522078       0.862338  0.470130       0.306494  0.000000   \n",
       "1        0.480787       0.812559  0.000000       0.086223  1.000000   \n",
       "2        0.559567       0.858002  0.338147       0.197353  0.998797   \n",
       "3        0.509603       0.750320  1.000000       0.451985  1.000000   \n",
       "4        0.495726       0.943376  0.752137       0.541667  1.000000   \n",
       "\n",
       "         Contract_period  Group_visits        Age  \\\n",
       "cluster                                             \n",
       "0               4.787013      0.425974  29.301299   \n",
       "1               1.866917      0.325211  28.145267   \n",
       "2               2.730445      0.448857  30.196149   \n",
       "3               2.554417      0.303457  28.499360   \n",
       "4              11.352564      0.564103  29.993590   \n",
       "\n",
       "         Avg_additional_charges_total  Month_to_end_contract  Lifetime  \\\n",
       "cluster                                                                  \n",
       "0                          143.957664               4.475325  3.924675   \n",
       "1                          131.369042               1.791003  2.345829   \n",
       "2                          164.579011               2.519856  5.010830   \n",
       "3                          129.812508               2.370038  2.832266   \n",
       "4                          164.563799              10.376068  4.817308   \n",
       "\n",
       "         Avg_class_frequency_total  Avg_class_frequency_current_month  \\\n",
       "cluster                                                                 \n",
       "0                         1.847220                           1.716369   \n",
       "1                         1.325865                           1.086883   \n",
       "2                         2.928140                           2.934140   \n",
       "3                         1.355379                           1.176172   \n",
       "4                         2.028169                           2.020129   \n",
       "\n",
       "            Churn  \n",
       "cluster            \n",
       "0        0.267532  \n",
       "1        0.550141  \n",
       "2        0.048135  \n",
       "3        0.395647  \n",
       "4        0.023504  "
      ]
     },
     "execution_count": 15,
     "metadata": {},
     "output_type": "execute_result"
    }
   ],
   "source": [
    "km = KMeans(n_clusters=5, random_state=0)\n",
    "# применяем алгоритм к данным и формируем вектор кластеров\n",
    "labels = km.fit_predict(X_sc)\n",
    "#добавляем в отдельный столбец датасета метки кластеров\n",
    "data['cluster'] = labels\n",
    "#группируем данные по кластерам, чтобы взглянуть на средние значения признаков\n",
    "data.groupby('cluster').agg('mean')"
   ]
  },
  {
   "cell_type": "markdown",
   "metadata": {},
   "source": [
    "Наблюдения:\n",
    "- 1 и 3 кластеры отличаются тем, что клиенты не являются и являются сотрудниками компаний-партнеров соответственно. Очевидно, эти кластеры на одной ветви дендрограммы.\n",
    "- в 1м кластере у всех клиентов в базе нет номеров телефонов, во всех остальных почти у всех есть.\n",
    "- в 4м кластере большинство - годовые абонементы, в 1м - наибольшее количество одномесячных абонементов."
   ]
  },
  {
   "cell_type": "code",
   "execution_count": 16,
   "metadata": {},
   "outputs": [
    {
     "data": {
      "image/png": "[encoded data removed]",
      "text/plain": [
       "<Figure size 1080x720 with 8 Axes>"
      ]
     },
     "metadata": {
      "needs_background": "light"
     },
     "output_type": "display_data"
    },
    {
     "data": {
      "image/png": "[encoded data removed]",
      "text/plain": [
       "<Figure size 1080x720 with 6 Axes>"
      ]
     },
     "metadata": {
      "needs_background": "light"
     },
     "output_type": "display_data"
    }
   ],
   "source": [
    "#обрабатываем категориальные признаки\n",
    "plt.figure(figsize=(15, 10))\n",
    "for i in range(len(categorial)):\n",
    "    ax = plt.subplot(3, 3, i+1)\n",
    "    data.pivot_table(index=categorial[i], columns='cluster', values='Age', aggfunc='count').plot(kind='bar', legend=True, ax=ax) \n",
    "plt.show()\n",
    "\n",
    "#обрабатываем числовые признаки\n",
    "plt.figure(figsize=(15, 10))\n",
    "for i in range(len(numeric)):\n",
    "    ax = plt.subplot(2, 3, i+1)\n",
    "    for cluster in labels:\n",
    "        data.query('cluster == @cluster')[numeric[i]].hist(ax=ax)\n",
    "    plt.title(numeric[i])\n",
    "plt.show()"
   ]
  },
  {
   "cell_type": "markdown",
   "metadata": {},
   "source": [
    "Наблюдения:\n",
    "- все наблюдения, высказанные выше, подтверждаются графиками.\n",
    "- высокое значение promo_friends в 1м кластере одновременно с фактом не принадлежности к компанями-партнерам\n",
    "- именно в этом же кластере зафиксирован наибольший процент оттока\n",
    "- на втором месте по оттоку 3й кластер. Этот кластер характеризуется 100% клиентов-сотрудников компаний-партнеров.\n",
    "- 1й и 3й кластер характеризуются также самым низким средним lifetime\n",
    "- клиенты 1го и 3го кластеров также редко посещают групповые занятия\n",
    "- наиболее лояльные клиенты - клиенты с большим сроком абонемента\n",
    "- распределения числовых признаков по кластерам не отличаются значимо"
   ]
  },
  {
   "cell_type": "markdown",
   "metadata": {},
   "source": [
    "Для каждого полученного кластера посчитаем долю оттока."
   ]
  },
  {
   "cell_type": "code",
   "execution_count": 18,
   "metadata": {},
   "outputs": [
    {
     "data": {
      "text/plain": [
       "cluster\n",
       "0    0.267532\n",
       "1    0.550141\n",
       "2    0.048135\n",
       "3    0.395647\n",
       "4    0.023504\n",
       "Name: Churn, dtype: float64"
      ]
     },
     "execution_count": 18,
     "metadata": {},
     "output_type": "execute_result"
    }
   ],
   "source": [
    "data.groupby('cluster').agg('mean')['Churn']"
   ]
  },
  {
   "cell_type": "markdown",
   "metadata": {},
   "source": [
    "Действительно, 1й и 3й кластер имеют наибольшие доли оттока. При этом в этих кластерах также довольно низкий средний срок абонемента."
   ]
  },
  {
   "cell_type": "markdown",
   "metadata": {},
   "source": [
    "# Выводы и рекомендации"
   ]
  },
  {
   "cell_type": "markdown",
   "metadata": {},
   "source": [
    "По полученным результатам можно резюмировать, что наиболее часто отток происходит, когда клиент приходит по акции \"Приведи друга\", а также из компании партнера. Эти клиенты чаше имеют короткие сроки абонементов и многие из них не посящаю групповые занятия. Возможно, первый абонемент доставался им по промо-цене, а к повышению цены они не готовы."
   ]
  },
  {
   "cell_type": "markdown",
   "metadata": {},
   "source": [
    "Рекомендации:\n",
    "- Улучшить освещение работы групповых занятий, поработать над их программой, для достижения большей вовлеченности клиента и его мотивации\n",
    "- Пересмотреть условия акции \"Приведи друга\". Увеличить срок действия промо абонемента. Начислять бонусное время за определенное количество посещений.\n",
    "- Предложить специальные условия для сотрудников компаний-парнеров\n",
    "- Расширять круг компаний-партнеров "
   ]
  }
 ],
 "metadata": {
  "ExecuteTimeLog": [
   {
    "duration": 1421,
    "start_time": "2022-07-06T06:38:05.832Z"
   },
   {
    "duration": 910,
    "start_time": "2022-07-06T06:38:07.256Z"
   },
   {
    "duration": 76,
    "start_time": "2022-07-06T06:38:08.167Z"
   },
   {
    "duration": 13,
    "start_time": "2022-07-06T06:38:08.244Z"
   },
   {
    "duration": 13,
    "start_time": "2022-07-06T06:38:08.260Z"
   },
   {
    "duration": 13,
    "start_time": "2022-07-06T06:38:08.275Z"
   },
   {
    "duration": 214,
    "start_time": "2022-07-06T06:38:08.290Z"
   },
   {
    "duration": 158,
    "start_time": "2022-07-06T06:38:08.506Z"
   },
   {
    "duration": 34,
    "start_time": "2022-07-06T06:38:08.666Z"
   },
   {
    "duration": 44,
    "start_time": "2022-07-06T06:38:08.702Z"
   },
   {
    "duration": 35,
    "start_time": "2022-07-06T06:38:08.748Z"
   },
   {
    "duration": 9,
    "start_time": "2022-07-06T06:38:08.785Z"
   },
   {
    "duration": 30,
    "start_time": "2022-07-06T06:38:08.796Z"
   },
   {
    "duration": 12,
    "start_time": "2022-07-06T06:38:08.830Z"
   },
   {
    "duration": 13,
    "start_time": "2022-07-06T06:38:08.844Z"
   },
   {
    "duration": 10,
    "start_time": "2022-07-06T06:38:08.859Z"
   },
   {
    "duration": 9,
    "start_time": "2022-07-06T06:38:08.870Z"
   },
   {
    "duration": 8,
    "start_time": "2022-07-06T06:38:08.880Z"
   },
   {
    "duration": 8,
    "start_time": "2022-07-06T06:38:08.890Z"
   },
   {
    "duration": 28,
    "start_time": "2022-07-06T06:38:08.899Z"
   },
   {
    "duration": 477,
    "start_time": "2022-07-06T06:38:08.929Z"
   },
   {
    "duration": 5,
    "start_time": "2022-07-06T06:38:09.408Z"
   },
   {
    "duration": 5,
    "start_time": "2022-07-06T06:38:09.423Z"
   },
   {
    "duration": 5,
    "start_time": "2022-07-06T06:38:09.429Z"
   },
   {
    "duration": 246,
    "start_time": "2022-07-06T06:38:09.436Z"
   },
   {
    "duration": 215,
    "start_time": "2022-07-06T06:38:09.684Z"
   },
   {
    "duration": 291,
    "start_time": "2022-07-06T06:38:09.901Z"
   },
   {
    "duration": 5,
    "start_time": "2022-07-06T06:38:10.193Z"
   },
   {
    "duration": 32,
    "start_time": "2022-07-06T06:38:10.200Z"
   },
   {
    "duration": 260,
    "start_time": "2022-07-06T06:38:10.234Z"
   },
   {
    "duration": 4,
    "start_time": "2022-07-06T06:38:10.496Z"
   },
   {
    "duration": 38,
    "start_time": "2022-07-06T06:38:10.501Z"
   },
   {
    "duration": 3,
    "start_time": "2022-07-06T06:38:10.541Z"
   },
   {
    "duration": 1497,
    "start_time": "2022-07-06T06:38:10.545Z"
   },
   {
    "duration": 1915,
    "start_time": "2022-07-06T06:38:12.043Z"
   },
   {
    "duration": 1928,
    "start_time": "2022-07-06T06:38:13.960Z"
   },
   {
    "duration": 2604,
    "start_time": "2022-07-06T06:38:15.889Z"
   },
   {
    "duration": 2762,
    "start_time": "2022-07-06T06:38:18.495Z"
   },
   {
    "duration": 1448,
    "start_time": "2022-07-06T06:38:21.259Z"
   },
   {
    "duration": 1454,
    "start_time": "2022-07-06T06:38:22.709Z"
   },
   {
    "duration": 1990,
    "start_time": "2022-07-06T06:38:24.166Z"
   },
   {
    "duration": 5,
    "start_time": "2022-07-06T06:40:41.419Z"
   },
   {
    "duration": 256,
    "start_time": "2022-07-06T06:40:42.013Z"
   },
   {
    "duration": 215,
    "start_time": "2022-07-06T06:40:42.645Z"
   },
   {
    "duration": 264,
    "start_time": "2022-07-06T06:40:43.970Z"
   },
   {
    "duration": 9,
    "start_time": "2022-07-06T06:41:04.421Z"
   },
   {
    "duration": 236,
    "start_time": "2022-07-06T06:41:04.677Z"
   },
   {
    "duration": 218,
    "start_time": "2022-07-06T06:41:05.228Z"
   },
   {
    "duration": 399,
    "start_time": "2022-07-06T06:41:05.770Z"
   },
   {
    "duration": 1123,
    "start_time": "2022-07-09T07:16:11.851Z"
   },
   {
    "duration": 638,
    "start_time": "2022-07-09T07:16:12.976Z"
   },
   {
    "duration": 66,
    "start_time": "2022-07-09T07:16:13.616Z"
   },
   {
    "duration": 11,
    "start_time": "2022-07-09T07:16:13.684Z"
   },
   {
    "duration": 11,
    "start_time": "2022-07-09T07:16:13.697Z"
   },
   {
    "duration": 11,
    "start_time": "2022-07-09T07:16:13.709Z"
   },
   {
    "duration": 177,
    "start_time": "2022-07-09T07:16:13.722Z"
   },
   {
    "duration": 139,
    "start_time": "2022-07-09T07:16:13.901Z"
   },
   {
    "duration": 34,
    "start_time": "2022-07-09T07:16:14.042Z"
   },
   {
    "duration": 30,
    "start_time": "2022-07-09T07:16:14.078Z"
   },
   {
    "duration": 61,
    "start_time": "2022-07-09T07:16:14.110Z"
   },
   {
    "duration": 8,
    "start_time": "2022-07-09T07:16:14.173Z"
   },
   {
    "duration": 7,
    "start_time": "2022-07-09T07:16:14.183Z"
   },
   {
    "duration": 8,
    "start_time": "2022-07-09T07:16:14.192Z"
   },
   {
    "duration": 11,
    "start_time": "2022-07-09T07:16:14.202Z"
   },
   {
    "duration": 10,
    "start_time": "2022-07-09T07:16:14.215Z"
   },
   {
    "duration": 11,
    "start_time": "2022-07-09T07:16:14.227Z"
   },
   {
    "duration": 28,
    "start_time": "2022-07-09T07:16:14.239Z"
   },
   {
    "duration": 9,
    "start_time": "2022-07-09T07:16:14.269Z"
   },
   {
    "duration": 12,
    "start_time": "2022-07-09T07:16:14.279Z"
   },
   {
    "duration": 467,
    "start_time": "2022-07-09T07:16:14.293Z"
   },
   {
    "duration": 5,
    "start_time": "2022-07-09T07:16:14.762Z"
   },
   {
    "duration": 8,
    "start_time": "2022-07-09T07:16:14.768Z"
   },
   {
    "duration": 7,
    "start_time": "2022-07-09T07:16:14.778Z"
   },
   {
    "duration": 238,
    "start_time": "2022-07-09T07:16:14.786Z"
   },
   {
    "duration": 218,
    "start_time": "2022-07-09T07:16:15.025Z"
   },
   {
    "duration": 273,
    "start_time": "2022-07-09T07:16:15.244Z"
   },
   {
    "duration": 4,
    "start_time": "2022-07-09T07:16:15.520Z"
   },
   {
    "duration": 34,
    "start_time": "2022-07-09T07:16:15.526Z"
   },
   {
    "duration": 266,
    "start_time": "2022-07-09T07:16:15.562Z"
   },
   {
    "duration": 312,
    "start_time": "2022-07-09T07:16:15.830Z"
   },
   {
    "duration": 5,
    "start_time": "2022-07-09T07:16:16.144Z"
   },
   {
    "duration": 24,
    "start_time": "2022-07-09T07:16:16.161Z"
   },
   {
    "duration": 14,
    "start_time": "2022-07-09T07:16:16.189Z"
   },
   {
    "duration": 1623,
    "start_time": "2022-07-09T07:16:16.207Z"
   },
   {
    "duration": 70,
    "start_time": "2022-07-09T07:16:17.832Z"
   },
   {
    "duration": 0,
    "start_time": "2022-07-09T07:16:17.903Z"
   },
   {
    "duration": 0,
    "start_time": "2022-07-09T07:16:17.905Z"
   },
   {
    "duration": 0,
    "start_time": "2022-07-09T07:16:17.906Z"
   },
   {
    "duration": 0,
    "start_time": "2022-07-09T07:16:17.907Z"
   },
   {
    "duration": 0,
    "start_time": "2022-07-09T07:16:17.908Z"
   },
   {
    "duration": 0,
    "start_time": "2022-07-09T07:16:17.909Z"
   },
   {
    "duration": 0,
    "start_time": "2022-07-09T07:16:17.910Z"
   },
   {
    "duration": 0,
    "start_time": "2022-07-09T07:16:17.911Z"
   },
   {
    "duration": 0,
    "start_time": "2022-07-09T07:16:17.912Z"
   },
   {
    "duration": 1069,
    "start_time": "2022-07-09T07:20:33.788Z"
   },
   {
    "duration": 1134,
    "start_time": "2022-07-09T07:20:34.858Z"
   },
   {
    "duration": 107,
    "start_time": "2022-07-09T07:20:35.996Z"
   },
   {
    "duration": 12,
    "start_time": "2022-07-09T07:20:36.160Z"
   },
   {
    "duration": 18,
    "start_time": "2022-07-09T07:20:36.174Z"
   },
   {
    "duration": 19,
    "start_time": "2022-07-09T07:20:36.195Z"
   },
   {
    "duration": 466,
    "start_time": "2022-07-09T07:20:36.216Z"
   },
   {
    "duration": 174,
    "start_time": "2022-07-09T07:20:36.684Z"
   },
   {
    "duration": 27,
    "start_time": "2022-07-09T07:20:36.862Z"
   },
   {
    "duration": 31,
    "start_time": "2022-07-09T07:20:36.891Z"
   },
   {
    "duration": 42,
    "start_time": "2022-07-09T07:20:36.924Z"
   },
   {
    "duration": 7,
    "start_time": "2022-07-09T07:20:36.968Z"
   },
   {
    "duration": 7,
    "start_time": "2022-07-09T07:20:36.977Z"
   },
   {
    "duration": 9,
    "start_time": "2022-07-09T07:20:36.986Z"
   },
   {
    "duration": 9,
    "start_time": "2022-07-09T07:20:36.997Z"
   },
   {
    "duration": 9,
    "start_time": "2022-07-09T07:20:37.007Z"
   },
   {
    "duration": 7,
    "start_time": "2022-07-09T07:20:37.018Z"
   },
   {
    "duration": 8,
    "start_time": "2022-07-09T07:20:37.026Z"
   },
   {
    "duration": 6,
    "start_time": "2022-07-09T07:20:37.061Z"
   },
   {
    "duration": 10,
    "start_time": "2022-07-09T07:20:37.068Z"
   },
   {
    "duration": 467,
    "start_time": "2022-07-09T07:20:37.079Z"
   },
   {
    "duration": 13,
    "start_time": "2022-07-09T07:20:37.548Z"
   },
   {
    "duration": 4,
    "start_time": "2022-07-09T07:20:37.562Z"
   },
   {
    "duration": 6,
    "start_time": "2022-07-09T07:20:37.568Z"
   },
   {
    "duration": 243,
    "start_time": "2022-07-09T07:20:37.576Z"
   },
   {
    "duration": 209,
    "start_time": "2022-07-09T07:20:37.821Z"
   },
   {
    "duration": 290,
    "start_time": "2022-07-09T07:20:38.033Z"
   },
   {
    "duration": 4,
    "start_time": "2022-07-09T07:20:38.325Z"
   },
   {
    "duration": 33,
    "start_time": "2022-07-09T07:20:38.331Z"
   },
   {
    "duration": 263,
    "start_time": "2022-07-09T07:20:38.366Z"
   },
   {
    "duration": 371,
    "start_time": "2022-07-09T07:20:38.631Z"
   },
   {
    "duration": 4,
    "start_time": "2022-07-09T07:20:39.004Z"
   },
   {
    "duration": 27,
    "start_time": "2022-07-09T07:20:39.010Z"
   },
   {
    "duration": 3,
    "start_time": "2022-07-09T07:20:39.039Z"
   },
   {
    "duration": 1554,
    "start_time": "2022-07-09T07:20:39.060Z"
   },
   {
    "duration": 77,
    "start_time": "2022-07-09T07:20:40.616Z"
   },
   {
    "duration": 1,
    "start_time": "2022-07-09T07:20:40.695Z"
   },
   {
    "duration": 0,
    "start_time": "2022-07-09T07:20:40.697Z"
   },
   {
    "duration": 1,
    "start_time": "2022-07-09T07:20:40.698Z"
   },
   {
    "duration": 0,
    "start_time": "2022-07-09T07:20:40.700Z"
   },
   {
    "duration": 0,
    "start_time": "2022-07-09T07:20:40.702Z"
   },
   {
    "duration": 0,
    "start_time": "2022-07-09T07:20:40.703Z"
   },
   {
    "duration": 0,
    "start_time": "2022-07-09T07:20:40.704Z"
   },
   {
    "duration": 0,
    "start_time": "2022-07-09T07:20:40.705Z"
   },
   {
    "duration": 0,
    "start_time": "2022-07-09T07:20:40.706Z"
   },
   {
    "duration": 1625,
    "start_time": "2022-07-09T07:21:02.512Z"
   },
   {
    "duration": 1664,
    "start_time": "2022-07-09T07:21:19.228Z"
   },
   {
    "duration": 857,
    "start_time": "2022-07-09T07:21:20.894Z"
   },
   {
    "duration": 74,
    "start_time": "2022-07-09T07:21:21.753Z"
   },
   {
    "duration": 16,
    "start_time": "2022-07-09T07:21:21.829Z"
   },
   {
    "duration": 24,
    "start_time": "2022-07-09T07:21:21.847Z"
   },
   {
    "duration": 16,
    "start_time": "2022-07-09T07:21:21.873Z"
   },
   {
    "duration": 186,
    "start_time": "2022-07-09T07:21:21.890Z"
   },
   {
    "duration": 134,
    "start_time": "2022-07-09T07:21:22.078Z"
   },
   {
    "duration": 29,
    "start_time": "2022-07-09T07:21:22.213Z"
   },
   {
    "duration": 28,
    "start_time": "2022-07-09T07:21:22.260Z"
   },
   {
    "duration": 33,
    "start_time": "2022-07-09T07:21:22.290Z"
   },
   {
    "duration": 7,
    "start_time": "2022-07-09T07:21:22.325Z"
   },
   {
    "duration": 7,
    "start_time": "2022-07-09T07:21:22.334Z"
   },
   {
    "duration": 20,
    "start_time": "2022-07-09T07:21:22.342Z"
   },
   {
    "duration": 11,
    "start_time": "2022-07-09T07:21:22.364Z"
   },
   {
    "duration": 9,
    "start_time": "2022-07-09T07:21:22.377Z"
   },
   {
    "duration": 7,
    "start_time": "2022-07-09T07:21:22.387Z"
   },
   {
    "duration": 8,
    "start_time": "2022-07-09T07:21:22.396Z"
   },
   {
    "duration": 8,
    "start_time": "2022-07-09T07:21:22.405Z"
   },
   {
    "duration": 9,
    "start_time": "2022-07-09T07:21:22.415Z"
   },
   {
    "duration": 464,
    "start_time": "2022-07-09T07:21:22.426Z"
   },
   {
    "duration": 5,
    "start_time": "2022-07-09T07:21:22.891Z"
   },
   {
    "duration": 6,
    "start_time": "2022-07-09T07:21:22.898Z"
   },
   {
    "duration": 5,
    "start_time": "2022-07-09T07:21:22.906Z"
   },
   {
    "duration": 231,
    "start_time": "2022-07-09T07:21:22.913Z"
   },
   {
    "duration": 198,
    "start_time": "2022-07-09T07:21:23.146Z"
   },
   {
    "duration": 252,
    "start_time": "2022-07-09T07:21:23.345Z"
   },
   {
    "duration": 4,
    "start_time": "2022-07-09T07:21:23.601Z"
   },
   {
    "duration": 15,
    "start_time": "2022-07-09T07:21:23.607Z"
   },
   {
    "duration": 267,
    "start_time": "2022-07-09T07:21:23.624Z"
   },
   {
    "duration": 278,
    "start_time": "2022-07-09T07:21:23.894Z"
   },
   {
    "duration": 6,
    "start_time": "2022-07-09T07:21:24.173Z"
   },
   {
    "duration": 25,
    "start_time": "2022-07-09T07:21:24.181Z"
   },
   {
    "duration": 2,
    "start_time": "2022-07-09T07:21:24.208Z"
   },
   {
    "duration": 1437,
    "start_time": "2022-07-09T07:21:24.212Z"
   },
   {
    "duration": 1685,
    "start_time": "2022-07-09T07:21:25.652Z"
   },
   {
    "duration": 1724,
    "start_time": "2022-07-09T07:21:27.338Z"
   },
   {
    "duration": 1817,
    "start_time": "2022-07-09T07:21:29.072Z"
   },
   {
    "duration": 2537,
    "start_time": "2022-07-09T07:21:30.891Z"
   },
   {
    "duration": 1851,
    "start_time": "2022-07-09T07:21:33.430Z"
   },
   {
    "duration": 1901,
    "start_time": "2022-07-09T07:21:35.283Z"
   },
   {
    "duration": 2594,
    "start_time": "2022-07-09T07:21:37.186Z"
   },
   {
    "duration": 1437,
    "start_time": "2022-07-09T07:21:39.782Z"
   },
   {
    "duration": 1356,
    "start_time": "2022-07-09T07:21:41.221Z"
   },
   {
    "duration": 1788,
    "start_time": "2022-07-09T07:21:42.579Z"
   },
   {
    "duration": 5,
    "start_time": "2022-07-09T11:42:10.719Z"
   },
   {
    "duration": 3,
    "start_time": "2022-07-09T11:43:16.150Z"
   },
   {
    "duration": 580,
    "start_time": "2022-07-09T11:43:16.171Z"
   },
   {
    "duration": 51,
    "start_time": "2022-07-09T11:43:16.753Z"
   },
   {
    "duration": 10,
    "start_time": "2022-07-09T11:43:16.806Z"
   },
   {
    "duration": 9,
    "start_time": "2022-07-09T11:43:16.817Z"
   },
   {
    "duration": 24,
    "start_time": "2022-07-09T11:43:16.828Z"
   },
   {
    "duration": 168,
    "start_time": "2022-07-09T11:43:16.854Z"
   },
   {
    "duration": 134,
    "start_time": "2022-07-09T11:43:17.023Z"
   },
   {
    "duration": 23,
    "start_time": "2022-07-09T11:43:17.159Z"
   },
   {
    "duration": 24,
    "start_time": "2022-07-09T11:43:17.183Z"
   },
   {
    "duration": 48,
    "start_time": "2022-07-09T11:43:17.208Z"
   },
   {
    "duration": 7,
    "start_time": "2022-07-09T11:43:17.258Z"
   },
   {
    "duration": 14,
    "start_time": "2022-07-09T11:43:17.267Z"
   },
   {
    "duration": 17,
    "start_time": "2022-07-09T11:43:17.283Z"
   },
   {
    "duration": 27,
    "start_time": "2022-07-09T11:43:17.304Z"
   },
   {
    "duration": 23,
    "start_time": "2022-07-09T11:43:17.333Z"
   },
   {
    "duration": 19,
    "start_time": "2022-07-09T11:43:17.358Z"
   },
   {
    "duration": 20,
    "start_time": "2022-07-09T11:43:17.379Z"
   },
   {
    "duration": 25,
    "start_time": "2022-07-09T11:43:17.401Z"
   },
   {
    "duration": 17,
    "start_time": "2022-07-09T11:43:17.428Z"
   },
   {
    "duration": 406,
    "start_time": "2022-07-09T11:43:17.447Z"
   },
   {
    "duration": 5,
    "start_time": "2022-07-09T11:43:17.854Z"
   },
   {
    "duration": 7,
    "start_time": "2022-07-09T11:43:17.860Z"
   },
   {
    "duration": 6,
    "start_time": "2022-07-09T11:43:17.868Z"
   },
   {
    "duration": 235,
    "start_time": "2022-07-09T11:43:17.875Z"
   },
   {
    "duration": 320,
    "start_time": "2022-07-09T11:43:18.111Z"
   },
   {
    "duration": 263,
    "start_time": "2022-07-09T11:43:18.433Z"
   },
   {
    "duration": 4,
    "start_time": "2022-07-09T11:43:18.697Z"
   },
   {
    "duration": 17,
    "start_time": "2022-07-09T11:43:18.703Z"
   },
   {
    "duration": 217,
    "start_time": "2022-07-09T11:43:18.721Z"
   },
   {
    "duration": 315,
    "start_time": "2022-07-09T11:43:18.940Z"
   },
   {
    "duration": 19,
    "start_time": "2022-07-09T11:43:19.257Z"
   },
   {
    "duration": 20,
    "start_time": "2022-07-09T11:43:19.278Z"
   },
   {
    "duration": 3,
    "start_time": "2022-07-09T11:43:19.300Z"
   },
   {
    "duration": 1334,
    "start_time": "2022-07-09T11:43:19.304Z"
   },
   {
    "duration": 1710,
    "start_time": "2022-07-09T11:43:20.640Z"
   },
   {
    "duration": 1621,
    "start_time": "2022-07-09T11:43:22.352Z"
   },
   {
    "duration": 1582,
    "start_time": "2022-07-09T11:43:23.974Z"
   },
   {
    "duration": 2197,
    "start_time": "2022-07-09T11:43:25.557Z"
   },
   {
    "duration": 1749,
    "start_time": "2022-07-09T11:43:27.756Z"
   },
   {
    "duration": 1604,
    "start_time": "2022-07-09T11:43:29.507Z"
   },
   {
    "duration": 2361,
    "start_time": "2022-07-09T11:43:31.114Z"
   },
   {
    "duration": 1299,
    "start_time": "2022-07-09T11:43:33.477Z"
   },
   {
    "duration": 1299,
    "start_time": "2022-07-09T11:43:34.777Z"
   },
   {
    "duration": 1504,
    "start_time": "2022-07-09T11:43:36.078Z"
   },
   {
    "duration": 14,
    "start_time": "2022-07-09T11:48:30.835Z"
   },
   {
    "duration": 20,
    "start_time": "2022-07-09T11:48:31.490Z"
   },
   {
    "duration": 1704,
    "start_time": "2022-07-09T16:10:07.800Z"
   },
   {
    "duration": 1501,
    "start_time": "2022-07-09T16:10:09.506Z"
   },
   {
    "duration": 98,
    "start_time": "2022-07-09T16:10:11.009Z"
   },
   {
    "duration": 29,
    "start_time": "2022-07-09T16:10:11.110Z"
   },
   {
    "duration": 33,
    "start_time": "2022-07-09T16:10:11.142Z"
   },
   {
    "duration": 12,
    "start_time": "2022-07-09T16:10:11.177Z"
   },
   {
    "duration": 251,
    "start_time": "2022-07-09T16:10:11.191Z"
   },
   {
    "duration": 188,
    "start_time": "2022-07-09T16:10:11.444Z"
   },
   {
    "duration": 40,
    "start_time": "2022-07-09T16:10:11.641Z"
   },
   {
    "duration": 33,
    "start_time": "2022-07-09T16:10:11.683Z"
   },
   {
    "duration": 52,
    "start_time": "2022-07-09T16:10:11.723Z"
   },
   {
    "duration": 8,
    "start_time": "2022-07-09T16:10:11.777Z"
   },
   {
    "duration": 7,
    "start_time": "2022-07-09T16:10:11.787Z"
   },
   {
    "duration": 14,
    "start_time": "2022-07-09T16:10:11.796Z"
   },
   {
    "duration": 39,
    "start_time": "2022-07-09T16:10:11.812Z"
   },
   {
    "duration": 20,
    "start_time": "2022-07-09T16:10:11.854Z"
   },
   {
    "duration": 11,
    "start_time": "2022-07-09T16:10:11.876Z"
   },
   {
    "duration": 8,
    "start_time": "2022-07-09T16:10:11.889Z"
   },
   {
    "duration": 11,
    "start_time": "2022-07-09T16:10:11.898Z"
   },
   {
    "duration": 22,
    "start_time": "2022-07-09T16:10:11.911Z"
   },
   {
    "duration": 619,
    "start_time": "2022-07-09T16:10:11.936Z"
   },
   {
    "duration": 7,
    "start_time": "2022-07-09T16:10:12.557Z"
   },
   {
    "duration": 8,
    "start_time": "2022-07-09T16:10:12.565Z"
   },
   {
    "duration": 5,
    "start_time": "2022-07-09T16:10:12.575Z"
   },
   {
    "duration": 273,
    "start_time": "2022-07-09T16:10:12.582Z"
   },
   {
    "duration": 243,
    "start_time": "2022-07-09T16:10:12.858Z"
   },
   {
    "duration": 343,
    "start_time": "2022-07-09T16:10:13.103Z"
   },
   {
    "duration": 6,
    "start_time": "2022-07-09T16:10:13.450Z"
   },
   {
    "duration": 20,
    "start_time": "2022-07-09T16:10:13.458Z"
   },
   {
    "duration": 308,
    "start_time": "2022-07-09T16:10:13.480Z"
   },
   {
    "duration": 360,
    "start_time": "2022-07-09T16:10:13.790Z"
   },
   {
    "duration": 20,
    "start_time": "2022-07-09T16:10:14.154Z"
   },
   {
    "duration": 19,
    "start_time": "2022-07-09T16:10:14.176Z"
   },
   {
    "duration": 31,
    "start_time": "2022-07-09T16:10:14.197Z"
   },
   {
    "duration": 1667,
    "start_time": "2022-07-09T16:10:14.230Z"
   },
   {
    "duration": 1852,
    "start_time": "2022-07-09T16:10:15.899Z"
   },
   {
    "duration": 1850,
    "start_time": "2022-07-09T16:10:17.754Z"
   },
   {
    "duration": 1992,
    "start_time": "2022-07-09T16:10:19.606Z"
   },
   {
    "duration": 2673,
    "start_time": "2022-07-09T16:10:21.600Z"
   },
   {
    "duration": 2033,
    "start_time": "2022-07-09T16:10:24.275Z"
   },
   {
    "duration": 1965,
    "start_time": "2022-07-09T16:10:26.310Z"
   },
   {
    "duration": 2921,
    "start_time": "2022-07-09T16:10:28.277Z"
   },
   {
    "duration": 1721,
    "start_time": "2022-07-09T16:10:31.200Z"
   },
   {
    "duration": 1519,
    "start_time": "2022-07-09T16:10:32.927Z"
   },
   {
    "duration": 1901,
    "start_time": "2022-07-09T16:10:34.449Z"
   },
   {
    "duration": 652,
    "start_time": "2022-08-05T18:20:14.042Z"
   },
   {
    "duration": 655,
    "start_time": "2022-08-05T18:20:34.210Z"
   },
   {
    "duration": 650,
    "start_time": "2022-08-05T18:21:19.591Z"
   },
   {
    "duration": 652,
    "start_time": "2022-08-05T18:21:30.923Z"
   },
   {
    "duration": 688,
    "start_time": "2022-08-05T18:21:35.604Z"
   },
   {
    "duration": 644,
    "start_time": "2022-08-05T18:21:41.589Z"
   },
   {
    "duration": 647,
    "start_time": "2022-08-05T18:21:45.012Z"
   },
   {
    "duration": 668,
    "start_time": "2022-08-05T18:21:56.577Z"
   },
   {
    "duration": 653,
    "start_time": "2022-08-05T18:22:03.239Z"
   },
   {
    "duration": 652,
    "start_time": "2022-08-05T18:22:24.418Z"
   },
   {
    "duration": 1193,
    "start_time": "2022-08-05T18:22:47.788Z"
   },
   {
    "duration": 365,
    "start_time": "2022-08-05T18:22:48.982Z"
   },
   {
    "duration": 625,
    "start_time": "2022-08-05T18:22:49.349Z"
   },
   {
    "duration": 93,
    "start_time": "2022-08-05T18:22:49.976Z"
   },
   {
    "duration": 0,
    "start_time": "2022-08-05T18:22:50.071Z"
   },
   {
    "duration": 0,
    "start_time": "2022-08-05T18:22:50.072Z"
   },
   {
    "duration": 0,
    "start_time": "2022-08-05T18:22:50.073Z"
   },
   {
    "duration": 0,
    "start_time": "2022-08-05T18:22:50.074Z"
   },
   {
    "duration": 1,
    "start_time": "2022-08-05T18:22:50.075Z"
   },
   {
    "duration": 0,
    "start_time": "2022-08-05T18:22:50.076Z"
   },
   {
    "duration": 0,
    "start_time": "2022-08-05T18:22:50.078Z"
   },
   {
    "duration": 0,
    "start_time": "2022-08-05T18:22:50.079Z"
   },
   {
    "duration": 0,
    "start_time": "2022-08-05T18:22:50.081Z"
   },
   {
    "duration": 0,
    "start_time": "2022-08-05T18:22:50.082Z"
   },
   {
    "duration": 0,
    "start_time": "2022-08-05T18:22:50.084Z"
   },
   {
    "duration": 0,
    "start_time": "2022-08-05T18:22:50.085Z"
   },
   {
    "duration": 0,
    "start_time": "2022-08-05T18:22:50.086Z"
   },
   {
    "duration": 0,
    "start_time": "2022-08-05T18:22:50.088Z"
   },
   {
    "duration": 0,
    "start_time": "2022-08-05T18:22:50.089Z"
   },
   {
    "duration": 0,
    "start_time": "2022-08-05T18:22:50.090Z"
   },
   {
    "duration": 0,
    "start_time": "2022-08-05T18:22:50.091Z"
   },
   {
    "duration": 4,
    "start_time": "2022-08-05T18:24:02.483Z"
   },
   {
    "duration": 197,
    "start_time": "2022-08-05T18:24:02.489Z"
   },
   {
    "duration": 686,
    "start_time": "2022-08-05T18:24:02.688Z"
   },
   {
    "duration": 21,
    "start_time": "2022-08-05T18:24:03.377Z"
   },
   {
    "duration": 40,
    "start_time": "2022-08-05T18:24:03.400Z"
   },
   {
    "duration": 68,
    "start_time": "2022-08-05T18:24:03.442Z"
   },
   {
    "duration": 6,
    "start_time": "2022-08-05T18:24:03.512Z"
   },
   {
    "duration": 52,
    "start_time": "2022-08-05T18:24:03.520Z"
   },
   {
    "duration": 8,
    "start_time": "2022-08-05T18:24:03.610Z"
   },
   {
    "duration": 2602,
    "start_time": "2022-08-05T18:24:03.620Z"
   },
   {
    "duration": 102,
    "start_time": "2022-08-05T18:24:06.224Z"
   },
   {
    "duration": 40,
    "start_time": "2022-08-05T18:24:06.328Z"
   },
   {
    "duration": 88,
    "start_time": "2022-08-05T18:24:06.370Z"
   },
   {
    "duration": 137,
    "start_time": "2022-08-05T18:24:06.460Z"
   },
   {
    "duration": 33,
    "start_time": "2022-08-05T18:24:06.599Z"
   },
   {
    "duration": 81,
    "start_time": "2022-08-05T18:24:06.633Z"
   },
   {
    "duration": 162,
    "start_time": "2022-08-05T18:24:06.716Z"
   },
   {
    "duration": 0,
    "start_time": "2022-08-05T18:24:06.879Z"
   },
   {
    "duration": 0,
    "start_time": "2022-08-05T18:24:06.881Z"
   },
   {
    "duration": 0,
    "start_time": "2022-08-05T18:24:06.882Z"
   },
   {
    "duration": 97,
    "start_time": "2022-08-05T18:29:49.162Z"
   },
   {
    "duration": 1287,
    "start_time": "2022-08-05T18:34:16.053Z"
   },
   {
    "duration": 1333,
    "start_time": "2022-08-07T14:02:30.839Z"
   },
   {
    "duration": 328,
    "start_time": "2022-08-07T14:02:38.319Z"
   },
   {
    "duration": 55,
    "start_time": "2022-08-07T14:03:41.952Z"
   },
   {
    "duration": 152,
    "start_time": "2022-08-07T14:04:12.327Z"
   },
   {
    "duration": 46,
    "start_time": "2022-08-07T14:09:09.618Z"
   },
   {
    "duration": 558,
    "start_time": "2022-08-07T14:10:31.763Z"
   },
   {
    "duration": 845,
    "start_time": "2022-08-07T14:18:50.999Z"
   },
   {
    "duration": 390,
    "start_time": "2022-08-07T14:18:56.698Z"
   },
   {
    "duration": 694,
    "start_time": "2022-08-07T14:19:11.124Z"
   },
   {
    "duration": 8,
    "start_time": "2022-08-07T14:19:22.846Z"
   },
   {
    "duration": 11,
    "start_time": "2022-08-07T14:19:42.895Z"
   },
   {
    "duration": 9,
    "start_time": "2022-08-07T14:19:54.633Z"
   },
   {
    "duration": 49,
    "start_time": "2022-08-07T14:23:53.578Z"
   },
   {
    "duration": 63,
    "start_time": "2022-08-07T14:24:08.711Z"
   },
   {
    "duration": 577,
    "start_time": "2022-08-07T14:26:56.675Z"
   },
   {
    "duration": 1173,
    "start_time": "2022-08-09T19:08:58.893Z"
   },
   {
    "duration": 879,
    "start_time": "2022-08-09T19:09:00.068Z"
   },
   {
    "duration": 477,
    "start_time": "2022-08-09T19:09:00.949Z"
   },
   {
    "duration": 18,
    "start_time": "2022-08-09T19:09:01.428Z"
   },
   {
    "duration": 64,
    "start_time": "2022-08-09T19:09:01.447Z"
   },
   {
    "duration": 20,
    "start_time": "2022-08-09T19:09:01.513Z"
   },
   {
    "duration": 15,
    "start_time": "2022-08-09T19:09:01.535Z"
   },
   {
    "duration": 41,
    "start_time": "2022-08-09T19:09:01.552Z"
   },
   {
    "duration": 30,
    "start_time": "2022-08-09T19:09:01.595Z"
   },
   {
    "duration": 17,
    "start_time": "2022-08-09T19:09:01.627Z"
   },
   {
    "duration": 115,
    "start_time": "2022-08-09T19:09:01.646Z"
   },
   {
    "duration": 12,
    "start_time": "2022-08-09T19:09:01.763Z"
   },
   {
    "duration": 30,
    "start_time": "2022-08-09T19:09:01.776Z"
   },
   {
    "duration": 1133,
    "start_time": "2022-08-09T19:09:01.808Z"
   },
   {
    "duration": 16,
    "start_time": "2022-08-09T19:09:02.943Z"
   },
   {
    "duration": 7,
    "start_time": "2022-08-09T19:09:02.961Z"
   },
   {
    "duration": 1911,
    "start_time": "2022-08-09T19:09:02.969Z"
   },
   {
    "duration": 81,
    "start_time": "2022-08-09T19:09:04.882Z"
   },
   {
    "duration": 171,
    "start_time": "2022-08-09T19:09:04.964Z"
   },
   {
    "duration": 68,
    "start_time": "2022-08-09T19:09:05.136Z"
   },
   {
    "duration": 87,
    "start_time": "2022-08-09T19:09:05.206Z"
   },
   {
    "duration": 32,
    "start_time": "2022-08-09T19:09:05.295Z"
   },
   {
    "duration": 100,
    "start_time": "2022-08-09T19:09:05.329Z"
   },
   {
    "duration": 27,
    "start_time": "2022-08-09T19:09:05.431Z"
   },
   {
    "duration": 15,
    "start_time": "2022-08-09T19:09:05.459Z"
   },
   {
    "duration": 21,
    "start_time": "2022-08-09T19:09:05.476Z"
   },
   {
    "duration": 18,
    "start_time": "2022-08-09T19:09:05.499Z"
   },
   {
    "duration": 1249,
    "start_time": "2022-08-09T19:09:05.520Z"
   },
   {
    "duration": 64,
    "start_time": "2022-08-09T19:11:25.577Z"
   },
   {
    "duration": 50,
    "start_time": "2022-08-09T19:11:36.339Z"
   },
   {
    "duration": 176,
    "start_time": "2022-08-09T19:13:55.580Z"
   },
   {
    "duration": 144,
    "start_time": "2022-08-09T19:14:01.650Z"
   },
   {
    "duration": 14,
    "start_time": "2022-08-09T19:17:10.526Z"
   },
   {
    "duration": 24,
    "start_time": "2022-08-09T19:23:06.884Z"
   },
   {
    "duration": 14,
    "start_time": "2022-08-09T19:23:22.135Z"
   },
   {
    "duration": 2956,
    "start_time": "2022-08-09T19:23:31.882Z"
   },
   {
    "duration": 1243,
    "start_time": "2022-08-09T19:23:52.740Z"
   },
   {
    "duration": 611,
    "start_time": "2022-08-09T19:23:53.985Z"
   },
   {
    "duration": 459,
    "start_time": "2022-08-09T19:23:54.598Z"
   },
   {
    "duration": 24,
    "start_time": "2022-08-09T19:23:55.060Z"
   },
   {
    "duration": 15,
    "start_time": "2022-08-09T19:23:55.085Z"
   },
   {
    "duration": 33,
    "start_time": "2022-08-09T19:23:55.102Z"
   },
   {
    "duration": 38,
    "start_time": "2022-08-09T19:23:55.137Z"
   },
   {
    "duration": 29,
    "start_time": "2022-08-09T19:23:55.177Z"
   },
   {
    "duration": 9,
    "start_time": "2022-08-09T19:23:55.209Z"
   },
   {
    "duration": 12,
    "start_time": "2022-08-09T19:23:55.222Z"
   },
   {
    "duration": 165,
    "start_time": "2022-08-09T19:23:55.236Z"
   },
   {
    "duration": 15,
    "start_time": "2022-08-09T19:23:55.403Z"
   },
   {
    "duration": 18,
    "start_time": "2022-08-09T19:23:55.421Z"
   },
   {
    "duration": 1236,
    "start_time": "2022-08-09T19:23:55.441Z"
   },
   {
    "duration": 6,
    "start_time": "2022-08-09T19:23:56.679Z"
   },
   {
    "duration": 11,
    "start_time": "2022-08-09T19:23:56.686Z"
   },
   {
    "duration": 592,
    "start_time": "2022-08-09T19:23:56.698Z"
   },
   {
    "duration": 198,
    "start_time": "2022-08-09T19:23:57.292Z"
   },
   {
    "duration": 35,
    "start_time": "2022-08-09T19:23:57.492Z"
   },
   {
    "duration": 98,
    "start_time": "2022-08-09T19:23:57.528Z"
   },
   {
    "duration": 154,
    "start_time": "2022-08-09T19:23:57.627Z"
   },
   {
    "duration": 89,
    "start_time": "2022-08-09T19:23:57.783Z"
   },
   {
    "duration": 9,
    "start_time": "2022-08-09T19:23:57.873Z"
   },
   {
    "duration": 46,
    "start_time": "2022-08-09T19:23:57.884Z"
   },
   {
    "duration": 23,
    "start_time": "2022-08-09T19:23:57.957Z"
   },
   {
    "duration": 54,
    "start_time": "2022-08-09T19:23:57.981Z"
   },
   {
    "duration": 30,
    "start_time": "2022-08-09T19:23:58.037Z"
   },
   {
    "duration": 13,
    "start_time": "2022-08-09T19:23:58.070Z"
   },
   {
    "duration": 16,
    "start_time": "2022-08-09T19:23:58.085Z"
   },
   {
    "duration": 2,
    "start_time": "2022-08-09T19:23:58.103Z"
   },
   {
    "duration": 4640,
    "start_time": "2022-08-09T19:23:58.107Z"
   },
   {
    "duration": 21,
    "start_time": "2022-08-09T19:24:02.751Z"
   },
   {
    "duration": 1283,
    "start_time": "2022-08-09T19:24:02.773Z"
   },
   {
    "duration": 1659,
    "start_time": "2022-09-17T22:16:20.204Z"
   },
   {
    "duration": 40,
    "start_time": "2022-09-17T22:16:22.253Z"
   },
   {
    "duration": 24,
    "start_time": "2022-09-17T22:16:22.897Z"
   },
   {
    "duration": 15,
    "start_time": "2022-09-17T22:16:23.455Z"
   },
   {
    "duration": 7,
    "start_time": "2022-09-17T22:16:23.696Z"
   },
   {
    "duration": 27,
    "start_time": "2022-09-17T22:16:24.030Z"
   },
   {
    "duration": 51,
    "start_time": "2022-09-17T22:16:24.556Z"
   },
   {
    "duration": 16,
    "start_time": "2022-09-17T22:16:24.945Z"
   },
   {
    "duration": 1286,
    "start_time": "2022-09-17T22:16:25.748Z"
   },
   {
    "duration": 150,
    "start_time": "2022-09-17T22:16:28.999Z"
   },
   {
    "duration": 3950,
    "start_time": "2022-09-17T22:16:41.395Z"
   },
   {
    "duration": 3741,
    "start_time": "2022-09-17T22:17:44.109Z"
   },
   {
    "duration": 1799,
    "start_time": "2022-09-20T19:25:59.394Z"
   },
   {
    "duration": 71,
    "start_time": "2022-09-20T19:26:01.196Z"
   },
   {
    "duration": 11,
    "start_time": "2022-09-20T19:26:01.270Z"
   },
   {
    "duration": 15,
    "start_time": "2022-09-20T19:26:01.284Z"
   },
   {
    "duration": 16,
    "start_time": "2022-09-20T19:26:01.301Z"
   },
   {
    "duration": 27,
    "start_time": "2022-09-20T19:26:01.319Z"
   },
   {
    "duration": 39,
    "start_time": "2022-09-20T19:26:01.348Z"
   },
   {
    "duration": 25,
    "start_time": "2022-09-20T19:26:01.389Z"
   },
   {
    "duration": 1252,
    "start_time": "2022-09-20T19:26:01.415Z"
   },
   {
    "duration": 3926,
    "start_time": "2022-09-20T19:26:02.670Z"
   },
   {
    "duration": 1499,
    "start_time": "2022-09-20T19:26:06.600Z"
   },
   {
    "duration": 500,
    "start_time": "2022-09-20T19:26:08.101Z"
   },
   {
    "duration": 12,
    "start_time": "2022-09-20T19:26:08.603Z"
   },
   {
    "duration": 104432,
    "start_time": "2022-09-20T19:26:08.616Z"
   },
   {
    "duration": 1162,
    "start_time": "2022-09-20T19:27:53.050Z"
   },
   {
    "duration": 450041,
    "start_time": "2022-09-20T19:27:54.214Z"
   },
   {
    "duration": 8,
    "start_time": "2022-09-20T19:35:24.258Z"
   },
   {
    "duration": 1587,
    "start_time": "2022-09-20T19:37:58.516Z"
   },
   {
    "duration": 68,
    "start_time": "2022-09-20T19:38:00.105Z"
   },
   {
    "duration": 10,
    "start_time": "2022-09-20T19:38:00.175Z"
   },
   {
    "duration": 31,
    "start_time": "2022-09-20T19:38:00.187Z"
   },
   {
    "duration": 16,
    "start_time": "2022-09-20T19:38:00.220Z"
   },
   {
    "duration": 32,
    "start_time": "2022-09-20T19:38:00.238Z"
   },
   {
    "duration": 44,
    "start_time": "2022-09-20T19:38:00.272Z"
   },
   {
    "duration": 15,
    "start_time": "2022-09-20T19:38:00.317Z"
   },
   {
    "duration": 1225,
    "start_time": "2022-09-20T19:38:00.333Z"
   },
   {
    "duration": 3647,
    "start_time": "2022-09-20T19:38:01.559Z"
   },
   {
    "duration": 1343,
    "start_time": "2022-09-20T19:38:05.208Z"
   },
   {
    "duration": 457,
    "start_time": "2022-09-20T19:38:06.552Z"
   },
   {
    "duration": 11,
    "start_time": "2022-09-20T19:38:07.011Z"
   },
   {
    "duration": 101423,
    "start_time": "2022-09-20T19:38:07.024Z"
   },
   {
    "duration": 1367,
    "start_time": "2022-09-20T19:39:48.448Z"
   },
   {
    "duration": 433777,
    "start_time": "2022-09-20T19:39:49.816Z"
   },
   {
    "duration": 12,
    "start_time": "2022-09-20T19:47:03.594Z"
   },
   {
    "duration": 18,
    "start_time": "2022-09-20T20:01:43.768Z"
   },
   {
    "duration": 24781,
    "start_time": "2022-09-20T20:02:02.716Z"
   },
   {
    "duration": 1258,
    "start_time": "2022-09-20T20:03:34.161Z"
   },
   {
    "duration": 1290,
    "start_time": "2022-09-20T20:04:07.090Z"
   },
   {
    "duration": 973,
    "start_time": "2022-09-20T20:04:18.484Z"
   },
   {
    "duration": 20,
    "start_time": "2022-09-20T20:04:33.465Z"
   },
   {
    "duration": 16,
    "start_time": "2022-09-20T20:04:51.558Z"
   },
   {
    "duration": 19,
    "start_time": "2022-09-20T20:05:10.495Z"
   },
   {
    "duration": 20,
    "start_time": "2022-09-20T20:05:26.865Z"
   },
   {
    "duration": 21,
    "start_time": "2022-09-20T20:05:40.261Z"
   },
   {
    "duration": 7371,
    "start_time": "2022-09-20T20:05:48.915Z"
   },
   {
    "duration": 5790,
    "start_time": "2022-09-20T20:06:13.073Z"
   },
   {
    "duration": 6132,
    "start_time": "2022-09-20T20:06:40.565Z"
   },
   {
    "duration": 7036,
    "start_time": "2022-09-20T20:07:26.453Z"
   },
   {
    "duration": 13,
    "start_time": "2022-09-20T20:07:51.757Z"
   },
   {
    "duration": 186,
    "start_time": "2022-09-20T20:08:11.057Z"
   },
   {
    "duration": 19,
    "start_time": "2022-09-20T20:08:29.185Z"
   },
   {
    "duration": 14,
    "start_time": "2022-09-20T20:08:41.833Z"
   },
   {
    "duration": 7,
    "start_time": "2022-09-20T20:08:47.777Z"
   },
   {
    "duration": 8,
    "start_time": "2022-09-20T20:10:32.210Z"
   },
   {
    "duration": 13,
    "start_time": "2022-09-20T20:10:51.973Z"
   },
   {
    "duration": 15,
    "start_time": "2022-09-20T20:10:54.776Z"
   },
   {
    "duration": 14,
    "start_time": "2022-09-20T20:11:44.286Z"
   },
   {
    "duration": 47,
    "start_time": "2022-09-20T20:12:00.844Z"
   },
   {
    "duration": 72,
    "start_time": "2022-09-20T20:12:25.372Z"
   },
   {
    "duration": 618,
    "start_time": "2022-09-20T20:13:03.479Z"
   },
   {
    "duration": 70,
    "start_time": "2022-09-20T20:13:12.982Z"
   },
   {
    "duration": 23,
    "start_time": "2022-09-20T20:13:27.897Z"
   },
   {
    "duration": 55,
    "start_time": "2022-09-20T20:17:15.155Z"
   },
   {
    "duration": 18,
    "start_time": "2022-09-20T20:17:33.456Z"
   },
   {
    "duration": 354,
    "start_time": "2022-09-20T20:17:44.194Z"
   },
   {
    "duration": 318,
    "start_time": "2022-09-20T20:18:09.047Z"
   },
   {
    "duration": 1115,
    "start_time": "2022-09-20T20:18:48.110Z"
   },
   {
    "duration": 216,
    "start_time": "2022-09-20T20:18:59.910Z"
   },
   {
    "duration": 166,
    "start_time": "2022-09-20T20:20:30.879Z"
   },
   {
    "duration": 290,
    "start_time": "2022-09-20T20:21:03.478Z"
   },
   {
    "duration": 272,
    "start_time": "2022-09-20T20:21:12.708Z"
   },
   {
    "duration": 277,
    "start_time": "2022-09-20T20:21:27.016Z"
   },
   {
    "duration": 293,
    "start_time": "2022-09-20T20:21:35.807Z"
   },
   {
    "duration": 297,
    "start_time": "2022-09-20T20:22:00.566Z"
   },
   {
    "duration": 366,
    "start_time": "2022-09-20T20:22:23.179Z"
   },
   {
    "duration": 337,
    "start_time": "2022-09-20T20:22:52.394Z"
   },
   {
    "duration": 300,
    "start_time": "2022-09-20T20:22:56.248Z"
   },
   {
    "duration": 297,
    "start_time": "2022-09-20T20:23:15.900Z"
   },
   {
    "duration": 171,
    "start_time": "2022-09-20T20:24:28.765Z"
   },
   {
    "duration": 193,
    "start_time": "2022-09-20T20:24:48.188Z"
   },
   {
    "duration": 198,
    "start_time": "2022-09-20T20:25:34.904Z"
   },
   {
    "duration": 222,
    "start_time": "2022-09-20T20:26:07.254Z"
   },
   {
    "duration": 219,
    "start_time": "2022-09-20T20:26:18.435Z"
   },
   {
    "duration": 242,
    "start_time": "2022-09-20T20:26:35.460Z"
   },
   {
    "duration": 268,
    "start_time": "2022-09-20T20:26:42.656Z"
   },
   {
    "duration": 279,
    "start_time": "2022-09-20T20:26:54.910Z"
   },
   {
    "duration": 273,
    "start_time": "2022-09-20T20:27:15.212Z"
   },
   {
    "duration": 47,
    "start_time": "2022-09-20T20:29:36.278Z"
   },
   {
    "duration": 525,
    "start_time": "2022-09-20T20:29:40.302Z"
   },
   {
    "duration": 21,
    "start_time": "2022-09-20T20:29:49.757Z"
   },
   {
    "duration": 15,
    "start_time": "2022-09-20T20:29:58.247Z"
   },
   {
    "duration": 510,
    "start_time": "2022-09-20T20:30:12.943Z"
   },
   {
    "duration": 15,
    "start_time": "2022-09-20T20:30:36.882Z"
   },
   {
    "duration": 420,
    "start_time": "2022-09-20T20:32:02.706Z"
   },
   {
    "duration": 1125,
    "start_time": "2022-09-20T20:33:16.054Z"
   },
   {
    "duration": 413,
    "start_time": "2022-09-20T20:33:57.011Z"
   },
   {
    "duration": 509,
    "start_time": "2022-09-20T20:37:54.056Z"
   },
   {
    "duration": 943,
    "start_time": "2022-09-20T20:38:18.952Z"
   },
   {
    "duration": 106,
    "start_time": "2022-09-20T20:39:12.469Z"
   },
   {
    "duration": 13,
    "start_time": "2022-09-20T20:42:58.650Z"
   },
   {
    "duration": 115,
    "start_time": "2022-09-20T20:43:07.562Z"
   },
   {
    "duration": 140,
    "start_time": "2022-09-20T20:43:15.960Z"
   },
   {
    "duration": 494,
    "start_time": "2022-09-20T20:45:47.055Z"
   },
   {
    "duration": 474,
    "start_time": "2022-09-20T20:45:59.404Z"
   },
   {
    "duration": 433,
    "start_time": "2022-09-20T20:46:05.601Z"
   },
   {
    "duration": 486,
    "start_time": "2022-09-20T20:46:18.749Z"
   },
   {
    "duration": 341,
    "start_time": "2022-09-20T20:46:35.666Z"
   },
   {
    "duration": 16,
    "start_time": "2022-09-20T20:46:54.279Z"
   },
   {
    "duration": 325,
    "start_time": "2022-09-20T20:46:58.003Z"
   },
   {
    "duration": 430,
    "start_time": "2022-09-20T20:47:21.372Z"
   },
   {
    "duration": 265,
    "start_time": "2022-09-20T20:48:05.069Z"
   },
   {
    "duration": 246,
    "start_time": "2022-09-20T20:48:59.594Z"
   },
   {
    "duration": 256,
    "start_time": "2022-09-20T20:49:07.088Z"
   }
  ],
  "kernelspec": {
   "display_name": "Python 3",
   "language": "python",
   "name": "python3"
  },
  "language_info": {
   "codemirror_mode": {
    "name": "ipython",
    "version": 3
   },
   "file_extension": ".py",
   "mimetype": "text/x-python",
   "name": "python",
   "nbconvert_exporter": "python",
   "pygments_lexer": "ipython3",
   "version": "3.8.3"
  },
  "toc": {
   "base_numbering": 1,
   "nav_menu": {},
   "number_sections": true,
   "sideBar": true,
   "skip_h1_title": true,
   "title_cell": "Table of Contents",
   "title_sidebar": "Contents",
   "toc_cell": false,
   "toc_position": {
    "height": "calc(100% - 180px)",
    "left": "10px",
    "top": "150px",
    "width": "312.4375px"
   },
   "toc_section_display": true,
   "toc_window_display": true
  }
 },
 "nbformat": 4,
 "nbformat_minor": 4
}
