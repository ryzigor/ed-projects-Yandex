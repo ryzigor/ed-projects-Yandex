{
 "cells": [
  {
   "cell_type": "markdown",
   "metadata": {},
   "source": [
    "# Анализ рекламных источников\n",
    "\n",
    "\n",
    "Задача - проанализировать поведение игроков в зависимости от источника перехода.\n",
    "\n",
    "- Провести исследовательский анализ данных;\n",
    "- Проанализировать влияние источника перехода в игру на поведение пользователя;\n",
    "- Проверить статистические гипотезы\n",
    "    1. *Проверить гипотезу: время завершения уровня различается в зависимости способа прохождения:*\n",
    "        - *через реализацию проекта,*\n",
    "        - *через победу над первым игроком.*\n",
    "    2. *Сформулировать собственную статистическую гипотезу. Дополнить её нулевой и альтернативной гипотезами. Проверить гипотезу с помощью статистического теста.*"
   ]
  },
  {
   "cell_type": "markdown",
   "metadata": {},
   "source": [
    "#### Описание данных\n",
    "Основной датасет содержит данные о событиях, совершенных в мобильной игре «Космические братья». В ней пользователи строят свою космическую программу и пытаются преуспеть в нелёгком деле колонизации галактики.\n",
    "\n",
    "Основная монетизация игры — только планируется. Но предполагается, что в приложении будет происходить показ рекламы на экране с выбором типа объекта для постройки.\n",
    "\n",
    "В датасете представлены данные по игре пользователей на первом уровне. Завершение первого уровня требует от игрока выполнения одного из двух условий:\n",
    "\n",
    "- Победа над первым врагом\n",
    "- Реализация проекта - разработка орбитальной сборки спутников\n",
    "\n",
    "В датасете содержатся данные первых пользователей приложения — когорты пользователей, которые начали пользоваться приложением в период с 4 по 10 мая включительно.\n",
    "\n",
    "Датасет *game_actions.csv*:\n",
    "\n",
    "- `event_datetime` — время события;\n",
    "- `event` — одно из трёх событий:\n",
    "    1. `building` — объект построен,\n",
    "    2. `finished_stage_1` — первый уровень завершён,\n",
    "    3. `project` — проект завершён;\n",
    "- `building_type` — один из трёх типов здания:\n",
    "    1. `assembly_shop` — сборочный цех,\n",
    "    2. `spaceport` — космопорт,\n",
    "    3. `research_center` — исследовательский центр;\n",
    "- `user_id` — идентификатор пользователя;\n",
    "- `project_type` — тип реализованного проекта;\n",
    "\n",
    "Помимо основного датасета есть два датасета с информацией о рекламных активностях. Они также помогут в решении задачи.\n",
    "\n",
    "Датасет *ad_costs.csv*:\n",
    "\n",
    "- `day` - день, в который был совершен клик по объявлению\n",
    "- `source` - источник трафика\n",
    "- `cost` - стоимость кликов\n",
    "\n",
    "Датасет user_source.csv содержит колонки:\n",
    "\n",
    "- `user_id` - идентификатор пользователя\n",
    "- `source` - источников, с которого пришёл пользователь, установивший приложение"
   ]
  },
  {
   "cell_type": "markdown",
   "metadata": {},
   "source": [
    "## Декомпозиция задачи"
   ]
  },
  {
   "cell_type": "markdown",
   "metadata": {},
   "source": [
    "Исходная задача - проанализировать поведение игроков в зависимости от источника перехода.\n",
    "\n",
    "Уточненная задача: \n",
    "- Проанализировать влияние источника перехода в игру на поведение пользователя\n",
    "- Проверка гипотезы 1: время завершения уровня различается в зависимости способа прохождения:\n",
    "    - через реализацию проекта,\n",
    "    - через победу над первым игроком.\n",
    "- Проверка гипотезы 2: Вводим дополнительную метрику - количество построек (предполагаем, что каждая показывает рекламу и монетизируется) -  в разбивке по каналам и дням/ расходы по каналу за день.  Назовем метрику конверсией. Гипотеза - конверсия различается в зависимости от канала привлечения пользователя."
   ]
  },
  {
   "cell_type": "markdown",
   "metadata": {},
   "source": [
    "Этапы\n",
    "* Предобработка данных\n",
    "* Исследовательский анализ данных\n",
    "* Проверить влияние способа прохождения на время завершения уровня\n",
    "    * Время завершения уровня определяем как разницу между временем события `finished_stage_1` и временем первого события для уникального пользователя\n",
    "    * Группировка, визуализация\n",
    "    * Формулирование и проверка гипотез z-тестом\n",
    "    * Выводы\n",
    "* Проверить влияние канала привлечения на конверсию\n",
    "    * Рассчет конверсии, группировка, визуализация\n",
    "    * Попарная проверка гипотез\n",
    "    * Выводы\n",
    "* Подготовка презентации\n",
    "* Разработка дашборда\n",
    "    1. Построить диаграмму распределения количества построенных объектов\n",
    "    2. Добавить индикатор количества пользователей\n",
    "    3. Добавить фильтр дашборда по признаку завершения уровня"
   ]
  },
  {
   "cell_type": "markdown",
   "metadata": {},
   "source": [
    "# Предобработка данных"
   ]
  },
  {
   "cell_type": "code",
   "execution_count": 84,
   "metadata": {},
   "outputs": [],
   "source": [
    "#Импорт библиотек\n",
    "import pandas as pd\n",
    "import numpy as np\n",
    "import matplotlib.pyplot as plt\n",
    "import scipy.stats as stats\n",
    "import datetime as dt\n",
    "import seaborn as sb\n",
    "import os"
   ]
  },
  {
   "cell_type": "markdown",
   "metadata": {},
   "source": [
    "Загружаем данные"
   ]
  },
  {
   "cell_type": "code",
   "execution_count": 85,
   "metadata": {},
   "outputs": [],
   "source": [
    "#Функция для чтения таблиц\n",
    "def read_table(name):\n",
    "    pth1 = '/datasets/' + name + '.csv'\n",
    "    pth2 = 'C:\\\\Users\\\\ryzig\\YandexDisk\\Data analyst Yandex 2022\\Проекты\\Diploma project\\\\' + name + '.csv'\n",
    "    pth3 = 'F:/YandexDisk/Data analyst Yandex 2022/Проекты/Diploma project/' + name +'.csv'\n",
    "\n",
    "    if os.path.exists(pth1):\n",
    "        table = pd.read_csv(pth1, sep=',')\n",
    "    elif os.path.exists(pth2):\n",
    "        table = pd.read_csv(pth2, sep=',')\n",
    "    elif os.path.exists(pth3):\n",
    "        table = pd.read_csv(pth3, sep=',')\n",
    "    else:\n",
    "        print('Something is wrong - ', pth1)\n",
    "        return\n",
    "    return table\n",
    "\n",
    "\n",
    "game_actions = read_table('game_actions')\n",
    "ad_costs = read_table('ad_costs')\n",
    "user_source = read_table('user_source')\n",
    "\n",
    "tables = [game_actions, ad_costs, user_source]"
   ]
  },
  {
   "cell_type": "code",
   "execution_count": 86,
   "metadata": {},
   "outputs": [],
   "source": [
    "#функция для предварительного просмотра данных\n",
    "def describing_data(df):\n",
    "    display(df.head())\n",
    "    print('*'*50)\n",
    "    df.info()\n",
    "    print('*'*50)\n",
    "    display(df.describe())\n",
    "    print('*'*50)\n",
    "    print('Явных дубликатов: ', table.duplicated().sum())"
   ]
  },
  {
   "cell_type": "code",
   "execution_count": 87,
   "metadata": {
    "scrolled": true
   },
   "outputs": [
    {
     "data": {
      "text/html": [
       "<div>\n",
       "<style scoped>\n",
       "    .dataframe tbody tr th:only-of-type {\n",
       "        vertical-align: middle;\n",
       "    }\n",
       "\n",
       "    .dataframe tbody tr th {\n",
       "        vertical-align: top;\n",
       "    }\n",
       "\n",
       "    .dataframe thead th {\n",
       "        text-align: right;\n",
       "    }\n",
       "</style>\n",
       "<table border=\"1\" class=\"dataframe\">\n",
       "  <thead>\n",
       "    <tr style=\"text-align: right;\">\n",
       "      <th></th>\n",
       "      <th>event_datetime</th>\n",
       "      <th>event</th>\n",
       "      <th>building_type</th>\n",
       "      <th>user_id</th>\n",
       "      <th>project_type</th>\n",
       "    </tr>\n",
       "  </thead>\n",
       "  <tbody>\n",
       "    <tr>\n",
       "      <th>0</th>\n",
       "      <td>2020-05-04 00:00:01</td>\n",
       "      <td>building</td>\n",
       "      <td>assembly_shop</td>\n",
       "      <td>55e92310-cb8e-4754-b622-597e124b03de</td>\n",
       "      <td>NaN</td>\n",
       "    </tr>\n",
       "    <tr>\n",
       "      <th>1</th>\n",
       "      <td>2020-05-04 00:00:03</td>\n",
       "      <td>building</td>\n",
       "      <td>assembly_shop</td>\n",
       "      <td>c07b1c10-f477-44dc-81dc-ec82254b1347</td>\n",
       "      <td>NaN</td>\n",
       "    </tr>\n",
       "    <tr>\n",
       "      <th>2</th>\n",
       "      <td>2020-05-04 00:00:16</td>\n",
       "      <td>building</td>\n",
       "      <td>assembly_shop</td>\n",
       "      <td>6edd42cc-e753-4ff6-a947-2107cd560710</td>\n",
       "      <td>NaN</td>\n",
       "    </tr>\n",
       "    <tr>\n",
       "      <th>3</th>\n",
       "      <td>2020-05-04 00:00:16</td>\n",
       "      <td>building</td>\n",
       "      <td>assembly_shop</td>\n",
       "      <td>92c69003-d60a-444a-827f-8cc51bf6bf4c</td>\n",
       "      <td>NaN</td>\n",
       "    </tr>\n",
       "    <tr>\n",
       "      <th>4</th>\n",
       "      <td>2020-05-04 00:00:35</td>\n",
       "      <td>building</td>\n",
       "      <td>assembly_shop</td>\n",
       "      <td>cdc6bb92-0ccb-4490-9866-ef142f09139d</td>\n",
       "      <td>NaN</td>\n",
       "    </tr>\n",
       "  </tbody>\n",
       "</table>\n",
       "</div>"
      ],
      "text/plain": [
       "        event_datetime     event  building_type  \\\n",
       "0  2020-05-04 00:00:01  building  assembly_shop   \n",
       "1  2020-05-04 00:00:03  building  assembly_shop   \n",
       "2  2020-05-04 00:00:16  building  assembly_shop   \n",
       "3  2020-05-04 00:00:16  building  assembly_shop   \n",
       "4  2020-05-04 00:00:35  building  assembly_shop   \n",
       "\n",
       "                                user_id project_type  \n",
       "0  55e92310-cb8e-4754-b622-597e124b03de          NaN  \n",
       "1  c07b1c10-f477-44dc-81dc-ec82254b1347          NaN  \n",
       "2  6edd42cc-e753-4ff6-a947-2107cd560710          NaN  \n",
       "3  92c69003-d60a-444a-827f-8cc51bf6bf4c          NaN  \n",
       "4  cdc6bb92-0ccb-4490-9866-ef142f09139d          NaN  "
      ]
     },
     "metadata": {},
     "output_type": "display_data"
    },
    {
     "name": "stdout",
     "output_type": "stream",
     "text": [
      "**************************************************\n",
      "<class 'pandas.core.frame.DataFrame'>\n",
      "RangeIndex: 135640 entries, 0 to 135639\n",
      "Data columns (total 5 columns):\n",
      " #   Column          Non-Null Count   Dtype \n",
      "---  ------          --------------   ----- \n",
      " 0   event_datetime  135640 non-null  object\n",
      " 1   event           135640 non-null  object\n",
      " 2   building_type   127957 non-null  object\n",
      " 3   user_id         135640 non-null  object\n",
      " 4   project_type    1866 non-null    object\n",
      "dtypes: object(5)\n",
      "memory usage: 5.2+ MB\n",
      "**************************************************\n"
     ]
    },
    {
     "data": {
      "text/html": [
       "<div>\n",
       "<style scoped>\n",
       "    .dataframe tbody tr th:only-of-type {\n",
       "        vertical-align: middle;\n",
       "    }\n",
       "\n",
       "    .dataframe tbody tr th {\n",
       "        vertical-align: top;\n",
       "    }\n",
       "\n",
       "    .dataframe thead th {\n",
       "        text-align: right;\n",
       "    }\n",
       "</style>\n",
       "<table border=\"1\" class=\"dataframe\">\n",
       "  <thead>\n",
       "    <tr style=\"text-align: right;\">\n",
       "      <th></th>\n",
       "      <th>event_datetime</th>\n",
       "      <th>event</th>\n",
       "      <th>building_type</th>\n",
       "      <th>user_id</th>\n",
       "      <th>project_type</th>\n",
       "    </tr>\n",
       "  </thead>\n",
       "  <tbody>\n",
       "    <tr>\n",
       "      <th>count</th>\n",
       "      <td>135640</td>\n",
       "      <td>135640</td>\n",
       "      <td>127957</td>\n",
       "      <td>135640</td>\n",
       "      <td>1866</td>\n",
       "    </tr>\n",
       "    <tr>\n",
       "      <th>unique</th>\n",
       "      <td>128790</td>\n",
       "      <td>3</td>\n",
       "      <td>3</td>\n",
       "      <td>13576</td>\n",
       "      <td>1</td>\n",
       "    </tr>\n",
       "    <tr>\n",
       "      <th>top</th>\n",
       "      <td>2020-05-09 12:35:56</td>\n",
       "      <td>building</td>\n",
       "      <td>spaceport</td>\n",
       "      <td>bf542075-e3a2-4e79-82d8-3838e86d2a25</td>\n",
       "      <td>satellite_orbital_assembly</td>\n",
       "    </tr>\n",
       "    <tr>\n",
       "      <th>freq</th>\n",
       "      <td>4</td>\n",
       "      <td>127957</td>\n",
       "      <td>59325</td>\n",
       "      <td>22</td>\n",
       "      <td>1866</td>\n",
       "    </tr>\n",
       "  </tbody>\n",
       "</table>\n",
       "</div>"
      ],
      "text/plain": [
       "             event_datetime     event building_type  \\\n",
       "count                135640    135640        127957   \n",
       "unique               128790         3             3   \n",
       "top     2020-05-09 12:35:56  building     spaceport   \n",
       "freq                      4    127957         59325   \n",
       "\n",
       "                                     user_id                project_type  \n",
       "count                                 135640                        1866  \n",
       "unique                                 13576                           1  \n",
       "top     bf542075-e3a2-4e79-82d8-3838e86d2a25  satellite_orbital_assembly  \n",
       "freq                                      22                        1866  "
      ]
     },
     "metadata": {},
     "output_type": "display_data"
    },
    {
     "name": "stdout",
     "output_type": "stream",
     "text": [
      "**************************************************\n",
      "Явных дубликатов:  1\n",
      "__________________________________________________\n"
     ]
    },
    {
     "data": {
      "text/html": [
       "<div>\n",
       "<style scoped>\n",
       "    .dataframe tbody tr th:only-of-type {\n",
       "        vertical-align: middle;\n",
       "    }\n",
       "\n",
       "    .dataframe tbody tr th {\n",
       "        vertical-align: top;\n",
       "    }\n",
       "\n",
       "    .dataframe thead th {\n",
       "        text-align: right;\n",
       "    }\n",
       "</style>\n",
       "<table border=\"1\" class=\"dataframe\">\n",
       "  <thead>\n",
       "    <tr style=\"text-align: right;\">\n",
       "      <th></th>\n",
       "      <th>source</th>\n",
       "      <th>day</th>\n",
       "      <th>cost</th>\n",
       "    </tr>\n",
       "  </thead>\n",
       "  <tbody>\n",
       "    <tr>\n",
       "      <th>0</th>\n",
       "      <td>facebook_ads</td>\n",
       "      <td>2020-05-03</td>\n",
       "      <td>935.882786</td>\n",
       "    </tr>\n",
       "    <tr>\n",
       "      <th>1</th>\n",
       "      <td>facebook_ads</td>\n",
       "      <td>2020-05-04</td>\n",
       "      <td>548.354480</td>\n",
       "    </tr>\n",
       "    <tr>\n",
       "      <th>2</th>\n",
       "      <td>facebook_ads</td>\n",
       "      <td>2020-05-05</td>\n",
       "      <td>260.185754</td>\n",
       "    </tr>\n",
       "    <tr>\n",
       "      <th>3</th>\n",
       "      <td>facebook_ads</td>\n",
       "      <td>2020-05-06</td>\n",
       "      <td>177.982200</td>\n",
       "    </tr>\n",
       "    <tr>\n",
       "      <th>4</th>\n",
       "      <td>facebook_ads</td>\n",
       "      <td>2020-05-07</td>\n",
       "      <td>111.766796</td>\n",
       "    </tr>\n",
       "  </tbody>\n",
       "</table>\n",
       "</div>"
      ],
      "text/plain": [
       "         source         day        cost\n",
       "0  facebook_ads  2020-05-03  935.882786\n",
       "1  facebook_ads  2020-05-04  548.354480\n",
       "2  facebook_ads  2020-05-05  260.185754\n",
       "3  facebook_ads  2020-05-06  177.982200\n",
       "4  facebook_ads  2020-05-07  111.766796"
      ]
     },
     "metadata": {},
     "output_type": "display_data"
    },
    {
     "name": "stdout",
     "output_type": "stream",
     "text": [
      "**************************************************\n",
      "<class 'pandas.core.frame.DataFrame'>\n",
      "RangeIndex: 28 entries, 0 to 27\n",
      "Data columns (total 3 columns):\n",
      " #   Column  Non-Null Count  Dtype  \n",
      "---  ------  --------------  -----  \n",
      " 0   source  28 non-null     object \n",
      " 1   day     28 non-null     object \n",
      " 2   cost    28 non-null     float64\n",
      "dtypes: float64(1), object(2)\n",
      "memory usage: 800.0+ bytes\n",
      "**************************************************\n"
     ]
    },
    {
     "data": {
      "text/html": [
       "<div>\n",
       "<style scoped>\n",
       "    .dataframe tbody tr th:only-of-type {\n",
       "        vertical-align: middle;\n",
       "    }\n",
       "\n",
       "    .dataframe tbody tr th {\n",
       "        vertical-align: top;\n",
       "    }\n",
       "\n",
       "    .dataframe thead th {\n",
       "        text-align: right;\n",
       "    }\n",
       "</style>\n",
       "<table border=\"1\" class=\"dataframe\">\n",
       "  <thead>\n",
       "    <tr style=\"text-align: right;\">\n",
       "      <th></th>\n",
       "      <th>cost</th>\n",
       "    </tr>\n",
       "  </thead>\n",
       "  <tbody>\n",
       "    <tr>\n",
       "      <th>count</th>\n",
       "      <td>28.000000</td>\n",
       "    </tr>\n",
       "    <tr>\n",
       "      <th>mean</th>\n",
       "      <td>271.556321</td>\n",
       "    </tr>\n",
       "    <tr>\n",
       "      <th>std</th>\n",
       "      <td>286.867650</td>\n",
       "    </tr>\n",
       "    <tr>\n",
       "      <th>min</th>\n",
       "      <td>23.314669</td>\n",
       "    </tr>\n",
       "    <tr>\n",
       "      <th>25%</th>\n",
       "      <td>66.747365</td>\n",
       "    </tr>\n",
       "    <tr>\n",
       "      <th>50%</th>\n",
       "      <td>160.056443</td>\n",
       "    </tr>\n",
       "    <tr>\n",
       "      <th>75%</th>\n",
       "      <td>349.034473</td>\n",
       "    </tr>\n",
       "    <tr>\n",
       "      <th>max</th>\n",
       "      <td>969.139394</td>\n",
       "    </tr>\n",
       "  </tbody>\n",
       "</table>\n",
       "</div>"
      ],
      "text/plain": [
       "             cost\n",
       "count   28.000000\n",
       "mean   271.556321\n",
       "std    286.867650\n",
       "min     23.314669\n",
       "25%     66.747365\n",
       "50%    160.056443\n",
       "75%    349.034473\n",
       "max    969.139394"
      ]
     },
     "metadata": {},
     "output_type": "display_data"
    },
    {
     "name": "stdout",
     "output_type": "stream",
     "text": [
      "**************************************************\n",
      "Явных дубликатов:  0\n",
      "__________________________________________________\n"
     ]
    },
    {
     "data": {
      "text/html": [
       "<div>\n",
       "<style scoped>\n",
       "    .dataframe tbody tr th:only-of-type {\n",
       "        vertical-align: middle;\n",
       "    }\n",
       "\n",
       "    .dataframe tbody tr th {\n",
       "        vertical-align: top;\n",
       "    }\n",
       "\n",
       "    .dataframe thead th {\n",
       "        text-align: right;\n",
       "    }\n",
       "</style>\n",
       "<table border=\"1\" class=\"dataframe\">\n",
       "  <thead>\n",
       "    <tr style=\"text-align: right;\">\n",
       "      <th></th>\n",
       "      <th>user_id</th>\n",
       "      <th>source</th>\n",
       "    </tr>\n",
       "  </thead>\n",
       "  <tbody>\n",
       "    <tr>\n",
       "      <th>0</th>\n",
       "      <td>0001f83c-c6ac-4621-b7f0-8a28b283ac30</td>\n",
       "      <td>facebook_ads</td>\n",
       "    </tr>\n",
       "    <tr>\n",
       "      <th>1</th>\n",
       "      <td>00151b4f-ba38-44a8-a650-d7cf130a0105</td>\n",
       "      <td>yandex_direct</td>\n",
       "    </tr>\n",
       "    <tr>\n",
       "      <th>2</th>\n",
       "      <td>001aaea6-3d14-43f1-8ca8-7f48820f17aa</td>\n",
       "      <td>youtube_channel_reklama</td>\n",
       "    </tr>\n",
       "    <tr>\n",
       "      <th>3</th>\n",
       "      <td>001d39dc-366c-4021-9604-6a3b9ff01e25</td>\n",
       "      <td>instagram_new_adverts</td>\n",
       "    </tr>\n",
       "    <tr>\n",
       "      <th>4</th>\n",
       "      <td>002f508f-67b6-479f-814b-b05f00d4e995</td>\n",
       "      <td>facebook_ads</td>\n",
       "    </tr>\n",
       "  </tbody>\n",
       "</table>\n",
       "</div>"
      ],
      "text/plain": [
       "                                user_id                   source\n",
       "0  0001f83c-c6ac-4621-b7f0-8a28b283ac30             facebook_ads\n",
       "1  00151b4f-ba38-44a8-a650-d7cf130a0105            yandex_direct\n",
       "2  001aaea6-3d14-43f1-8ca8-7f48820f17aa  youtube_channel_reklama\n",
       "3  001d39dc-366c-4021-9604-6a3b9ff01e25    instagram_new_adverts\n",
       "4  002f508f-67b6-479f-814b-b05f00d4e995             facebook_ads"
      ]
     },
     "metadata": {},
     "output_type": "display_data"
    },
    {
     "name": "stdout",
     "output_type": "stream",
     "text": [
      "**************************************************\n",
      "<class 'pandas.core.frame.DataFrame'>\n",
      "RangeIndex: 13576 entries, 0 to 13575\n",
      "Data columns (total 2 columns):\n",
      " #   Column   Non-Null Count  Dtype \n",
      "---  ------   --------------  ----- \n",
      " 0   user_id  13576 non-null  object\n",
      " 1   source   13576 non-null  object\n",
      "dtypes: object(2)\n",
      "memory usage: 212.2+ KB\n",
      "**************************************************\n"
     ]
    },
    {
     "data": {
      "text/html": [
       "<div>\n",
       "<style scoped>\n",
       "    .dataframe tbody tr th:only-of-type {\n",
       "        vertical-align: middle;\n",
       "    }\n",
       "\n",
       "    .dataframe tbody tr th {\n",
       "        vertical-align: top;\n",
       "    }\n",
       "\n",
       "    .dataframe thead th {\n",
       "        text-align: right;\n",
       "    }\n",
       "</style>\n",
       "<table border=\"1\" class=\"dataframe\">\n",
       "  <thead>\n",
       "    <tr style=\"text-align: right;\">\n",
       "      <th></th>\n",
       "      <th>user_id</th>\n",
       "      <th>source</th>\n",
       "    </tr>\n",
       "  </thead>\n",
       "  <tbody>\n",
       "    <tr>\n",
       "      <th>count</th>\n",
       "      <td>13576</td>\n",
       "      <td>13576</td>\n",
       "    </tr>\n",
       "    <tr>\n",
       "      <th>unique</th>\n",
       "      <td>13576</td>\n",
       "      <td>4</td>\n",
       "    </tr>\n",
       "    <tr>\n",
       "      <th>top</th>\n",
       "      <td>0001f83c-c6ac-4621-b7f0-8a28b283ac30</td>\n",
       "      <td>yandex_direct</td>\n",
       "    </tr>\n",
       "    <tr>\n",
       "      <th>freq</th>\n",
       "      <td>1</td>\n",
       "      <td>4817</td>\n",
       "    </tr>\n",
       "  </tbody>\n",
       "</table>\n",
       "</div>"
      ],
      "text/plain": [
       "                                     user_id         source\n",
       "count                                  13576          13576\n",
       "unique                                 13576              4\n",
       "top     0001f83c-c6ac-4621-b7f0-8a28b283ac30  yandex_direct\n",
       "freq                                       1           4817"
      ]
     },
     "metadata": {},
     "output_type": "display_data"
    },
    {
     "name": "stdout",
     "output_type": "stream",
     "text": [
      "**************************************************\n",
      "Явных дубликатов:  0\n",
      "__________________________________________________\n"
     ]
    }
   ],
   "source": [
    "for table in tables:\n",
    "    describing_data(table)\n",
    "    print('_'*50)"
   ]
  },
  {
   "cell_type": "markdown",
   "metadata": {},
   "source": [
    "Работаем с `game_actions`"
   ]
  },
  {
   "cell_type": "code",
   "execution_count": 88,
   "metadata": {},
   "outputs": [],
   "source": [
    "#меняем тип данных для event_datetime\n",
    "game_actions['event_datetime'] = pd.to_datetime(game_actions.event_datetime)\n",
    "#выделяем отдельно дату\n",
    "game_actions['date'] = game_actions.event_datetime.dt.date"
   ]
  },
  {
   "cell_type": "markdown",
   "metadata": {},
   "source": [
    "Всего 1 явный дубликат, удаляем его"
   ]
  },
  {
   "cell_type": "code",
   "execution_count": 89,
   "metadata": {},
   "outputs": [],
   "source": [
    "game_actions = game_actions.drop_duplicates().reset_index()"
   ]
  },
  {
   "cell_type": "code",
   "execution_count": 90,
   "metadata": {},
   "outputs": [
    {
     "data": {
      "text/plain": [
       "building            127956\n",
       "finished_stage_1      5817\n",
       "project               1866\n",
       "Name: event, dtype: int64"
      ]
     },
     "execution_count": 90,
     "metadata": {},
     "output_type": "execute_result"
    }
   ],
   "source": [
    "game_actions.event.value_counts()"
   ]
  },
  {
   "cell_type": "markdown",
   "metadata": {},
   "source": [
    "В столбце `event` отсутствуют пропуски, есть три понятных категории:\n",
    "* построено здание (показана реклама)\n",
    "* завершен уровень 1\n",
    "* завершен проект "
   ]
  },
  {
   "cell_type": "code",
   "execution_count": 91,
   "metadata": {},
   "outputs": [
    {
     "data": {
      "text/plain": [
       "spaceport          59325\n",
       "assembly_shop      54494\n",
       "research_center    14137\n",
       "Name: building_type, dtype: int64"
      ]
     },
     "execution_count": 91,
     "metadata": {},
     "output_type": "execute_result"
    }
   ],
   "source": [
    "game_actions.building_type.value_counts()"
   ]
  },
  {
   "cell_type": "markdown",
   "metadata": {},
   "source": [
    "В столбце `building_type` есть пропуски, также есть три вида зданий. Пропуски, очевидно, связаны с тем, что события по данным строкам  - это не постройка зданий. Заменим пропуски предопределенным значением \"not_acceptable\", которое можно будет фильтровать по необходимости."
   ]
  },
  {
   "cell_type": "code",
   "execution_count": 92,
   "metadata": {},
   "outputs": [],
   "source": [
    "game_actions['building_type'] = game_actions['building_type'].fillna('not_acceptable')"
   ]
  },
  {
   "cell_type": "code",
   "execution_count": 93,
   "metadata": {},
   "outputs": [
    {
     "data": {
      "text/plain": [
       "satellite_orbital_assembly    1866\n",
       "Name: project_type, dtype: int64"
      ]
     },
     "execution_count": 93,
     "metadata": {},
     "output_type": "execute_result"
    }
   ],
   "source": [
    "game_actions.project_type.value_counts()"
   ]
  },
  {
   "cell_type": "markdown",
   "metadata": {},
   "source": [
    "Тип проекта указан только для части строк. Посмотрим, для каких."
   ]
  },
  {
   "cell_type": "code",
   "execution_count": 94,
   "metadata": {},
   "outputs": [
    {
     "data": {
      "text/html": [
       "<div>\n",
       "<style scoped>\n",
       "    .dataframe tbody tr th:only-of-type {\n",
       "        vertical-align: middle;\n",
       "    }\n",
       "\n",
       "    .dataframe tbody tr th {\n",
       "        vertical-align: top;\n",
       "    }\n",
       "\n",
       "    .dataframe thead th {\n",
       "        text-align: right;\n",
       "    }\n",
       "</style>\n",
       "<table border=\"1\" class=\"dataframe\">\n",
       "  <thead>\n",
       "    <tr style=\"text-align: right;\">\n",
       "      <th></th>\n",
       "      <th>index</th>\n",
       "      <th>event_datetime</th>\n",
       "      <th>event</th>\n",
       "      <th>building_type</th>\n",
       "      <th>user_id</th>\n",
       "      <th>project_type</th>\n",
       "      <th>date</th>\n",
       "    </tr>\n",
       "  </thead>\n",
       "  <tbody>\n",
       "    <tr>\n",
       "      <th>47121</th>\n",
       "      <td>47121</td>\n",
       "      <td>2020-05-08 18:10:25</td>\n",
       "      <td>project</td>\n",
       "      <td>not_acceptable</td>\n",
       "      <td>e3c66498-9d45-4000-9392-f81e6796e7da</td>\n",
       "      <td>satellite_orbital_assembly</td>\n",
       "      <td>2020-05-08</td>\n",
       "    </tr>\n",
       "    <tr>\n",
       "      <th>57398</th>\n",
       "      <td>57398</td>\n",
       "      <td>2020-05-09 13:49:11</td>\n",
       "      <td>project</td>\n",
       "      <td>not_acceptable</td>\n",
       "      <td>936e7af6-8338-4703-a1df-fc6c3f5b8e34</td>\n",
       "      <td>satellite_orbital_assembly</td>\n",
       "      <td>2020-05-09</td>\n",
       "    </tr>\n",
       "    <tr>\n",
       "      <th>58797</th>\n",
       "      <td>58797</td>\n",
       "      <td>2020-05-09 16:19:33</td>\n",
       "      <td>project</td>\n",
       "      <td>not_acceptable</td>\n",
       "      <td>a4491c86-c498-4f74-a56e-65c136d0e9a1</td>\n",
       "      <td>satellite_orbital_assembly</td>\n",
       "      <td>2020-05-09</td>\n",
       "    </tr>\n",
       "    <tr>\n",
       "      <th>61174</th>\n",
       "      <td>61174</td>\n",
       "      <td>2020-05-09 20:29:01</td>\n",
       "      <td>project</td>\n",
       "      <td>not_acceptable</td>\n",
       "      <td>85d9e675-562b-4329-8bbd-14d3b39096be</td>\n",
       "      <td>satellite_orbital_assembly</td>\n",
       "      <td>2020-05-09</td>\n",
       "    </tr>\n",
       "    <tr>\n",
       "      <th>63770</th>\n",
       "      <td>63770</td>\n",
       "      <td>2020-05-10 00:57:47</td>\n",
       "      <td>project</td>\n",
       "      <td>not_acceptable</td>\n",
       "      <td>1889ca71-3c57-4e61-9ea6-a711971bbf0a</td>\n",
       "      <td>satellite_orbital_assembly</td>\n",
       "      <td>2020-05-10</td>\n",
       "    </tr>\n",
       "  </tbody>\n",
       "</table>\n",
       "</div>"
      ],
      "text/plain": [
       "       index      event_datetime    event   building_type  \\\n",
       "47121  47121 2020-05-08 18:10:25  project  not_acceptable   \n",
       "57398  57398 2020-05-09 13:49:11  project  not_acceptable   \n",
       "58797  58797 2020-05-09 16:19:33  project  not_acceptable   \n",
       "61174  61174 2020-05-09 20:29:01  project  not_acceptable   \n",
       "63770  63770 2020-05-10 00:57:47  project  not_acceptable   \n",
       "\n",
       "                                    user_id                project_type  \\\n",
       "47121  e3c66498-9d45-4000-9392-f81e6796e7da  satellite_orbital_assembly   \n",
       "57398  936e7af6-8338-4703-a1df-fc6c3f5b8e34  satellite_orbital_assembly   \n",
       "58797  a4491c86-c498-4f74-a56e-65c136d0e9a1  satellite_orbital_assembly   \n",
       "61174  85d9e675-562b-4329-8bbd-14d3b39096be  satellite_orbital_assembly   \n",
       "63770  1889ca71-3c57-4e61-9ea6-a711971bbf0a  satellite_orbital_assembly   \n",
       "\n",
       "             date  \n",
       "47121  2020-05-08  \n",
       "57398  2020-05-09  \n",
       "58797  2020-05-09  \n",
       "61174  2020-05-09  \n",
       "63770  2020-05-10  "
      ]
     },
     "execution_count": 94,
     "metadata": {},
     "output_type": "execute_result"
    }
   ],
   "source": [
    "game_actions[~game_actions['project_type'].isna()].head()"
   ]
  },
  {
   "cell_type": "markdown",
   "metadata": {},
   "source": [
    "Очевидно, тип проекта указан только для событий с типом project, и он только одного вида, того самого который дает право перехода на уровень 1. Заполним пропуски в данном столбце также предопределенным значением \"not_acceptable\", которое можно будет фильтровать по необходимости."
   ]
  },
  {
   "cell_type": "code",
   "execution_count": 95,
   "metadata": {},
   "outputs": [],
   "source": [
    "game_actions['project_type'] = game_actions['project_type'].fillna('not_acceptable')"
   ]
  },
  {
   "cell_type": "markdown",
   "metadata": {},
   "source": [
    "Работаем с `ad_costs`"
   ]
  },
  {
   "cell_type": "code",
   "execution_count": 96,
   "metadata": {},
   "outputs": [],
   "source": [
    "ad_costs.day = pd.to_datetime(ad_costs.day).dt.date"
   ]
  },
  {
   "cell_type": "code",
   "execution_count": 97,
   "metadata": {},
   "outputs": [
    {
     "data": {
      "text/plain": [
       "2020-05-03    4\n",
       "2020-05-04    4\n",
       "2020-05-05    4\n",
       "2020-05-06    4\n",
       "2020-05-07    4\n",
       "2020-05-08    4\n",
       "2020-05-09    4\n",
       "Name: day, dtype: int64"
      ]
     },
     "execution_count": 97,
     "metadata": {},
     "output_type": "execute_result"
    }
   ],
   "source": [
    "ad_costs.day.value_counts()"
   ]
  },
  {
   "cell_type": "code",
   "execution_count": 98,
   "metadata": {},
   "outputs": [
    {
     "data": {
      "text/plain": [
       "facebook_ads               7\n",
       "instagram_new_adverts      7\n",
       "yandex_direct              7\n",
       "youtube_channel_reklama    7\n",
       "Name: source, dtype: int64"
      ]
     },
     "execution_count": 98,
     "metadata": {},
     "output_type": "execute_result"
    }
   ],
   "source": [
    "ad_costs.source.value_counts()"
   ]
  },
  {
   "cell_type": "markdown",
   "metadata": {},
   "source": [
    "Работаем с `user_source`"
   ]
  },
  {
   "cell_type": "code",
   "execution_count": 99,
   "metadata": {},
   "outputs": [
    {
     "data": {
      "text/plain": [
       "yandex_direct              4817\n",
       "instagram_new_adverts      3347\n",
       "facebook_ads               2726\n",
       "youtube_channel_reklama    2686\n",
       "Name: source, dtype: int64"
      ]
     },
     "execution_count": 99,
     "metadata": {},
     "output_type": "execute_result"
    }
   ],
   "source": [
    "user_source.source.value_counts()"
   ]
  },
  {
   "cell_type": "markdown",
   "metadata": {},
   "source": [
    "В таблицах ad_costs и user_source проблем не обнаружено, дубликаты и пропуски отсутствуют."
   ]
  },
  {
   "cell_type": "markdown",
   "metadata": {},
   "source": [
    "### Вывод"
   ]
  },
  {
   "cell_type": "markdown",
   "metadata": {},
   "source": [
    "Данные предобработаны и готовы к анализу."
   ]
  },
  {
   "cell_type": "markdown",
   "metadata": {},
   "source": [
    "# Исследовательский анализ данных"
   ]
  },
  {
   "cell_type": "markdown",
   "metadata": {},
   "source": [
    "Прежде всего соединим все три таблицы в одну, так будет удобнее для дальнейших шагов. Сначала присоединим методом merge таблицу источников по пользователям к таблице событий. Определим дату первого события для каждого пользователя. Затем присоединим расходы на источник за эту дату."
   ]
  },
  {
   "cell_type": "code",
   "execution_count": 101,
   "metadata": {},
   "outputs": [
    {
     "data": {
      "text/html": [
       "<div>\n",
       "<style scoped>\n",
       "    .dataframe tbody tr th:only-of-type {\n",
       "        vertical-align: middle;\n",
       "    }\n",
       "\n",
       "    .dataframe tbody tr th {\n",
       "        vertical-align: top;\n",
       "    }\n",
       "\n",
       "    .dataframe thead th {\n",
       "        text-align: right;\n",
       "    }\n",
       "</style>\n",
       "<table border=\"1\" class=\"dataframe\">\n",
       "  <thead>\n",
       "    <tr style=\"text-align: right;\">\n",
       "      <th></th>\n",
       "      <th>index</th>\n",
       "      <th>event_datetime</th>\n",
       "      <th>event</th>\n",
       "      <th>building_type</th>\n",
       "      <th>user_id</th>\n",
       "      <th>project_type</th>\n",
       "      <th>date</th>\n",
       "      <th>source</th>\n",
       "      <th>first_event_time</th>\n",
       "      <th>first_event_date</th>\n",
       "      <th>cost</th>\n",
       "    </tr>\n",
       "  </thead>\n",
       "  <tbody>\n",
       "    <tr>\n",
       "      <th>0</th>\n",
       "      <td>0</td>\n",
       "      <td>2020-05-04 00:00:01</td>\n",
       "      <td>building</td>\n",
       "      <td>assembly_shop</td>\n",
       "      <td>55e92310-cb8e-4754-b622-597e124b03de</td>\n",
       "      <td>not_acceptable</td>\n",
       "      <td>2020-05-04</td>\n",
       "      <td>youtube_channel_reklama</td>\n",
       "      <td>2020-05-04 00:00:01</td>\n",
       "      <td>2020-05-04</td>\n",
       "      <td>259.073224</td>\n",
       "    </tr>\n",
       "    <tr>\n",
       "      <th>1</th>\n",
       "      <td>10101</td>\n",
       "      <td>2020-05-05 05:20:15</td>\n",
       "      <td>building</td>\n",
       "      <td>assembly_shop</td>\n",
       "      <td>55e92310-cb8e-4754-b622-597e124b03de</td>\n",
       "      <td>not_acceptable</td>\n",
       "      <td>2020-05-05</td>\n",
       "      <td>youtube_channel_reklama</td>\n",
       "      <td>2020-05-04 00:00:01</td>\n",
       "      <td>2020-05-04</td>\n",
       "      <td>259.073224</td>\n",
       "    </tr>\n",
       "    <tr>\n",
       "      <th>2</th>\n",
       "      <td>15489</td>\n",
       "      <td>2020-05-05 19:24:02</td>\n",
       "      <td>building</td>\n",
       "      <td>assembly_shop</td>\n",
       "      <td>55e92310-cb8e-4754-b622-597e124b03de</td>\n",
       "      <td>not_acceptable</td>\n",
       "      <td>2020-05-05</td>\n",
       "      <td>youtube_channel_reklama</td>\n",
       "      <td>2020-05-04 00:00:01</td>\n",
       "      <td>2020-05-04</td>\n",
       "      <td>259.073224</td>\n",
       "    </tr>\n",
       "    <tr>\n",
       "      <th>3</th>\n",
       "      <td>16114</td>\n",
       "      <td>2020-05-05 20:59:19</td>\n",
       "      <td>building</td>\n",
       "      <td>assembly_shop</td>\n",
       "      <td>55e92310-cb8e-4754-b622-597e124b03de</td>\n",
       "      <td>not_acceptable</td>\n",
       "      <td>2020-05-05</td>\n",
       "      <td>youtube_channel_reklama</td>\n",
       "      <td>2020-05-04 00:00:01</td>\n",
       "      <td>2020-05-04</td>\n",
       "      <td>259.073224</td>\n",
       "    </tr>\n",
       "    <tr>\n",
       "      <th>4</th>\n",
       "      <td>17607</td>\n",
       "      <td>2020-05-06 00:52:56</td>\n",
       "      <td>building</td>\n",
       "      <td>assembly_shop</td>\n",
       "      <td>55e92310-cb8e-4754-b622-597e124b03de</td>\n",
       "      <td>not_acceptable</td>\n",
       "      <td>2020-05-06</td>\n",
       "      <td>youtube_channel_reklama</td>\n",
       "      <td>2020-05-04 00:00:01</td>\n",
       "      <td>2020-05-04</td>\n",
       "      <td>259.073224</td>\n",
       "    </tr>\n",
       "  </tbody>\n",
       "</table>\n",
       "</div>"
      ],
      "text/plain": [
       "   index      event_datetime     event  building_type  \\\n",
       "0      0 2020-05-04 00:00:01  building  assembly_shop   \n",
       "1  10101 2020-05-05 05:20:15  building  assembly_shop   \n",
       "2  15489 2020-05-05 19:24:02  building  assembly_shop   \n",
       "3  16114 2020-05-05 20:59:19  building  assembly_shop   \n",
       "4  17607 2020-05-06 00:52:56  building  assembly_shop   \n",
       "\n",
       "                                user_id    project_type        date  \\\n",
       "0  55e92310-cb8e-4754-b622-597e124b03de  not_acceptable  2020-05-04   \n",
       "1  55e92310-cb8e-4754-b622-597e124b03de  not_acceptable  2020-05-05   \n",
       "2  55e92310-cb8e-4754-b622-597e124b03de  not_acceptable  2020-05-05   \n",
       "3  55e92310-cb8e-4754-b622-597e124b03de  not_acceptable  2020-05-05   \n",
       "4  55e92310-cb8e-4754-b622-597e124b03de  not_acceptable  2020-05-06   \n",
       "\n",
       "                    source    first_event_time first_event_date        cost  \n",
       "0  youtube_channel_reklama 2020-05-04 00:00:01       2020-05-04  259.073224  \n",
       "1  youtube_channel_reklama 2020-05-04 00:00:01       2020-05-04  259.073224  \n",
       "2  youtube_channel_reklama 2020-05-04 00:00:01       2020-05-04  259.073224  \n",
       "3  youtube_channel_reklama 2020-05-04 00:00:01       2020-05-04  259.073224  \n",
       "4  youtube_channel_reklama 2020-05-04 00:00:01       2020-05-04  259.073224  "
      ]
     },
     "execution_count": 101,
     "metadata": {},
     "output_type": "execute_result"
    }
   ],
   "source": [
    "#Присоединяем источники по пользователям. Данные будем аккумулировать в новом датафрейме data\n",
    "data = game_actions.merge(user_source, how='left', on='user_id')\n",
    "\n",
    "#определяем время первого события для каждого пользователя\n",
    "first_event_time = (\n",
    "    data.groupby('user_id')['event_datetime']\n",
    "    .agg('min')\n",
    "    .sort_values()\n",
    "    .reset_index()\n",
    "    .rename(columns={'event_datetime': 'first_event_time'})\n",
    ")\n",
    "#и присоединяем к датасету по пользователю\n",
    "data = data.merge(first_event_time, on='user_id')\n",
    "#выделяем отдельно дату первого события\n",
    "data['first_event_date'] = data['first_event_time'].dt.date\n",
    "#присоединяем стоимость кликов в разбивке по датам и источникам\n",
    "data = data.merge(ad_costs, how='left', left_on=['first_event_date', 'source'], right_on=['day', 'source'])\n",
    "data = data.drop('day', axis=1)\n",
    "data.head()"
   ]
  },
  {
   "cell_type": "markdown",
   "metadata": {},
   "source": [
    "Рассчитаем время прохождения уровня 1"
   ]
  },
  {
   "cell_type": "code",
   "execution_count": 102,
   "metadata": {},
   "outputs": [],
   "source": [
    "#группируем данные\n",
    "timings = data.query(\n",
    "    'event == \"finished_stage_1\"'\n",
    ").groupby('user_id')[['event_datetime', 'first_event_time']].agg('min').reset_index()\n",
    "#вычисляем время\n",
    "timings['time_for_stage_1'] = timings['event_datetime'] - timings['first_event_time']\n",
    "#удаляем лишнее\n",
    "timings = timings.drop(['event_datetime', 'first_event_time'], axis=1)\n",
    "timings\n",
    "#присоединяем к датасету\n",
    "data = data.merge(timings, how='left', on='user_id')\n",
    "#data.info()"
   ]
  },
  {
   "cell_type": "markdown",
   "metadata": {},
   "source": [
    "Создадим дополнительный признак, который определяет способ прохождения 1 уровня пользователем. Будем считать, что если у пользователя в событиях есть событие \"project\" одновременно с наличием события \"finished_stage_1\", то такой пользователь прошел уровень через реализацию проекта, иначе - через победу над первым игроком. Если у пользователя нет события \"finished_stage_1\", в этом же признаке укажем, что он не прошел уровень 1. "
   ]
  },
  {
   "cell_type": "code",
   "execution_count": 103,
   "metadata": {},
   "outputs": [
    {
     "data": {
      "text/plain": [
       "battle     3951\n",
       "project    1866\n",
       "Name: type, dtype: int64"
      ]
     },
     "execution_count": 103,
     "metadata": {},
     "output_type": "execute_result"
    }
   ],
   "source": [
    "#ограничим данные нужной выборкой для быстроты обработки\n",
    "data_limit = data[['event', 'user_id']].query('event in [\"finished_stage_1\", \"project\"]')\n",
    "#добавляем единицу для каждой строки, чтобы подсчитать количество событий в своде\n",
    "data_limit['count'] = 1\n",
    "#сворачиваем, заменяем n/a 0\n",
    "type_features = data_limit.pivot(index='user_id', columns='event', values='count').fillna(0).reset_index()\n",
    "\n",
    "#создаем функцию классификации\n",
    "def definer(row):\n",
    "    if row.finished_stage_1 == 1:\n",
    "        if row.project == 1:\n",
    "            return 'project'\n",
    "        else:\n",
    "            return 'battle'\n",
    "    else:\n",
    "        return 'stage1_not_finished'\n",
    "\n",
    "#применяем    \n",
    "type_features['type'] = type_features.apply(definer, axis=1)\n",
    "type_features.type.value_counts()"
   ]
  },
  {
   "cell_type": "code",
   "execution_count": 104,
   "metadata": {
    "scrolled": true
   },
   "outputs": [],
   "source": [
    "#мерджим данные с основным датасетом\n",
    "data = data.merge(type_features[['user_id', 'type']], how='left', on='user_id')"
   ]
  },
  {
   "cell_type": "code",
   "execution_count": 105,
   "metadata": {},
   "outputs": [
    {
     "data": {
      "text/plain": [
       "stage1_not_finished    67170\n",
       "battle                 41136\n",
       "project                27333\n",
       "Name: type, dtype: int64"
      ]
     },
     "execution_count": 105,
     "metadata": {},
     "output_type": "execute_result"
    }
   ],
   "source": [
    "#пропуски заполняем значением 'stage1_not_finished'\n",
    "data['type'] = data['type'].fillna('stage1_not_finished')\n",
    "data.type.value_counts()"
   ]
  },
  {
   "cell_type": "markdown",
   "metadata": {},
   "source": [
    "Отфильтруем прошедших уровень 1 и оценим влияние способа прохождения на время прохождения"
   ]
  },
  {
   "cell_type": "code",
   "execution_count": 106,
   "metadata": {
    "scrolled": true
   },
   "outputs": [
    {
     "data": {
      "text/html": [
       "<div>\n",
       "<style scoped>\n",
       "    .dataframe tbody tr th:only-of-type {\n",
       "        vertical-align: middle;\n",
       "    }\n",
       "\n",
       "    .dataframe tbody tr th {\n",
       "        vertical-align: top;\n",
       "    }\n",
       "\n",
       "    .dataframe thead th {\n",
       "        text-align: right;\n",
       "    }\n",
       "</style>\n",
       "<table border=\"1\" class=\"dataframe\">\n",
       "  <thead>\n",
       "    <tr style=\"text-align: right;\">\n",
       "      <th></th>\n",
       "      <th>user_id</th>\n",
       "      <th>type</th>\n",
       "      <th>time_for_stage_1</th>\n",
       "    </tr>\n",
       "  </thead>\n",
       "  <tbody>\n",
       "    <tr>\n",
       "      <th>0</th>\n",
       "      <td>001d39dc-366c-4021-9604-6a3b9ff01e25</td>\n",
       "      <td>battle</td>\n",
       "      <td>154.0</td>\n",
       "    </tr>\n",
       "    <tr>\n",
       "      <th>1</th>\n",
       "      <td>003ee7e8-6356-4286-a715-62f22a18d2a1</td>\n",
       "      <td>battle</td>\n",
       "      <td>301.0</td>\n",
       "    </tr>\n",
       "    <tr>\n",
       "      <th>2</th>\n",
       "      <td>004074f8-251a-4776-922c-8348dca1a2f6</td>\n",
       "      <td>battle</td>\n",
       "      <td>306.0</td>\n",
       "    </tr>\n",
       "    <tr>\n",
       "      <th>3</th>\n",
       "      <td>00464e5e-28ed-4be6-bf44-517ef7b3937b</td>\n",
       "      <td>battle</td>\n",
       "      <td>271.0</td>\n",
       "    </tr>\n",
       "    <tr>\n",
       "      <th>4</th>\n",
       "      <td>0056c007-c082-43cc-bdef-afc49bca4cb9</td>\n",
       "      <td>battle</td>\n",
       "      <td>145.0</td>\n",
       "    </tr>\n",
       "    <tr>\n",
       "      <th>5</th>\n",
       "      <td>005ff87b-b475-4da7-862e-57ab91adbff4</td>\n",
       "      <td>battle</td>\n",
       "      <td>213.0</td>\n",
       "    </tr>\n",
       "    <tr>\n",
       "      <th>6</th>\n",
       "      <td>00606a1c-51e1-48d1-b053-77be528527c0</td>\n",
       "      <td>battle</td>\n",
       "      <td>334.0</td>\n",
       "    </tr>\n",
       "    <tr>\n",
       "      <th>7</th>\n",
       "      <td>006380d6-67a6-45de-ab1e-6eb54ad8dbe8</td>\n",
       "      <td>project</td>\n",
       "      <td>282.0</td>\n",
       "    </tr>\n",
       "    <tr>\n",
       "      <th>8</th>\n",
       "      <td>007ad796-add4-41a5-bc2a-e11561f16cd6</td>\n",
       "      <td>battle</td>\n",
       "      <td>314.0</td>\n",
       "    </tr>\n",
       "    <tr>\n",
       "      <th>9</th>\n",
       "      <td>007f9ffa-4c39-408b-a2e1-a84ddc10bee1</td>\n",
       "      <td>battle</td>\n",
       "      <td>188.0</td>\n",
       "    </tr>\n",
       "  </tbody>\n",
       "</table>\n",
       "</div>"
      ],
      "text/plain": [
       "                                user_id     type  time_for_stage_1\n",
       "0  001d39dc-366c-4021-9604-6a3b9ff01e25   battle             154.0\n",
       "1  003ee7e8-6356-4286-a715-62f22a18d2a1   battle             301.0\n",
       "2  004074f8-251a-4776-922c-8348dca1a2f6   battle             306.0\n",
       "3  00464e5e-28ed-4be6-bf44-517ef7b3937b   battle             271.0\n",
       "4  0056c007-c082-43cc-bdef-afc49bca4cb9   battle             145.0\n",
       "5  005ff87b-b475-4da7-862e-57ab91adbff4   battle             213.0\n",
       "6  00606a1c-51e1-48d1-b053-77be528527c0   battle             334.0\n",
       "7  006380d6-67a6-45de-ab1e-6eb54ad8dbe8  project             282.0\n",
       "8  007ad796-add4-41a5-bc2a-e11561f16cd6   battle             314.0\n",
       "9  007f9ffa-4c39-408b-a2e1-a84ddc10bee1   battle             188.0"
      ]
     },
     "execution_count": 106,
     "metadata": {},
     "output_type": "execute_result"
    }
   ],
   "source": [
    "#конвертируем timedelta в секунды\n",
    "data['time_for_stage_1'] = data['time_for_stage_1'].astype('timedelta64[h]')\n",
    "#группируем по id и способу прохождения, чтобы получить время уникального пользователя\n",
    "time_for_type = (\n",
    "    data.query('event == \"finished_stage_1\"')\n",
    "    .groupby(['user_id', 'type'])['time_for_stage_1']\n",
    "    .agg('mean')\n",
    "    .reset_index()\n",
    ")\n",
    "time_for_type.head(10)"
   ]
  },
  {
   "cell_type": "code",
   "execution_count": 107,
   "metadata": {},
   "outputs": [
    {
     "data": {
      "image/png": "[encoded data removed]",
      "text/plain": [
       "<Figure size 1152x576 with 1 Axes>"
      ]
     },
     "metadata": {
      "needs_background": "light"
     },
     "output_type": "display_data"
    }
   ],
   "source": [
    "#визуализируем\n",
    "plt.figure(figsize=(16,8))\n",
    "sb.boxplot(x='time_for_stage_1', y='type', data=time_for_type)\n",
    "plt.title('Распределение времени прохождения уровня 1 по способу прохождения')\n",
    "plt.xlabel('Время, ч')\n",
    "plt.ylabel('Способ')\n",
    "plt.show()"
   ]
  },
  {
   "cell_type": "markdown",
   "metadata": {},
   "source": [
    "Визуально различие довольно заметно, далее будем проверять его статистически"
   ]
  },
  {
   "cell_type": "markdown",
   "metadata": {},
   "source": [
    "Взглянем на количество уникальных пользователей по источникам привлечения"
   ]
  },
  {
   "cell_type": "code",
   "execution_count": 110,
   "metadata": {},
   "outputs": [
    {
     "data": {
      "image/png": "[encoded data removed]",
      "text/plain": [
       "<Figure size 432x288 with 1 Axes>"
      ]
     },
     "metadata": {
      "needs_background": "light"
     },
     "output_type": "display_data"
    }
   ],
   "source": [
    "(\n",
    "data\n",
    "    .groupby('source')['user_id']\n",
    "    .agg('nunique')\n",
    "    .sort_values(ascending=False)\n",
    "    .plot(kind='bar')\n",
    ")\n",
    "plt.xticks(rotation=45)\n",
    "plt.title('Количество пользователей по каналам привлечения')\n",
    "plt.xlabel('Канал')\n",
    "plt.ylabel('Уникальные пользователи')\n",
    "plt.show()"
   ]
  },
  {
   "cell_type": "markdown",
   "metadata": {},
   "source": [
    "Количество построенных зданий (монетизированные события) по источникам привлечения"
   ]
  },
  {
   "cell_type": "code",
   "execution_count": 111,
   "metadata": {},
   "outputs": [
    {
     "data": {
      "image/png": "[encoded data removed]",
      "text/plain": [
       "<Figure size 432x288 with 1 Axes>"
      ]
     },
     "metadata": {
      "needs_background": "light"
     },
     "output_type": "display_data"
    }
   ],
   "source": [
    "(\n",
    "data\n",
    "    .query('event == \"building\"')\n",
    "    .groupby('source')['user_id']\n",
    "    .agg('count')\n",
    "    .sort_values(ascending=False)\n",
    "    .plot(kind='bar')\n",
    ")\n",
    "plt.xticks(rotation=45)\n",
    "plt.title('Количество построенных зданий по каналам привлечения')\n",
    "plt.xlabel('Канал')\n",
    "plt.ylabel('Построенные здания (потенциальных показов рекламы)')\n",
    "plt.show()"
   ]
  },
  {
   "cell_type": "markdown",
   "metadata": {},
   "source": [
    "В датасете содержатся данные первых пользователей приложения — когорты пользователей, которые начали пользоваться приложением в период с 4 по 10 мая включительно."
   ]
  },
  {
   "cell_type": "code",
   "execution_count": 112,
   "metadata": {},
   "outputs": [
    {
     "data": {
      "text/html": [
       "<div>\n",
       "<style scoped>\n",
       "    .dataframe tbody tr th:only-of-type {\n",
       "        vertical-align: middle;\n",
       "    }\n",
       "\n",
       "    .dataframe tbody tr th {\n",
       "        vertical-align: top;\n",
       "    }\n",
       "\n",
       "    .dataframe thead th {\n",
       "        text-align: right;\n",
       "    }\n",
       "</style>\n",
       "<table border=\"1\" class=\"dataframe\">\n",
       "  <thead>\n",
       "    <tr style=\"text-align: right;\">\n",
       "      <th></th>\n",
       "      <th>source</th>\n",
       "      <th>cost</th>\n",
       "    </tr>\n",
       "    <tr>\n",
       "      <th>day</th>\n",
       "      <th></th>\n",
       "      <th></th>\n",
       "    </tr>\n",
       "  </thead>\n",
       "  <tbody>\n",
       "    <tr>\n",
       "      <th>2020-05-03</th>\n",
       "      <td>4</td>\n",
       "      <td>4</td>\n",
       "    </tr>\n",
       "    <tr>\n",
       "      <th>2020-05-04</th>\n",
       "      <td>4</td>\n",
       "      <td>4</td>\n",
       "    </tr>\n",
       "    <tr>\n",
       "      <th>2020-05-05</th>\n",
       "      <td>4</td>\n",
       "      <td>4</td>\n",
       "    </tr>\n",
       "    <tr>\n",
       "      <th>2020-05-06</th>\n",
       "      <td>4</td>\n",
       "      <td>4</td>\n",
       "    </tr>\n",
       "    <tr>\n",
       "      <th>2020-05-07</th>\n",
       "      <td>4</td>\n",
       "      <td>4</td>\n",
       "    </tr>\n",
       "    <tr>\n",
       "      <th>2020-05-08</th>\n",
       "      <td>4</td>\n",
       "      <td>4</td>\n",
       "    </tr>\n",
       "    <tr>\n",
       "      <th>2020-05-09</th>\n",
       "      <td>4</td>\n",
       "      <td>4</td>\n",
       "    </tr>\n",
       "  </tbody>\n",
       "</table>\n",
       "</div>"
      ],
      "text/plain": [
       "            source  cost\n",
       "day                     \n",
       "2020-05-03       4     4\n",
       "2020-05-04       4     4\n",
       "2020-05-05       4     4\n",
       "2020-05-06       4     4\n",
       "2020-05-07       4     4\n",
       "2020-05-08       4     4\n",
       "2020-05-09       4     4"
      ]
     },
     "execution_count": 112,
     "metadata": {},
     "output_type": "execute_result"
    }
   ],
   "source": [
    "ad_costs.groupby('day').agg('count')"
   ]
  },
  {
   "cell_type": "markdown",
   "metadata": {},
   "source": [
    "Данные по затратам на привлечение пользователей доступны с 3 по 9 мая включительно. Ограничим датасет пользователями, привлеченными по известной нам стоимости. Удалим когорту от 10 мая."
   ]
  },
  {
   "cell_type": "code",
   "execution_count": 113,
   "metadata": {
    "scrolled": true
   },
   "outputs": [
    {
     "data": {
      "text/plain": [
       "2020-05-04    64226\n",
       "2020-05-05    34756\n",
       "2020-05-06    17399\n",
       "2020-05-07     9429\n",
       "2020-05-08     5121\n",
       "2020-05-09     3025\n",
       "Name: first_event_date, dtype: int64"
      ]
     },
     "execution_count": 113,
     "metadata": {},
     "output_type": "execute_result"
    }
   ],
   "source": [
    "data_cut = data[data['first_event_date'] < pd.to_datetime(\"2020-05-10\").date()]\n",
    "data_cut.first_event_date.value_counts()"
   ]
  },
  {
   "cell_type": "code",
   "execution_count": 114,
   "metadata": {
    "scrolled": true
   },
   "outputs": [
    {
     "name": "stdout",
     "output_type": "stream",
     "text": [
      "Удалено 1683 строк,\n",
      "что составляет 1.2 % данных.\n"
     ]
    }
   ],
   "source": [
    "#количество удаленных данных\n",
    "print(\"Удалено \" + str(len(data) - len(data_cut)) + \" строк,\")\n",
    "print(\"что составляет \" + str(round((len(data) - len(data_cut)) * 100 / len(data), 1)) + \" % данных.\")      "
   ]
  },
  {
   "cell_type": "markdown",
   "metadata": {},
   "source": [
    "Предположим, каждый показ рекламе на этапе выбора постройки будет приносить нам 1 условную денежную единицу. Рассчитаем количество построенных зданий по источникам привлечения"
   ]
  },
  {
   "cell_type": "code",
   "execution_count": 115,
   "metadata": {
    "scrolled": true
   },
   "outputs": [
    {
     "data": {
      "image/png": "[encoded data removed]",
      "text/plain": [
       "<Figure size 576x360 with 1 Axes>"
      ]
     },
     "metadata": {
      "needs_background": "light"
     },
     "output_type": "display_data"
    }
   ],
   "source": [
    "(\n",
    "data_cut\n",
    "    .query('event == \"building\"')\n",
    "    .pivot_table(index='first_event_date', columns='source', values='event', aggfunc='count') / \n",
    "data_cut\n",
    "    .query('event == \"building\"')\n",
    "    .pivot_table(index='first_event_date', columns='source', values='cost', aggfunc='mean')\n",
    "\n",
    ").plot(figsize=(8,5))\n",
    "\n",
    "plt.title('Отношение количества построек к рекламным расходам')\n",
    "plt.xlabel('Дата привлечения пользователей')\n",
    "plt.ylabel('Зданий / ден.ед.')\n",
    "\n",
    "plt.show()"
   ]
  },
  {
   "cell_type": "markdown",
   "metadata": {},
   "source": [
    "Данный график говорит об изменении качества трафика по дням"
   ]
  },
  {
   "cell_type": "markdown",
   "metadata": {},
   "source": [
    "Рассчитаем и визуализируем среднюю стоимость привлечения одного пользователя"
   ]
  },
  {
   "cell_type": "code",
   "execution_count": 116,
   "metadata": {},
   "outputs": [
    {
     "data": {
      "image/png": "[encoded data removed]",
      "text/plain": [
       "<Figure size 576x360 with 1 Axes>"
      ]
     },
     "metadata": {
      "needs_background": "light"
     },
     "output_type": "display_data"
    }
   ],
   "source": [
    "(\n",
    "data_cut\n",
    "    .pivot_table(index='first_event_date', columns='source', values='cost', aggfunc='mean') / \n",
    "data_cut\n",
    "    .pivot_table(index='first_event_date', columns='source', values='user_id', aggfunc='nunique')\n",
    "\n",
    ").plot(figsize=(8,5))\n",
    "\n",
    "plt.title('Средняя стоимость привлечения 1 пользователя')\n",
    "plt.xlabel('Дата привлечения пользователей')\n",
    "plt.ylabel('Ден.ед.')\n",
    "\n",
    "plt.show()"
   ]
  },
  {
   "cell_type": "markdown",
   "metadata": {},
   "source": [
    "### Промежуточные выводы"
   ]
  },
  {
   "cell_type": "markdown",
   "metadata": {},
   "source": [
    "Диаграммы размаха показывают, что для достижения 1 уровня победой над другим игроком требуется немного меньше времени.\n",
    "\n",
    "Со значительным отрывом как по привлечению пользователей, так и по потенциальной монетизации этих пользователей лидирует источник yandex_direct\n",
    "\n",
    "Количество построек (удельное, в расчет на понесенные затраты на привлечение) со временем значительно снижается. Это говорит о том, что рекламные средства в последний день используются менее эффективно, чем в первый. Возможно, игроки поняли, что через победу над игроком достичь первого уровня проще, в связи с этим количество построек сокращается.\n",
    "\n",
    "Стоимость привлечения 1 пользователя по источникам facebook и instagram значительно выше yandex и youtube. При этом, как по количеству привлеченных пользователей, так и по потенциальной монетизации от этих пользователей в рамках предложенной модели эти каналы чуть выше youtube и сильно ниже yandex."
   ]
  },
  {
   "cell_type": "markdown",
   "metadata": {},
   "source": [
    "# Гипотеза 1. Проверка влияния способа прохождения на время завершения уровня"
   ]
  },
  {
   "cell_type": "markdown",
   "metadata": {},
   "source": [
    "Формулировка нулевой гипотезы -  \n",
    "\n",
    "Время завершения не различается в зависимости способа прохождения:\n",
    "* через реализацию проекта,\n",
    "* через победу над первым игроком.\n",
    "\n",
    "Альтернативная гипотеза - они различаются.\n",
    "\n",
    "Мы имеем дело с двумя независимыми выборками из одной генеральной совокупности. Поэтому для проверки гипотезы о равенстве средних будем использовать t-тест"
   ]
  },
  {
   "cell_type": "code",
   "execution_count": 117,
   "metadata": {},
   "outputs": [
    {
     "name": "stdout",
     "output_type": "stream",
     "text": [
      "p-значение: 7.408867041388203e-98\n",
      "Отвергаем нулевую гипотезу\n"
     ]
    }
   ],
   "source": [
    "#формируем выборки\n",
    "fighters = time_for_type.query('type == \"battle\"')['time_for_stage_1']\n",
    "builders = time_for_type.query('type == \"project\"')['time_for_stage_1']\n",
    "\n",
    "alpha = 0.01\n",
    "\n",
    "results = stats.ttest_ind(\n",
    "    fighters, \n",
    "    builders)\n",
    "\n",
    "print('p-значение:', results.pvalue)\n",
    "\n",
    "if results.pvalue < alpha:\n",
    "    print(\"Отвергаем нулевую гипотезу\")\n",
    "else:\n",
    "    print(\"Не получилось отвергнуть нулевую гипотезу\")"
   ]
  },
  {
   "cell_type": "markdown",
   "metadata": {},
   "source": [
    "Значение p-value очень близко к нулю. Нулевая гипотеза должна быть отвергнута. Принимается альтернативная гипотеза."
   ]
  },
  {
   "cell_type": "markdown",
   "metadata": {},
   "source": [
    "### Вывод"
   ]
  },
  {
   "cell_type": "markdown",
   "metadata": {},
   "source": [
    "Время завершения статистически различается в зависимости от способа прохождения 1го уровня."
   ]
  },
  {
   "cell_type": "markdown",
   "metadata": {},
   "source": [
    "# Гипотеза 2. Проверка влияния канала привлечения на количество построенных пользователем данных"
   ]
  },
  {
   "cell_type": "markdown",
   "metadata": {},
   "source": [
    "Формулировка нулевой гипотезы -\n",
    "\n",
    "Количество построенных зданий (потенциальные события монетизации) по привлеченным пользователям не различается от канала привлечения пользователя.\n",
    "\n",
    "Альтернативная гипотеза - они различаются.\n",
    "\n",
    "Мы имеем дело с четырьмя независимыми выборками из одной генеральной совокупности. Поэтому для проверки гипотезы о равенстве средних будем использовать попарные t-тесты"
   ]
  },
  {
   "cell_type": "code",
   "execution_count": 118,
   "metadata": {
    "scrolled": true
   },
   "outputs": [
    {
     "name": "stdout",
     "output_type": "stream",
     "text": [
      "_____\n",
      "Сравниваем facebook_ads и yandex_direct\n",
      "p-значение: 0.010411759321497693\n",
      "Отвергаем нулевую гипотезу\n",
      "_____\n",
      "Сравниваем facebook_ads и youtube_channel_reklama\n",
      "p-значение: 0.006588846148210501\n",
      "Отвергаем нулевую гипотезу\n",
      "_____\n",
      "Сравниваем facebook_ads и instagram_new_adverts\n",
      "p-значение: 0.4185321366657372\n",
      "Не получилось отвергнуть нулевую гипотезу\n",
      "_____\n",
      "Сравниваем yandex_direct и facebook_ads\n",
      "p-значение: 0.010411759321497693\n",
      "Отвергаем нулевую гипотезу\n",
      "_____\n",
      "Сравниваем yandex_direct и youtube_channel_reklama\n",
      "p-значение: 0.5972890424874877\n",
      "Не получилось отвергнуть нулевую гипотезу\n",
      "_____\n",
      "Сравниваем yandex_direct и instagram_new_adverts\n",
      "p-значение: 0.06989780662351841\n",
      "Не получилось отвергнуть нулевую гипотезу\n",
      "_____\n",
      "Сравниваем youtube_channel_reklama и facebook_ads\n",
      "p-значение: 0.006588846148210501\n",
      "Отвергаем нулевую гипотезу\n",
      "_____\n",
      "Сравниваем youtube_channel_reklama и yandex_direct\n",
      "p-значение: 0.5972890424874877\n",
      "Не получилось отвергнуть нулевую гипотезу\n",
      "_____\n",
      "Сравниваем youtube_channel_reklama и instagram_new_adverts\n",
      "p-значение: 0.03897927011517954\n",
      "Отвергаем нулевую гипотезу\n",
      "_____\n",
      "Сравниваем instagram_new_adverts и facebook_ads\n",
      "p-значение: 0.4185321366657372\n",
      "Не получилось отвергнуть нулевую гипотезу\n",
      "_____\n",
      "Сравниваем instagram_new_adverts и yandex_direct\n",
      "p-значение: 0.06989780662351841\n",
      "Не получилось отвергнуть нулевую гипотезу\n",
      "_____\n",
      "Сравниваем instagram_new_adverts и youtube_channel_reklama\n",
      "p-значение: 0.03897927011517954\n",
      "Отвергаем нулевую гипотезу\n"
     ]
    }
   ],
   "source": [
    "#группируем и готовим выборки\n",
    "buildings = data.query('event == \"building\"').groupby(['user_id', 'source'])['event'].agg('count').reset_index()\n",
    "sources = buildings['source'].unique()\n",
    "\n",
    "alpha = 0.05\n",
    "\n",
    "#считаем p-value в цикле\n",
    "for source1 in sources:\n",
    "    for source2 in sources:\n",
    "        if source1 == source2:\n",
    "            continue\n",
    "        print('_____')\n",
    "        print('Сравниваем ' + source1 + ' и ' + source2)\n",
    "        results = stats.ttest_ind(\n",
    "            buildings.query('source == @source1')['event'],\n",
    "            buildings.query('source == @source2')['event'])\n",
    "        print('p-значение:', results.pvalue)\n",
    "        if results.pvalue < alpha:\n",
    "            print(\"Отвергаем нулевую гипотезу\")\n",
    "        else:\n",
    "            print(\"Не получилось отвергнуть нулевую гипотезу\")\n"
   ]
  },
  {
   "cell_type": "markdown",
   "metadata": {},
   "source": [
    "Нулевая гипотеза отвернута в парах:\n",
    "\n",
    "facebook_ads и youtube_channel_reklama,\n",
    "\n",
    "yandex_direct и facebook_ads,\n",
    "\n",
    "instagram_new_adverts и youtube_channel_reklama"
   ]
  },
  {
   "cell_type": "markdown",
   "metadata": {},
   "source": [
    "### Вывод"
   ]
  },
  {
   "cell_type": "markdown",
   "metadata": {},
   "source": [
    "* Пользователи пришедшие из каналов facebook_ads и youtube_channel_reklama статистически значимо различаются по количеству построенных зданий. В соответствии с ранее сделанным анализом youtube_channel_reklama выигрывает по соотношению здания/затраты на рекламу, однако проигрывает по количеству привлеченных пользователей.\n",
    "\n",
    "* Пользователи пришедшие из каналов yandex_direct и facebook_ads статистически значимо различаются по количеству построенных зданий. В соответствии с ранее сделанным анализом yandex_direct выигрывает как по количеству привлеченных пользователей, так и по соотношению здания/затраты на рекламу.\n",
    "\n",
    "* Пользователи пришедшие из каналов instagram_new_adverts и youtube_channel_reklama статистически значимо различаются по количеству построенных зданий. В соответствии с ранее сделанным анализом youtube_channel_reklama выигрывает по соотношению здания/затраты на рекламу, однако проигрывает по количеству привлеченных пользователей."
   ]
  },
  {
   "cell_type": "markdown",
   "metadata": {},
   "source": [
    "# Общие выводы и рекомендации"
   ]
  },
  {
   "cell_type": "markdown",
   "metadata": {},
   "source": [
    "Получено статистически значимое различие во времени прохождения уровня 1. Игроки, которые проходят уровень через победу над другим игроком имеют преимущество во времени перед игроками, прошедшими уровень через завершение проекта.\n",
    "\n",
    "Получено статистически значимое различие по каналам привлечения пользователей - каналы yandex direct и youtube channel привлекают более качественных пользователей при условии их монетизации выбранным способом (через показ рекламы на этапе выбора постройки). При этом неэффективные каналы стоят дороже в расчете на монетизированного пользователя.\n",
    "\n",
    "Рекомендации:\n",
    "* Изменить баланс игры в сторону упрощения прохождения уровня 1 через реализацию проекта, это позволит иметь больше просмотров рекламы по всем привлеченным пользователям\n",
    "* Как альтернатива изменению баланса, придумать монетизацию по игрокам, предпочитающим победу на другими игроками.\n",
    "* Пересмотреть стоимость привлечения по неэффективным каналам, например, изменить тарификацию в канале.\n",
    "* Рассмотреть дополнительные каналы привлечения пользователей"
   ]
  },
  {
   "cell_type": "markdown",
   "metadata": {},
   "source": [
    "Ссылка на презентацию: https://disk.yandex.ru/i/Kx9v30mNNmwSbg\n"
   ]
  },
  {
   "cell_type": "markdown",
   "metadata": {},
   "source": [
    "Ссылка на дашборд Tableau: https://public.tableau.com/views/AdvsSources/Dashboard1?:language=en-US&publish=yes&:display_count=n&:origin=viz_share_link"
   ]
  }
 ],
 "metadata": {
  "ExecuteTimeLog": [
   {
    "duration": 1421,
    "start_time": "2022-07-06T06:38:05.832Z"
   },
   {
    "duration": 910,
    "start_time": "2022-07-06T06:38:07.256Z"
   },
   {
    "duration": 76,
    "start_time": "2022-07-06T06:38:08.167Z"
   },
   {
    "duration": 13,
    "start_time": "2022-07-06T06:38:08.244Z"
   },
   {
    "duration": 13,
    "start_time": "2022-07-06T06:38:08.260Z"
   },
   {
    "duration": 13,
    "start_time": "2022-07-06T06:38:08.275Z"
   },
   {
    "duration": 214,
    "start_time": "2022-07-06T06:38:08.290Z"
   },
   {
    "duration": 158,
    "start_time": "2022-07-06T06:38:08.506Z"
   },
   {
    "duration": 34,
    "start_time": "2022-07-06T06:38:08.666Z"
   },
   {
    "duration": 44,
    "start_time": "2022-07-06T06:38:08.702Z"
   },
   {
    "duration": 35,
    "start_time": "2022-07-06T06:38:08.748Z"
   },
   {
    "duration": 9,
    "start_time": "2022-07-06T06:38:08.785Z"
   },
   {
    "duration": 30,
    "start_time": "2022-07-06T06:38:08.796Z"
   },
   {
    "duration": 12,
    "start_time": "2022-07-06T06:38:08.830Z"
   },
   {
    "duration": 13,
    "start_time": "2022-07-06T06:38:08.844Z"
   },
   {
    "duration": 10,
    "start_time": "2022-07-06T06:38:08.859Z"
   },
   {
    "duration": 9,
    "start_time": "2022-07-06T06:38:08.870Z"
   },
   {
    "duration": 8,
    "start_time": "2022-07-06T06:38:08.880Z"
   },
   {
    "duration": 8,
    "start_time": "2022-07-06T06:38:08.890Z"
   },
   {
    "duration": 28,
    "start_time": "2022-07-06T06:38:08.899Z"
   },
   {
    "duration": 477,
    "start_time": "2022-07-06T06:38:08.929Z"
   },
   {
    "duration": 5,
    "start_time": "2022-07-06T06:38:09.408Z"
   },
   {
    "duration": 5,
    "start_time": "2022-07-06T06:38:09.423Z"
   },
   {
    "duration": 5,
    "start_time": "2022-07-06T06:38:09.429Z"
   },
   {
    "duration": 246,
    "start_time": "2022-07-06T06:38:09.436Z"
   },
   {
    "duration": 215,
    "start_time": "2022-07-06T06:38:09.684Z"
   },
   {
    "duration": 291,
    "start_time": "2022-07-06T06:38:09.901Z"
   },
   {
    "duration": 5,
    "start_time": "2022-07-06T06:38:10.193Z"
   },
   {
    "duration": 32,
    "start_time": "2022-07-06T06:38:10.200Z"
   },
   {
    "duration": 260,
    "start_time": "2022-07-06T06:38:10.234Z"
   },
   {
    "duration": 4,
    "start_time": "2022-07-06T06:38:10.496Z"
   },
   {
    "duration": 38,
    "start_time": "2022-07-06T06:38:10.501Z"
   },
   {
    "duration": 3,
    "start_time": "2022-07-06T06:38:10.541Z"
   },
   {
    "duration": 1497,
    "start_time": "2022-07-06T06:38:10.545Z"
   },
   {
    "duration": 1915,
    "start_time": "2022-07-06T06:38:12.043Z"
   },
   {
    "duration": 1928,
    "start_time": "2022-07-06T06:38:13.960Z"
   },
   {
    "duration": 2604,
    "start_time": "2022-07-06T06:38:15.889Z"
   },
   {
    "duration": 2762,
    "start_time": "2022-07-06T06:38:18.495Z"
   },
   {
    "duration": 1448,
    "start_time": "2022-07-06T06:38:21.259Z"
   },
   {
    "duration": 1454,
    "start_time": "2022-07-06T06:38:22.709Z"
   },
   {
    "duration": 1990,
    "start_time": "2022-07-06T06:38:24.166Z"
   },
   {
    "duration": 5,
    "start_time": "2022-07-06T06:40:41.419Z"
   },
   {
    "duration": 256,
    "start_time": "2022-07-06T06:40:42.013Z"
   },
   {
    "duration": 215,
    "start_time": "2022-07-06T06:40:42.645Z"
   },
   {
    "duration": 264,
    "start_time": "2022-07-06T06:40:43.970Z"
   },
   {
    "duration": 9,
    "start_time": "2022-07-06T06:41:04.421Z"
   },
   {
    "duration": 236,
    "start_time": "2022-07-06T06:41:04.677Z"
   },
   {
    "duration": 218,
    "start_time": "2022-07-06T06:41:05.228Z"
   },
   {
    "duration": 399,
    "start_time": "2022-07-06T06:41:05.770Z"
   },
   {
    "duration": 1123,
    "start_time": "2022-07-09T07:16:11.851Z"
   },
   {
    "duration": 638,
    "start_time": "2022-07-09T07:16:12.976Z"
   },
   {
    "duration": 66,
    "start_time": "2022-07-09T07:16:13.616Z"
   },
   {
    "duration": 11,
    "start_time": "2022-07-09T07:16:13.684Z"
   },
   {
    "duration": 11,
    "start_time": "2022-07-09T07:16:13.697Z"
   },
   {
    "duration": 11,
    "start_time": "2022-07-09T07:16:13.709Z"
   },
   {
    "duration": 177,
    "start_time": "2022-07-09T07:16:13.722Z"
   },
   {
    "duration": 139,
    "start_time": "2022-07-09T07:16:13.901Z"
   },
   {
    "duration": 34,
    "start_time": "2022-07-09T07:16:14.042Z"
   },
   {
    "duration": 30,
    "start_time": "2022-07-09T07:16:14.078Z"
   },
   {
    "duration": 61,
    "start_time": "2022-07-09T07:16:14.110Z"
   },
   {
    "duration": 8,
    "start_time": "2022-07-09T07:16:14.173Z"
   },
   {
    "duration": 7,
    "start_time": "2022-07-09T07:16:14.183Z"
   },
   {
    "duration": 8,
    "start_time": "2022-07-09T07:16:14.192Z"
   },
   {
    "duration": 11,
    "start_time": "2022-07-09T07:16:14.202Z"
   },
   {
    "duration": 10,
    "start_time": "2022-07-09T07:16:14.215Z"
   },
   {
    "duration": 11,
    "start_time": "2022-07-09T07:16:14.227Z"
   },
   {
    "duration": 28,
    "start_time": "2022-07-09T07:16:14.239Z"
   },
   {
    "duration": 9,
    "start_time": "2022-07-09T07:16:14.269Z"
   },
   {
    "duration": 12,
    "start_time": "2022-07-09T07:16:14.279Z"
   },
   {
    "duration": 467,
    "start_time": "2022-07-09T07:16:14.293Z"
   },
   {
    "duration": 5,
    "start_time": "2022-07-09T07:16:14.762Z"
   },
   {
    "duration": 8,
    "start_time": "2022-07-09T07:16:14.768Z"
   },
   {
    "duration": 7,
    "start_time": "2022-07-09T07:16:14.778Z"
   },
   {
    "duration": 238,
    "start_time": "2022-07-09T07:16:14.786Z"
   },
   {
    "duration": 218,
    "start_time": "2022-07-09T07:16:15.025Z"
   },
   {
    "duration": 273,
    "start_time": "2022-07-09T07:16:15.244Z"
   },
   {
    "duration": 4,
    "start_time": "2022-07-09T07:16:15.520Z"
   },
   {
    "duration": 34,
    "start_time": "2022-07-09T07:16:15.526Z"
   },
   {
    "duration": 266,
    "start_time": "2022-07-09T07:16:15.562Z"
   },
   {
    "duration": 312,
    "start_time": "2022-07-09T07:16:15.830Z"
   },
   {
    "duration": 5,
    "start_time": "2022-07-09T07:16:16.144Z"
   },
   {
    "duration": 24,
    "start_time": "2022-07-09T07:16:16.161Z"
   },
   {
    "duration": 14,
    "start_time": "2022-07-09T07:16:16.189Z"
   },
   {
    "duration": 1623,
    "start_time": "2022-07-09T07:16:16.207Z"
   },
   {
    "duration": 70,
    "start_time": "2022-07-09T07:16:17.832Z"
   },
   {
    "duration": 0,
    "start_time": "2022-07-09T07:16:17.903Z"
   },
   {
    "duration": 0,
    "start_time": "2022-07-09T07:16:17.905Z"
   },
   {
    "duration": 0,
    "start_time": "2022-07-09T07:16:17.906Z"
   },
   {
    "duration": 0,
    "start_time": "2022-07-09T07:16:17.907Z"
   },
   {
    "duration": 0,
    "start_time": "2022-07-09T07:16:17.908Z"
   },
   {
    "duration": 0,
    "start_time": "2022-07-09T07:16:17.909Z"
   },
   {
    "duration": 0,
    "start_time": "2022-07-09T07:16:17.910Z"
   },
   {
    "duration": 0,
    "start_time": "2022-07-09T07:16:17.911Z"
   },
   {
    "duration": 0,
    "start_time": "2022-07-09T07:16:17.912Z"
   },
   {
    "duration": 1069,
    "start_time": "2022-07-09T07:20:33.788Z"
   },
   {
    "duration": 1134,
    "start_time": "2022-07-09T07:20:34.858Z"
   },
   {
    "duration": 107,
    "start_time": "2022-07-09T07:20:35.996Z"
   },
   {
    "duration": 12,
    "start_time": "2022-07-09T07:20:36.160Z"
   },
   {
    "duration": 18,
    "start_time": "2022-07-09T07:20:36.174Z"
   },
   {
    "duration": 19,
    "start_time": "2022-07-09T07:20:36.195Z"
   },
   {
    "duration": 466,
    "start_time": "2022-07-09T07:20:36.216Z"
   },
   {
    "duration": 174,
    "start_time": "2022-07-09T07:20:36.684Z"
   },
   {
    "duration": 27,
    "start_time": "2022-07-09T07:20:36.862Z"
   },
   {
    "duration": 31,
    "start_time": "2022-07-09T07:20:36.891Z"
   },
   {
    "duration": 42,
    "start_time": "2022-07-09T07:20:36.924Z"
   },
   {
    "duration": 7,
    "start_time": "2022-07-09T07:20:36.968Z"
   },
   {
    "duration": 7,
    "start_time": "2022-07-09T07:20:36.977Z"
   },
   {
    "duration": 9,
    "start_time": "2022-07-09T07:20:36.986Z"
   },
   {
    "duration": 9,
    "start_time": "2022-07-09T07:20:36.997Z"
   },
   {
    "duration": 9,
    "start_time": "2022-07-09T07:20:37.007Z"
   },
   {
    "duration": 7,
    "start_time": "2022-07-09T07:20:37.018Z"
   },
   {
    "duration": 8,
    "start_time": "2022-07-09T07:20:37.026Z"
   },
   {
    "duration": 6,
    "start_time": "2022-07-09T07:20:37.061Z"
   },
   {
    "duration": 10,
    "start_time": "2022-07-09T07:20:37.068Z"
   },
   {
    "duration": 467,
    "start_time": "2022-07-09T07:20:37.079Z"
   },
   {
    "duration": 13,
    "start_time": "2022-07-09T07:20:37.548Z"
   },
   {
    "duration": 4,
    "start_time": "2022-07-09T07:20:37.562Z"
   },
   {
    "duration": 6,
    "start_time": "2022-07-09T07:20:37.568Z"
   },
   {
    "duration": 243,
    "start_time": "2022-07-09T07:20:37.576Z"
   },
   {
    "duration": 209,
    "start_time": "2022-07-09T07:20:37.821Z"
   },
   {
    "duration": 290,
    "start_time": "2022-07-09T07:20:38.033Z"
   },
   {
    "duration": 4,
    "start_time": "2022-07-09T07:20:38.325Z"
   },
   {
    "duration": 33,
    "start_time": "2022-07-09T07:20:38.331Z"
   },
   {
    "duration": 263,
    "start_time": "2022-07-09T07:20:38.366Z"
   },
   {
    "duration": 371,
    "start_time": "2022-07-09T07:20:38.631Z"
   },
   {
    "duration": 4,
    "start_time": "2022-07-09T07:20:39.004Z"
   },
   {
    "duration": 27,
    "start_time": "2022-07-09T07:20:39.010Z"
   },
   {
    "duration": 3,
    "start_time": "2022-07-09T07:20:39.039Z"
   },
   {
    "duration": 1554,
    "start_time": "2022-07-09T07:20:39.060Z"
   },
   {
    "duration": 77,
    "start_time": "2022-07-09T07:20:40.616Z"
   },
   {
    "duration": 1,
    "start_time": "2022-07-09T07:20:40.695Z"
   },
   {
    "duration": 0,
    "start_time": "2022-07-09T07:20:40.697Z"
   },
   {
    "duration": 1,
    "start_time": "2022-07-09T07:20:40.698Z"
   },
   {
    "duration": 0,
    "start_time": "2022-07-09T07:20:40.700Z"
   },
   {
    "duration": 0,
    "start_time": "2022-07-09T07:20:40.702Z"
   },
   {
    "duration": 0,
    "start_time": "2022-07-09T07:20:40.703Z"
   },
   {
    "duration": 0,
    "start_time": "2022-07-09T07:20:40.704Z"
   },
   {
    "duration": 0,
    "start_time": "2022-07-09T07:20:40.705Z"
   },
   {
    "duration": 0,
    "start_time": "2022-07-09T07:20:40.706Z"
   },
   {
    "duration": 1625,
    "start_time": "2022-07-09T07:21:02.512Z"
   },
   {
    "duration": 1664,
    "start_time": "2022-07-09T07:21:19.228Z"
   },
   {
    "duration": 857,
    "start_time": "2022-07-09T07:21:20.894Z"
   },
   {
    "duration": 74,
    "start_time": "2022-07-09T07:21:21.753Z"
   },
   {
    "duration": 16,
    "start_time": "2022-07-09T07:21:21.829Z"
   },
   {
    "duration": 24,
    "start_time": "2022-07-09T07:21:21.847Z"
   },
   {
    "duration": 16,
    "start_time": "2022-07-09T07:21:21.873Z"
   },
   {
    "duration": 186,
    "start_time": "2022-07-09T07:21:21.890Z"
   },
   {
    "duration": 134,
    "start_time": "2022-07-09T07:21:22.078Z"
   },
   {
    "duration": 29,
    "start_time": "2022-07-09T07:21:22.213Z"
   },
   {
    "duration": 28,
    "start_time": "2022-07-09T07:21:22.260Z"
   },
   {
    "duration": 33,
    "start_time": "2022-07-09T07:21:22.290Z"
   },
   {
    "duration": 7,
    "start_time": "2022-07-09T07:21:22.325Z"
   },
   {
    "duration": 7,
    "start_time": "2022-07-09T07:21:22.334Z"
   },
   {
    "duration": 20,
    "start_time": "2022-07-09T07:21:22.342Z"
   },
   {
    "duration": 11,
    "start_time": "2022-07-09T07:21:22.364Z"
   },
   {
    "duration": 9,
    "start_time": "2022-07-09T07:21:22.377Z"
   },
   {
    "duration": 7,
    "start_time": "2022-07-09T07:21:22.387Z"
   },
   {
    "duration": 8,
    "start_time": "2022-07-09T07:21:22.396Z"
   },
   {
    "duration": 8,
    "start_time": "2022-07-09T07:21:22.405Z"
   },
   {
    "duration": 9,
    "start_time": "2022-07-09T07:21:22.415Z"
   },
   {
    "duration": 464,
    "start_time": "2022-07-09T07:21:22.426Z"
   },
   {
    "duration": 5,
    "start_time": "2022-07-09T07:21:22.891Z"
   },
   {
    "duration": 6,
    "start_time": "2022-07-09T07:21:22.898Z"
   },
   {
    "duration": 5,
    "start_time": "2022-07-09T07:21:22.906Z"
   },
   {
    "duration": 231,
    "start_time": "2022-07-09T07:21:22.913Z"
   },
   {
    "duration": 198,
    "start_time": "2022-07-09T07:21:23.146Z"
   },
   {
    "duration": 252,
    "start_time": "2022-07-09T07:21:23.345Z"
   },
   {
    "duration": 4,
    "start_time": "2022-07-09T07:21:23.601Z"
   },
   {
    "duration": 15,
    "start_time": "2022-07-09T07:21:23.607Z"
   },
   {
    "duration": 267,
    "start_time": "2022-07-09T07:21:23.624Z"
   },
   {
    "duration": 278,
    "start_time": "2022-07-09T07:21:23.894Z"
   },
   {
    "duration": 6,
    "start_time": "2022-07-09T07:21:24.173Z"
   },
   {
    "duration": 25,
    "start_time": "2022-07-09T07:21:24.181Z"
   },
   {
    "duration": 2,
    "start_time": "2022-07-09T07:21:24.208Z"
   },
   {
    "duration": 1437,
    "start_time": "2022-07-09T07:21:24.212Z"
   },
   {
    "duration": 1685,
    "start_time": "2022-07-09T07:21:25.652Z"
   },
   {
    "duration": 1724,
    "start_time": "2022-07-09T07:21:27.338Z"
   },
   {
    "duration": 1817,
    "start_time": "2022-07-09T07:21:29.072Z"
   },
   {
    "duration": 2537,
    "start_time": "2022-07-09T07:21:30.891Z"
   },
   {
    "duration": 1851,
    "start_time": "2022-07-09T07:21:33.430Z"
   },
   {
    "duration": 1901,
    "start_time": "2022-07-09T07:21:35.283Z"
   },
   {
    "duration": 2594,
    "start_time": "2022-07-09T07:21:37.186Z"
   },
   {
    "duration": 1437,
    "start_time": "2022-07-09T07:21:39.782Z"
   },
   {
    "duration": 1356,
    "start_time": "2022-07-09T07:21:41.221Z"
   },
   {
    "duration": 1788,
    "start_time": "2022-07-09T07:21:42.579Z"
   },
   {
    "duration": 5,
    "start_time": "2022-07-09T11:42:10.719Z"
   },
   {
    "duration": 3,
    "start_time": "2022-07-09T11:43:16.150Z"
   },
   {
    "duration": 580,
    "start_time": "2022-07-09T11:43:16.171Z"
   },
   {
    "duration": 51,
    "start_time": "2022-07-09T11:43:16.753Z"
   },
   {
    "duration": 10,
    "start_time": "2022-07-09T11:43:16.806Z"
   },
   {
    "duration": 9,
    "start_time": "2022-07-09T11:43:16.817Z"
   },
   {
    "duration": 24,
    "start_time": "2022-07-09T11:43:16.828Z"
   },
   {
    "duration": 168,
    "start_time": "2022-07-09T11:43:16.854Z"
   },
   {
    "duration": 134,
    "start_time": "2022-07-09T11:43:17.023Z"
   },
   {
    "duration": 23,
    "start_time": "2022-07-09T11:43:17.159Z"
   },
   {
    "duration": 24,
    "start_time": "2022-07-09T11:43:17.183Z"
   },
   {
    "duration": 48,
    "start_time": "2022-07-09T11:43:17.208Z"
   },
   {
    "duration": 7,
    "start_time": "2022-07-09T11:43:17.258Z"
   },
   {
    "duration": 14,
    "start_time": "2022-07-09T11:43:17.267Z"
   },
   {
    "duration": 17,
    "start_time": "2022-07-09T11:43:17.283Z"
   },
   {
    "duration": 27,
    "start_time": "2022-07-09T11:43:17.304Z"
   },
   {
    "duration": 23,
    "start_time": "2022-07-09T11:43:17.333Z"
   },
   {
    "duration": 19,
    "start_time": "2022-07-09T11:43:17.358Z"
   },
   {
    "duration": 20,
    "start_time": "2022-07-09T11:43:17.379Z"
   },
   {
    "duration": 25,
    "start_time": "2022-07-09T11:43:17.401Z"
   },
   {
    "duration": 17,
    "start_time": "2022-07-09T11:43:17.428Z"
   },
   {
    "duration": 406,
    "start_time": "2022-07-09T11:43:17.447Z"
   },
   {
    "duration": 5,
    "start_time": "2022-07-09T11:43:17.854Z"
   },
   {
    "duration": 7,
    "start_time": "2022-07-09T11:43:17.860Z"
   },
   {
    "duration": 6,
    "start_time": "2022-07-09T11:43:17.868Z"
   },
   {
    "duration": 235,
    "start_time": "2022-07-09T11:43:17.875Z"
   },
   {
    "duration": 320,
    "start_time": "2022-07-09T11:43:18.111Z"
   },
   {
    "duration": 263,
    "start_time": "2022-07-09T11:43:18.433Z"
   },
   {
    "duration": 4,
    "start_time": "2022-07-09T11:43:18.697Z"
   },
   {
    "duration": 17,
    "start_time": "2022-07-09T11:43:18.703Z"
   },
   {
    "duration": 217,
    "start_time": "2022-07-09T11:43:18.721Z"
   },
   {
    "duration": 315,
    "start_time": "2022-07-09T11:43:18.940Z"
   },
   {
    "duration": 19,
    "start_time": "2022-07-09T11:43:19.257Z"
   },
   {
    "duration": 20,
    "start_time": "2022-07-09T11:43:19.278Z"
   },
   {
    "duration": 3,
    "start_time": "2022-07-09T11:43:19.300Z"
   },
   {
    "duration": 1334,
    "start_time": "2022-07-09T11:43:19.304Z"
   },
   {
    "duration": 1710,
    "start_time": "2022-07-09T11:43:20.640Z"
   },
   {
    "duration": 1621,
    "start_time": "2022-07-09T11:43:22.352Z"
   },
   {
    "duration": 1582,
    "start_time": "2022-07-09T11:43:23.974Z"
   },
   {
    "duration": 2197,
    "start_time": "2022-07-09T11:43:25.557Z"
   },
   {
    "duration": 1749,
    "start_time": "2022-07-09T11:43:27.756Z"
   },
   {
    "duration": 1604,
    "start_time": "2022-07-09T11:43:29.507Z"
   },
   {
    "duration": 2361,
    "start_time": "2022-07-09T11:43:31.114Z"
   },
   {
    "duration": 1299,
    "start_time": "2022-07-09T11:43:33.477Z"
   },
   {
    "duration": 1299,
    "start_time": "2022-07-09T11:43:34.777Z"
   },
   {
    "duration": 1504,
    "start_time": "2022-07-09T11:43:36.078Z"
   },
   {
    "duration": 14,
    "start_time": "2022-07-09T11:48:30.835Z"
   },
   {
    "duration": 20,
    "start_time": "2022-07-09T11:48:31.490Z"
   },
   {
    "duration": 1704,
    "start_time": "2022-07-09T16:10:07.800Z"
   },
   {
    "duration": 1501,
    "start_time": "2022-07-09T16:10:09.506Z"
   },
   {
    "duration": 98,
    "start_time": "2022-07-09T16:10:11.009Z"
   },
   {
    "duration": 29,
    "start_time": "2022-07-09T16:10:11.110Z"
   },
   {
    "duration": 33,
    "start_time": "2022-07-09T16:10:11.142Z"
   },
   {
    "duration": 12,
    "start_time": "2022-07-09T16:10:11.177Z"
   },
   {
    "duration": 251,
    "start_time": "2022-07-09T16:10:11.191Z"
   },
   {
    "duration": 188,
    "start_time": "2022-07-09T16:10:11.444Z"
   },
   {
    "duration": 40,
    "start_time": "2022-07-09T16:10:11.641Z"
   },
   {
    "duration": 33,
    "start_time": "2022-07-09T16:10:11.683Z"
   },
   {
    "duration": 52,
    "start_time": "2022-07-09T16:10:11.723Z"
   },
   {
    "duration": 8,
    "start_time": "2022-07-09T16:10:11.777Z"
   },
   {
    "duration": 7,
    "start_time": "2022-07-09T16:10:11.787Z"
   },
   {
    "duration": 14,
    "start_time": "2022-07-09T16:10:11.796Z"
   },
   {
    "duration": 39,
    "start_time": "2022-07-09T16:10:11.812Z"
   },
   {
    "duration": 20,
    "start_time": "2022-07-09T16:10:11.854Z"
   },
   {
    "duration": 11,
    "start_time": "2022-07-09T16:10:11.876Z"
   },
   {
    "duration": 8,
    "start_time": "2022-07-09T16:10:11.889Z"
   },
   {
    "duration": 11,
    "start_time": "2022-07-09T16:10:11.898Z"
   },
   {
    "duration": 22,
    "start_time": "2022-07-09T16:10:11.911Z"
   },
   {
    "duration": 619,
    "start_time": "2022-07-09T16:10:11.936Z"
   },
   {
    "duration": 7,
    "start_time": "2022-07-09T16:10:12.557Z"
   },
   {
    "duration": 8,
    "start_time": "2022-07-09T16:10:12.565Z"
   },
   {
    "duration": 5,
    "start_time": "2022-07-09T16:10:12.575Z"
   },
   {
    "duration": 273,
    "start_time": "2022-07-09T16:10:12.582Z"
   },
   {
    "duration": 243,
    "start_time": "2022-07-09T16:10:12.858Z"
   },
   {
    "duration": 343,
    "start_time": "2022-07-09T16:10:13.103Z"
   },
   {
    "duration": 6,
    "start_time": "2022-07-09T16:10:13.450Z"
   },
   {
    "duration": 20,
    "start_time": "2022-07-09T16:10:13.458Z"
   },
   {
    "duration": 308,
    "start_time": "2022-07-09T16:10:13.480Z"
   },
   {
    "duration": 360,
    "start_time": "2022-07-09T16:10:13.790Z"
   },
   {
    "duration": 20,
    "start_time": "2022-07-09T16:10:14.154Z"
   },
   {
    "duration": 19,
    "start_time": "2022-07-09T16:10:14.176Z"
   },
   {
    "duration": 31,
    "start_time": "2022-07-09T16:10:14.197Z"
   },
   {
    "duration": 1667,
    "start_time": "2022-07-09T16:10:14.230Z"
   },
   {
    "duration": 1852,
    "start_time": "2022-07-09T16:10:15.899Z"
   },
   {
    "duration": 1850,
    "start_time": "2022-07-09T16:10:17.754Z"
   },
   {
    "duration": 1992,
    "start_time": "2022-07-09T16:10:19.606Z"
   },
   {
    "duration": 2673,
    "start_time": "2022-07-09T16:10:21.600Z"
   },
   {
    "duration": 2033,
    "start_time": "2022-07-09T16:10:24.275Z"
   },
   {
    "duration": 1965,
    "start_time": "2022-07-09T16:10:26.310Z"
   },
   {
    "duration": 2921,
    "start_time": "2022-07-09T16:10:28.277Z"
   },
   {
    "duration": 1721,
    "start_time": "2022-07-09T16:10:31.200Z"
   },
   {
    "duration": 1519,
    "start_time": "2022-07-09T16:10:32.927Z"
   },
   {
    "duration": 1901,
    "start_time": "2022-07-09T16:10:34.449Z"
   },
   {
    "duration": 50,
    "start_time": "2022-07-19T15:33:02.248Z"
   },
   {
    "duration": 1214,
    "start_time": "2022-07-19T15:33:07.557Z"
   },
   {
    "duration": 87,
    "start_time": "2022-07-19T15:33:08.774Z"
   },
   {
    "duration": 11,
    "start_time": "2022-07-19T15:33:08.863Z"
   },
   {
    "duration": 42,
    "start_time": "2022-07-19T15:33:08.876Z"
   },
   {
    "duration": 47,
    "start_time": "2022-07-19T15:33:08.920Z"
   },
   {
    "duration": 187,
    "start_time": "2022-07-19T15:33:08.969Z"
   },
   {
    "duration": 6,
    "start_time": "2022-07-19T15:33:09.157Z"
   },
   {
    "duration": 198,
    "start_time": "2022-07-19T15:33:09.164Z"
   },
   {
    "duration": 124,
    "start_time": "2022-07-19T15:33:09.364Z"
   },
   {
    "duration": 28,
    "start_time": "2022-07-19T15:33:09.490Z"
   },
   {
    "duration": 327,
    "start_time": "2022-07-19T15:33:09.519Z"
   },
   {
    "duration": 282,
    "start_time": "2022-07-19T15:33:09.848Z"
   },
   {
    "duration": 399,
    "start_time": "2022-07-19T15:33:10.134Z"
   },
   {
    "duration": 322,
    "start_time": "2022-07-19T15:33:10.536Z"
   },
   {
    "duration": 426,
    "start_time": "2022-07-19T15:33:10.860Z"
   },
   {
    "duration": 165,
    "start_time": "2022-07-19T15:33:11.287Z"
   },
   {
    "duration": 4,
    "start_time": "2022-07-19T15:33:11.460Z"
   },
   {
    "duration": 177,
    "start_time": "2022-07-19T15:33:11.466Z"
   },
   {
    "duration": 7,
    "start_time": "2022-07-19T15:33:11.645Z"
   },
   {
    "duration": 96,
    "start_time": "2022-07-19T15:33:11.653Z"
   },
   {
    "duration": 10,
    "start_time": "2022-07-19T15:33:11.755Z"
   },
   {
    "duration": 18,
    "start_time": "2022-07-19T15:33:11.766Z"
   },
   {
    "duration": 8,
    "start_time": "2022-07-19T15:33:11.785Z"
   },
   {
    "duration": 12,
    "start_time": "2022-07-19T15:33:11.794Z"
   },
   {
    "duration": 1123,
    "start_time": "2022-07-23T09:18:32.508Z"
   },
   {
    "duration": 64,
    "start_time": "2022-07-23T09:18:33.633Z"
   },
   {
    "duration": 11,
    "start_time": "2022-07-23T09:18:33.699Z"
   },
   {
    "duration": 21,
    "start_time": "2022-07-23T09:18:33.712Z"
   },
   {
    "duration": 11,
    "start_time": "2022-07-23T09:18:33.734Z"
   },
   {
    "duration": 145,
    "start_time": "2022-07-23T09:18:33.746Z"
   },
   {
    "duration": 6,
    "start_time": "2022-07-23T09:18:33.893Z"
   },
   {
    "duration": 5,
    "start_time": "2022-07-23T09:18:33.901Z"
   },
   {
    "duration": 11,
    "start_time": "2022-07-23T09:18:33.908Z"
   },
   {
    "duration": 8,
    "start_time": "2022-07-23T09:18:33.921Z"
   },
   {
    "duration": 11,
    "start_time": "2022-07-23T09:18:33.930Z"
   },
   {
    "duration": 17,
    "start_time": "2022-07-23T09:18:33.943Z"
   },
   {
    "duration": 6,
    "start_time": "2022-07-23T09:18:33.962Z"
   },
   {
    "duration": 8,
    "start_time": "2022-07-23T09:18:33.970Z"
   },
   {
    "duration": 160,
    "start_time": "2022-07-23T09:18:33.979Z"
   },
   {
    "duration": 124,
    "start_time": "2022-07-23T09:18:34.140Z"
   },
   {
    "duration": 11,
    "start_time": "2022-07-23T09:18:34.266Z"
   },
   {
    "duration": 269,
    "start_time": "2022-07-23T09:18:34.278Z"
   },
   {
    "duration": 265,
    "start_time": "2022-07-23T09:18:34.549Z"
   },
   {
    "duration": 355,
    "start_time": "2022-07-23T09:18:34.815Z"
   },
   {
    "duration": 292,
    "start_time": "2022-07-23T09:18:35.172Z"
   },
   {
    "duration": 367,
    "start_time": "2022-07-23T09:18:35.465Z"
   },
   {
    "duration": 143,
    "start_time": "2022-07-23T09:18:35.834Z"
   },
   {
    "duration": 4,
    "start_time": "2022-07-23T09:18:35.979Z"
   },
   {
    "duration": 145,
    "start_time": "2022-07-23T09:18:35.984Z"
   },
   {
    "duration": 156,
    "start_time": "2022-07-23T09:18:36.130Z"
   },
   {
    "duration": 5,
    "start_time": "2022-07-23T09:18:36.289Z"
   },
   {
    "duration": 186,
    "start_time": "2022-07-23T09:18:36.298Z"
   },
   {
    "duration": 141,
    "start_time": "2022-07-23T09:18:36.486Z"
   },
   {
    "duration": 33,
    "start_time": "2022-07-23T09:18:36.628Z"
   },
   {
    "duration": 9,
    "start_time": "2022-07-23T09:18:36.663Z"
   },
   {
    "duration": 160,
    "start_time": "2022-07-23T09:18:36.673Z"
   },
   {
    "duration": 9,
    "start_time": "2022-07-23T09:18:36.835Z"
   }
  ],
  "kernelspec": {
   "display_name": "Python 3 (ipykernel)",
   "language": "python",
   "name": "python3"
  },
  "language_info": {
   "codemirror_mode": {
    "name": "ipython",
    "version": 3
   },
   "file_extension": ".py",
   "mimetype": "text/x-python",
   "name": "python",
   "nbconvert_exporter": "python",
   "pygments_lexer": "ipython3",
   "version": "3.9.7"
  },
  "toc": {
   "base_numbering": 1,
   "nav_menu": {},
   "number_sections": true,
   "sideBar": true,
   "skip_h1_title": true,
   "title_cell": "Table of Contents",
   "title_sidebar": "Contents",
   "toc_cell": false,
   "toc_position": {
    "height": "calc(100% - 180px)",
    "left": "10px",
    "top": "150px",
    "width": "312.4375px"
   },
   "toc_section_display": true,
   "toc_window_display": true
  }
 },
 "nbformat": 4,
 "nbformat_minor": 4
}
