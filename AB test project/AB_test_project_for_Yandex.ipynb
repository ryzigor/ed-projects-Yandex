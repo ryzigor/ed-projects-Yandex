{
 "cells": [
  {
   "cell_type": "markdown",
   "metadata": {},
   "source": [
    "# Анализ результатов A/B-теста\n",
    "\n",
    "Задача — провести оценку результатов A/B-теста. В нашем распоряжении есть датасет с действиями пользователей, техническое задание и несколько вспомогательных датасетов.\n",
    "* Оценить корректность проведения теста.\n",
    "* Проанализировать результаты теста.\n",
    "\n",
    "Чтобы оценить корректность проведения теста, проверить:\n",
    " * пересечение тестовой аудитории с конкурирующим тестом;\n",
    " * совпадение теста и маркетинговых событий, другие проблемы временных границ теста."
   ]
  },
  {
   "cell_type": "markdown",
   "metadata": {},
   "source": [
    "#### Техническое задание\n",
    "\n",
    "* Название теста: recommender_system_test;\n",
    "* Группы: А (контрольная), B (новая платёжная воронка);\n",
    "* Дата запуска: 2020-12-07;\n",
    "* Дата остановки набора новых пользователей: 2020-12-21;\n",
    "* Дата остановки: 2021-01-04;\n",
    "* Аудитория: 15% новых пользователей из региона EU;\n",
    "* Назначение теста: тестирование изменений, связанных с внедрением улучшенной рекомендательной системы;\n",
    "* Ожидаемое количество участников теста: 6000.\n",
    "* Ожидаемый эффект: за 14 дней с момента регистрации в системе пользователи покажут улучшение каждой метрики не менее, чем на 10%:\n",
    "    * конверсии в просмотр карточек товаров — событие product_page\n",
    "    * просмотры корзины — product_cart\n",
    "    * покупки — purchase.\n",
    "\n",
    "Загрузить данные теста, проверить корректность его проведения и проанализировать полученные результаты."
   ]
  },
  {
   "cell_type": "markdown",
   "metadata": {},
   "source": [
    "#### Описание данных\n",
    "\n",
    "/datasets/ab_project_marketing_events.csv — календарь маркетинговых событий на 2020 год;\n",
    "\n",
    "Структура файла:\n",
    " - name — название маркетингового события;\n",
    " - regions — регионы, в которых будет проводиться рекламная кампания;\n",
    " - start_dt — дата начала кампании;\n",
    " - finish_dt — дата завершения кампании.\n",
    "\n",
    "/datasets/final_ab_new_users.csv — все пользователи, зарегистрировавшиеся в интернет-магазине в период с 7 по 21 декабря 2020 года;\n",
    "\n",
    "Структура файла:\n",
    " - user_id — идентификатор пользователя;\n",
    " - first_date — дата регистрации;\n",
    " - region — регион пользователя;\n",
    " - device — устройство, с которого происходила регистрация.\n",
    "\n",
    "/datasets/final_ab_events.csv — все события новых пользователей в период с 7 декабря 2020 по 4 января 2021 года;\n",
    "\n",
    "Структура файла:\n",
    " - user_id — идентификатор пользователя;\n",
    " - event_dt — дата и время события;\n",
    " - event_name — тип события;\n",
    "- details — дополнительные данные о событии. Например, для покупок, purchase, в этом поле хранится стоимость покупки в долларах.\n",
    "\n",
    "/datasets/final_ab_participants.csv — таблица участников тестов.\n",
    "\n",
    "Структура файла:\n",
    " - user_id — идентификатор пользователя;\n",
    " - ab_test — название теста;\n",
    " - group — группа пользователя."
   ]
  },
  {
   "cell_type": "code",
   "execution_count": 1,
   "metadata": {},
   "outputs": [],
   "source": [
    "#Импорт библиотек\n",
    "import pandas as pd\n",
    "import numpy as np\n",
    "import math\n",
    "import matplotlib.pyplot as plt\n",
    "import scipy.stats as stats\n",
    "import datetime as dt\n",
    "import seaborn as sb\n",
    "import os"
   ]
  },
  {
   "cell_type": "code",
   "execution_count": 2,
   "metadata": {},
   "outputs": [],
   "source": [
    "#Функция для чтения таблиц\n",
    "def read_table(name):\n",
    "    pth1 = '/datasets/' + name + '.csv'\n",
    "    pth2 = 'C:\\\\Users\\\\user\\YandexDisk\\Data analyst Yandex 2022\\Проекты\\Diploma AB\\\\' + name + '.csv'\n",
    "    pth3 = 'F:/YandexDisk/Data analyst Yandex 2022/Проекты/Diploma AB/' + name +'.csv'\n",
    "\n",
    "    if os.path.exists(pth1):\n",
    "        table = pd.read_csv(pth1, sep=',', infer_datetime_format=True)\n",
    "    elif os.path.exists(pth2):\n",
    "        table = pd.read_csv(pth2, sep=',', infer_datetime_format=True)\n",
    "    elif os.path.exists(pth3):\n",
    "        table = pd.read_csv(pth3, sep=',', infer_datetime_format=True)\n",
    "    else:\n",
    "        print('Something is wrong - ', pth1)\n",
    "        return\n",
    "    return table"
   ]
  },
  {
   "cell_type": "code",
   "execution_count": 3,
   "metadata": {},
   "outputs": [],
   "source": [
    "#Загружаем таблицы функцией read_table\n",
    "marketing_events = read_table('ab_project_marketing_events')\n",
    "users = read_table('final_ab_new_users')\n",
    "users_events = read_table('final_ab_events')\n",
    "participants = read_table('final_ab_participants')\n",
    "\n",
    "datasets = [marketing_events, users, users_events, participants]"
   ]
  },
  {
   "cell_type": "code",
   "execution_count": 4,
   "metadata": {
    "scrolled": true
   },
   "outputs": [],
   "source": [
    "def describing_data(df):\n",
    "    print('*'*50)\n",
    "    display(df.head())\n",
    "    print('*'*50)\n",
    "    df.info()\n",
    "    print('*'*50)\n",
    "    display(df.describe())"
   ]
  },
  {
   "cell_type": "code",
   "execution_count": 5,
   "metadata": {},
   "outputs": [
    {
     "name": "stdout",
     "output_type": "stream",
     "text": [
      "**************************************************\n"
     ]
    },
    {
     "data": {
      "text/html": [
       "<div>\n",
       "<style scoped>\n",
       "    .dataframe tbody tr th:only-of-type {\n",
       "        vertical-align: middle;\n",
       "    }\n",
       "\n",
       "    .dataframe tbody tr th {\n",
       "        vertical-align: top;\n",
       "    }\n",
       "\n",
       "    .dataframe thead th {\n",
       "        text-align: right;\n",
       "    }\n",
       "</style>\n",
       "<table border=\"1\" class=\"dataframe\">\n",
       "  <thead>\n",
       "    <tr style=\"text-align: right;\">\n",
       "      <th></th>\n",
       "      <th>name</th>\n",
       "      <th>regions</th>\n",
       "      <th>start_dt</th>\n",
       "      <th>finish_dt</th>\n",
       "    </tr>\n",
       "  </thead>\n",
       "  <tbody>\n",
       "    <tr>\n",
       "      <th>0</th>\n",
       "      <td>Christmas&amp;New Year Promo</td>\n",
       "      <td>EU, N.America</td>\n",
       "      <td>2020-12-25</td>\n",
       "      <td>2021-01-03</td>\n",
       "    </tr>\n",
       "    <tr>\n",
       "      <th>1</th>\n",
       "      <td>St. Valentine's Day Giveaway</td>\n",
       "      <td>EU, CIS, APAC, N.America</td>\n",
       "      <td>2020-02-14</td>\n",
       "      <td>2020-02-16</td>\n",
       "    </tr>\n",
       "    <tr>\n",
       "      <th>2</th>\n",
       "      <td>St. Patric's Day Promo</td>\n",
       "      <td>EU, N.America</td>\n",
       "      <td>2020-03-17</td>\n",
       "      <td>2020-03-19</td>\n",
       "    </tr>\n",
       "    <tr>\n",
       "      <th>3</th>\n",
       "      <td>Easter Promo</td>\n",
       "      <td>EU, CIS, APAC, N.America</td>\n",
       "      <td>2020-04-12</td>\n",
       "      <td>2020-04-19</td>\n",
       "    </tr>\n",
       "    <tr>\n",
       "      <th>4</th>\n",
       "      <td>4th of July Promo</td>\n",
       "      <td>N.America</td>\n",
       "      <td>2020-07-04</td>\n",
       "      <td>2020-07-11</td>\n",
       "    </tr>\n",
       "  </tbody>\n",
       "</table>\n",
       "</div>"
      ],
      "text/plain": [
       "                           name                   regions    start_dt  \\\n",
       "0      Christmas&New Year Promo             EU, N.America  2020-12-25   \n",
       "1  St. Valentine's Day Giveaway  EU, CIS, APAC, N.America  2020-02-14   \n",
       "2        St. Patric's Day Promo             EU, N.America  2020-03-17   \n",
       "3                  Easter Promo  EU, CIS, APAC, N.America  2020-04-12   \n",
       "4             4th of July Promo                 N.America  2020-07-04   \n",
       "\n",
       "    finish_dt  \n",
       "0  2021-01-03  \n",
       "1  2020-02-16  \n",
       "2  2020-03-19  \n",
       "3  2020-04-19  \n",
       "4  2020-07-11  "
      ]
     },
     "metadata": {},
     "output_type": "display_data"
    },
    {
     "name": "stdout",
     "output_type": "stream",
     "text": [
      "**************************************************\n",
      "<class 'pandas.core.frame.DataFrame'>\n",
      "RangeIndex: 14 entries, 0 to 13\n",
      "Data columns (total 4 columns):\n",
      " #   Column     Non-Null Count  Dtype \n",
      "---  ------     --------------  ----- \n",
      " 0   name       14 non-null     object\n",
      " 1   regions    14 non-null     object\n",
      " 2   start_dt   14 non-null     object\n",
      " 3   finish_dt  14 non-null     object\n",
      "dtypes: object(4)\n",
      "memory usage: 576.0+ bytes\n",
      "**************************************************\n"
     ]
    },
    {
     "data": {
      "text/html": [
       "<div>\n",
       "<style scoped>\n",
       "    .dataframe tbody tr th:only-of-type {\n",
       "        vertical-align: middle;\n",
       "    }\n",
       "\n",
       "    .dataframe tbody tr th {\n",
       "        vertical-align: top;\n",
       "    }\n",
       "\n",
       "    .dataframe thead th {\n",
       "        text-align: right;\n",
       "    }\n",
       "</style>\n",
       "<table border=\"1\" class=\"dataframe\">\n",
       "  <thead>\n",
       "    <tr style=\"text-align: right;\">\n",
       "      <th></th>\n",
       "      <th>name</th>\n",
       "      <th>regions</th>\n",
       "      <th>start_dt</th>\n",
       "      <th>finish_dt</th>\n",
       "    </tr>\n",
       "  </thead>\n",
       "  <tbody>\n",
       "    <tr>\n",
       "      <th>count</th>\n",
       "      <td>14</td>\n",
       "      <td>14</td>\n",
       "      <td>14</td>\n",
       "      <td>14</td>\n",
       "    </tr>\n",
       "    <tr>\n",
       "      <th>unique</th>\n",
       "      <td>14</td>\n",
       "      <td>6</td>\n",
       "      <td>14</td>\n",
       "      <td>14</td>\n",
       "    </tr>\n",
       "    <tr>\n",
       "      <th>top</th>\n",
       "      <td>Black Friday Ads Campaign</td>\n",
       "      <td>APAC</td>\n",
       "      <td>2020-03-17</td>\n",
       "      <td>2020-03-10</td>\n",
       "    </tr>\n",
       "    <tr>\n",
       "      <th>freq</th>\n",
       "      <td>1</td>\n",
       "      <td>4</td>\n",
       "      <td>1</td>\n",
       "      <td>1</td>\n",
       "    </tr>\n",
       "  </tbody>\n",
       "</table>\n",
       "</div>"
      ],
      "text/plain": [
       "                             name regions    start_dt   finish_dt\n",
       "count                          14      14          14          14\n",
       "unique                         14       6          14          14\n",
       "top     Black Friday Ads Campaign    APAC  2020-03-17  2020-03-10\n",
       "freq                            1       4           1           1"
      ]
     },
     "metadata": {},
     "output_type": "display_data"
    }
   ],
   "source": [
    "describing_data(marketing_events)"
   ]
  },
  {
   "cell_type": "code",
   "execution_count": 6,
   "metadata": {},
   "outputs": [
    {
     "name": "stdout",
     "output_type": "stream",
     "text": [
      "**************************************************\n"
     ]
    },
    {
     "data": {
      "text/html": [
       "<div>\n",
       "<style scoped>\n",
       "    .dataframe tbody tr th:only-of-type {\n",
       "        vertical-align: middle;\n",
       "    }\n",
       "\n",
       "    .dataframe tbody tr th {\n",
       "        vertical-align: top;\n",
       "    }\n",
       "\n",
       "    .dataframe thead th {\n",
       "        text-align: right;\n",
       "    }\n",
       "</style>\n",
       "<table border=\"1\" class=\"dataframe\">\n",
       "  <thead>\n",
       "    <tr style=\"text-align: right;\">\n",
       "      <th></th>\n",
       "      <th>user_id</th>\n",
       "      <th>first_date</th>\n",
       "      <th>region</th>\n",
       "      <th>device</th>\n",
       "    </tr>\n",
       "  </thead>\n",
       "  <tbody>\n",
       "    <tr>\n",
       "      <th>0</th>\n",
       "      <td>D72A72121175D8BE</td>\n",
       "      <td>2020-12-07</td>\n",
       "      <td>EU</td>\n",
       "      <td>PC</td>\n",
       "    </tr>\n",
       "    <tr>\n",
       "      <th>1</th>\n",
       "      <td>F1C668619DFE6E65</td>\n",
       "      <td>2020-12-07</td>\n",
       "      <td>N.America</td>\n",
       "      <td>Android</td>\n",
       "    </tr>\n",
       "    <tr>\n",
       "      <th>2</th>\n",
       "      <td>2E1BF1D4C37EA01F</td>\n",
       "      <td>2020-12-07</td>\n",
       "      <td>EU</td>\n",
       "      <td>PC</td>\n",
       "    </tr>\n",
       "    <tr>\n",
       "      <th>3</th>\n",
       "      <td>50734A22C0C63768</td>\n",
       "      <td>2020-12-07</td>\n",
       "      <td>EU</td>\n",
       "      <td>iPhone</td>\n",
       "    </tr>\n",
       "    <tr>\n",
       "      <th>4</th>\n",
       "      <td>E1BDDCE0DAFA2679</td>\n",
       "      <td>2020-12-07</td>\n",
       "      <td>N.America</td>\n",
       "      <td>iPhone</td>\n",
       "    </tr>\n",
       "  </tbody>\n",
       "</table>\n",
       "</div>"
      ],
      "text/plain": [
       "            user_id  first_date     region   device\n",
       "0  D72A72121175D8BE  2020-12-07         EU       PC\n",
       "1  F1C668619DFE6E65  2020-12-07  N.America  Android\n",
       "2  2E1BF1D4C37EA01F  2020-12-07         EU       PC\n",
       "3  50734A22C0C63768  2020-12-07         EU   iPhone\n",
       "4  E1BDDCE0DAFA2679  2020-12-07  N.America   iPhone"
      ]
     },
     "metadata": {},
     "output_type": "display_data"
    },
    {
     "name": "stdout",
     "output_type": "stream",
     "text": [
      "**************************************************\n",
      "<class 'pandas.core.frame.DataFrame'>\n",
      "RangeIndex: 61733 entries, 0 to 61732\n",
      "Data columns (total 4 columns):\n",
      " #   Column      Non-Null Count  Dtype \n",
      "---  ------      --------------  ----- \n",
      " 0   user_id     61733 non-null  object\n",
      " 1   first_date  61733 non-null  object\n",
      " 2   region      61733 non-null  object\n",
      " 3   device      61733 non-null  object\n",
      "dtypes: object(4)\n",
      "memory usage: 1.9+ MB\n",
      "**************************************************\n"
     ]
    },
    {
     "data": {
      "text/html": [
       "<div>\n",
       "<style scoped>\n",
       "    .dataframe tbody tr th:only-of-type {\n",
       "        vertical-align: middle;\n",
       "    }\n",
       "\n",
       "    .dataframe tbody tr th {\n",
       "        vertical-align: top;\n",
       "    }\n",
       "\n",
       "    .dataframe thead th {\n",
       "        text-align: right;\n",
       "    }\n",
       "</style>\n",
       "<table border=\"1\" class=\"dataframe\">\n",
       "  <thead>\n",
       "    <tr style=\"text-align: right;\">\n",
       "      <th></th>\n",
       "      <th>user_id</th>\n",
       "      <th>first_date</th>\n",
       "      <th>region</th>\n",
       "      <th>device</th>\n",
       "    </tr>\n",
       "  </thead>\n",
       "  <tbody>\n",
       "    <tr>\n",
       "      <th>count</th>\n",
       "      <td>61733</td>\n",
       "      <td>61733</td>\n",
       "      <td>61733</td>\n",
       "      <td>61733</td>\n",
       "    </tr>\n",
       "    <tr>\n",
       "      <th>unique</th>\n",
       "      <td>61733</td>\n",
       "      <td>17</td>\n",
       "      <td>4</td>\n",
       "      <td>4</td>\n",
       "    </tr>\n",
       "    <tr>\n",
       "      <th>top</th>\n",
       "      <td>0C255F94348575ED</td>\n",
       "      <td>2020-12-21</td>\n",
       "      <td>EU</td>\n",
       "      <td>Android</td>\n",
       "    </tr>\n",
       "    <tr>\n",
       "      <th>freq</th>\n",
       "      <td>1</td>\n",
       "      <td>6290</td>\n",
       "      <td>46270</td>\n",
       "      <td>27520</td>\n",
       "    </tr>\n",
       "  </tbody>\n",
       "</table>\n",
       "</div>"
      ],
      "text/plain": [
       "                 user_id  first_date region   device\n",
       "count              61733       61733  61733    61733\n",
       "unique             61733          17      4        4\n",
       "top     0C255F94348575ED  2020-12-21     EU  Android\n",
       "freq                   1        6290  46270    27520"
      ]
     },
     "metadata": {},
     "output_type": "display_data"
    }
   ],
   "source": [
    "describing_data(users)"
   ]
  },
  {
   "cell_type": "code",
   "execution_count": 7,
   "metadata": {},
   "outputs": [
    {
     "name": "stdout",
     "output_type": "stream",
     "text": [
      "**************************************************\n"
     ]
    },
    {
     "data": {
      "text/html": [
       "<div>\n",
       "<style scoped>\n",
       "    .dataframe tbody tr th:only-of-type {\n",
       "        vertical-align: middle;\n",
       "    }\n",
       "\n",
       "    .dataframe tbody tr th {\n",
       "        vertical-align: top;\n",
       "    }\n",
       "\n",
       "    .dataframe thead th {\n",
       "        text-align: right;\n",
       "    }\n",
       "</style>\n",
       "<table border=\"1\" class=\"dataframe\">\n",
       "  <thead>\n",
       "    <tr style=\"text-align: right;\">\n",
       "      <th></th>\n",
       "      <th>user_id</th>\n",
       "      <th>event_dt</th>\n",
       "      <th>event_name</th>\n",
       "      <th>details</th>\n",
       "    </tr>\n",
       "  </thead>\n",
       "  <tbody>\n",
       "    <tr>\n",
       "      <th>0</th>\n",
       "      <td>E1BDDCE0DAFA2679</td>\n",
       "      <td>2020-12-07 20:22:03</td>\n",
       "      <td>purchase</td>\n",
       "      <td>99.99</td>\n",
       "    </tr>\n",
       "    <tr>\n",
       "      <th>1</th>\n",
       "      <td>7B6452F081F49504</td>\n",
       "      <td>2020-12-07 09:22:53</td>\n",
       "      <td>purchase</td>\n",
       "      <td>9.99</td>\n",
       "    </tr>\n",
       "    <tr>\n",
       "      <th>2</th>\n",
       "      <td>9CD9F34546DF254C</td>\n",
       "      <td>2020-12-07 12:59:29</td>\n",
       "      <td>purchase</td>\n",
       "      <td>4.99</td>\n",
       "    </tr>\n",
       "    <tr>\n",
       "      <th>3</th>\n",
       "      <td>96F27A054B191457</td>\n",
       "      <td>2020-12-07 04:02:40</td>\n",
       "      <td>purchase</td>\n",
       "      <td>4.99</td>\n",
       "    </tr>\n",
       "    <tr>\n",
       "      <th>4</th>\n",
       "      <td>1FD7660FDF94CA1F</td>\n",
       "      <td>2020-12-07 10:15:09</td>\n",
       "      <td>purchase</td>\n",
       "      <td>4.99</td>\n",
       "    </tr>\n",
       "  </tbody>\n",
       "</table>\n",
       "</div>"
      ],
      "text/plain": [
       "            user_id             event_dt event_name  details\n",
       "0  E1BDDCE0DAFA2679  2020-12-07 20:22:03   purchase    99.99\n",
       "1  7B6452F081F49504  2020-12-07 09:22:53   purchase     9.99\n",
       "2  9CD9F34546DF254C  2020-12-07 12:59:29   purchase     4.99\n",
       "3  96F27A054B191457  2020-12-07 04:02:40   purchase     4.99\n",
       "4  1FD7660FDF94CA1F  2020-12-07 10:15:09   purchase     4.99"
      ]
     },
     "metadata": {},
     "output_type": "display_data"
    },
    {
     "name": "stdout",
     "output_type": "stream",
     "text": [
      "**************************************************\n",
      "<class 'pandas.core.frame.DataFrame'>\n",
      "RangeIndex: 440317 entries, 0 to 440316\n",
      "Data columns (total 4 columns):\n",
      " #   Column      Non-Null Count   Dtype  \n",
      "---  ------      --------------   -----  \n",
      " 0   user_id     440317 non-null  object \n",
      " 1   event_dt    440317 non-null  object \n",
      " 2   event_name  440317 non-null  object \n",
      " 3   details     62740 non-null   float64\n",
      "dtypes: float64(1), object(3)\n",
      "memory usage: 13.4+ MB\n",
      "**************************************************\n"
     ]
    },
    {
     "data": {
      "text/html": [
       "<div>\n",
       "<style scoped>\n",
       "    .dataframe tbody tr th:only-of-type {\n",
       "        vertical-align: middle;\n",
       "    }\n",
       "\n",
       "    .dataframe tbody tr th {\n",
       "        vertical-align: top;\n",
       "    }\n",
       "\n",
       "    .dataframe thead th {\n",
       "        text-align: right;\n",
       "    }\n",
       "</style>\n",
       "<table border=\"1\" class=\"dataframe\">\n",
       "  <thead>\n",
       "    <tr style=\"text-align: right;\">\n",
       "      <th></th>\n",
       "      <th>details</th>\n",
       "    </tr>\n",
       "  </thead>\n",
       "  <tbody>\n",
       "    <tr>\n",
       "      <th>count</th>\n",
       "      <td>62740.000000</td>\n",
       "    </tr>\n",
       "    <tr>\n",
       "      <th>mean</th>\n",
       "      <td>23.877631</td>\n",
       "    </tr>\n",
       "    <tr>\n",
       "      <th>std</th>\n",
       "      <td>72.180465</td>\n",
       "    </tr>\n",
       "    <tr>\n",
       "      <th>min</th>\n",
       "      <td>4.990000</td>\n",
       "    </tr>\n",
       "    <tr>\n",
       "      <th>25%</th>\n",
       "      <td>4.990000</td>\n",
       "    </tr>\n",
       "    <tr>\n",
       "      <th>50%</th>\n",
       "      <td>4.990000</td>\n",
       "    </tr>\n",
       "    <tr>\n",
       "      <th>75%</th>\n",
       "      <td>9.990000</td>\n",
       "    </tr>\n",
       "    <tr>\n",
       "      <th>max</th>\n",
       "      <td>499.990000</td>\n",
       "    </tr>\n",
       "  </tbody>\n",
       "</table>\n",
       "</div>"
      ],
      "text/plain": [
       "            details\n",
       "count  62740.000000\n",
       "mean      23.877631\n",
       "std       72.180465\n",
       "min        4.990000\n",
       "25%        4.990000\n",
       "50%        4.990000\n",
       "75%        9.990000\n",
       "max      499.990000"
      ]
     },
     "metadata": {},
     "output_type": "display_data"
    }
   ],
   "source": [
    "describing_data(users_events)"
   ]
  },
  {
   "cell_type": "code",
   "execution_count": 8,
   "metadata": {},
   "outputs": [
    {
     "name": "stdout",
     "output_type": "stream",
     "text": [
      "**************************************************\n"
     ]
    },
    {
     "data": {
      "text/html": [
       "<div>\n",
       "<style scoped>\n",
       "    .dataframe tbody tr th:only-of-type {\n",
       "        vertical-align: middle;\n",
       "    }\n",
       "\n",
       "    .dataframe tbody tr th {\n",
       "        vertical-align: top;\n",
       "    }\n",
       "\n",
       "    .dataframe thead th {\n",
       "        text-align: right;\n",
       "    }\n",
       "</style>\n",
       "<table border=\"1\" class=\"dataframe\">\n",
       "  <thead>\n",
       "    <tr style=\"text-align: right;\">\n",
       "      <th></th>\n",
       "      <th>user_id</th>\n",
       "      <th>group</th>\n",
       "      <th>ab_test</th>\n",
       "    </tr>\n",
       "  </thead>\n",
       "  <tbody>\n",
       "    <tr>\n",
       "      <th>0</th>\n",
       "      <td>D1ABA3E2887B6A73</td>\n",
       "      <td>A</td>\n",
       "      <td>recommender_system_test</td>\n",
       "    </tr>\n",
       "    <tr>\n",
       "      <th>1</th>\n",
       "      <td>A7A3664BD6242119</td>\n",
       "      <td>A</td>\n",
       "      <td>recommender_system_test</td>\n",
       "    </tr>\n",
       "    <tr>\n",
       "      <th>2</th>\n",
       "      <td>DABC14FDDFADD29E</td>\n",
       "      <td>A</td>\n",
       "      <td>recommender_system_test</td>\n",
       "    </tr>\n",
       "    <tr>\n",
       "      <th>3</th>\n",
       "      <td>04988C5DF189632E</td>\n",
       "      <td>A</td>\n",
       "      <td>recommender_system_test</td>\n",
       "    </tr>\n",
       "    <tr>\n",
       "      <th>4</th>\n",
       "      <td>482F14783456D21B</td>\n",
       "      <td>B</td>\n",
       "      <td>recommender_system_test</td>\n",
       "    </tr>\n",
       "  </tbody>\n",
       "</table>\n",
       "</div>"
      ],
      "text/plain": [
       "            user_id group                  ab_test\n",
       "0  D1ABA3E2887B6A73     A  recommender_system_test\n",
       "1  A7A3664BD6242119     A  recommender_system_test\n",
       "2  DABC14FDDFADD29E     A  recommender_system_test\n",
       "3  04988C5DF189632E     A  recommender_system_test\n",
       "4  482F14783456D21B     B  recommender_system_test"
      ]
     },
     "metadata": {},
     "output_type": "display_data"
    },
    {
     "name": "stdout",
     "output_type": "stream",
     "text": [
      "**************************************************\n",
      "<class 'pandas.core.frame.DataFrame'>\n",
      "RangeIndex: 18268 entries, 0 to 18267\n",
      "Data columns (total 3 columns):\n",
      " #   Column   Non-Null Count  Dtype \n",
      "---  ------   --------------  ----- \n",
      " 0   user_id  18268 non-null  object\n",
      " 1   group    18268 non-null  object\n",
      " 2   ab_test  18268 non-null  object\n",
      "dtypes: object(3)\n",
      "memory usage: 428.3+ KB\n",
      "**************************************************\n"
     ]
    },
    {
     "data": {
      "text/html": [
       "<div>\n",
       "<style scoped>\n",
       "    .dataframe tbody tr th:only-of-type {\n",
       "        vertical-align: middle;\n",
       "    }\n",
       "\n",
       "    .dataframe tbody tr th {\n",
       "        vertical-align: top;\n",
       "    }\n",
       "\n",
       "    .dataframe thead th {\n",
       "        text-align: right;\n",
       "    }\n",
       "</style>\n",
       "<table border=\"1\" class=\"dataframe\">\n",
       "  <thead>\n",
       "    <tr style=\"text-align: right;\">\n",
       "      <th></th>\n",
       "      <th>user_id</th>\n",
       "      <th>group</th>\n",
       "      <th>ab_test</th>\n",
       "    </tr>\n",
       "  </thead>\n",
       "  <tbody>\n",
       "    <tr>\n",
       "      <th>count</th>\n",
       "      <td>18268</td>\n",
       "      <td>18268</td>\n",
       "      <td>18268</td>\n",
       "    </tr>\n",
       "    <tr>\n",
       "      <th>unique</th>\n",
       "      <td>16666</td>\n",
       "      <td>2</td>\n",
       "      <td>2</td>\n",
       "    </tr>\n",
       "    <tr>\n",
       "      <th>top</th>\n",
       "      <td>9431D6C9475CFD3A</td>\n",
       "      <td>A</td>\n",
       "      <td>interface_eu_test</td>\n",
       "    </tr>\n",
       "    <tr>\n",
       "      <th>freq</th>\n",
       "      <td>2</td>\n",
       "      <td>9655</td>\n",
       "      <td>11567</td>\n",
       "    </tr>\n",
       "  </tbody>\n",
       "</table>\n",
       "</div>"
      ],
      "text/plain": [
       "                 user_id  group            ab_test\n",
       "count              18268  18268              18268\n",
       "unique             16666      2                  2\n",
       "top     9431D6C9475CFD3A      A  interface_eu_test\n",
       "freq                   2   9655              11567"
      ]
     },
     "metadata": {},
     "output_type": "display_data"
    }
   ],
   "source": [
    "describing_data(participants)"
   ]
  },
  {
   "cell_type": "code",
   "execution_count": 9,
   "metadata": {},
   "outputs": [],
   "source": [
    "#преобразуем даты для корректной сортировки\n",
    "marketing_events['start_dt'] = pd.to_datetime(marketing_events['start_dt']).dt.date\n",
    "marketing_events['finish_dt'] = pd.to_datetime(marketing_events['finish_dt']).dt.date\n",
    "users['first_date'] = pd.to_datetime(users['first_date']).dt.date\n",
    "users_events['event_dt'] = pd.to_datetime(users_events['event_dt'])"
   ]
  },
  {
   "cell_type": "markdown",
   "metadata": {},
   "source": [
    "Пропуски обнаружены только в столбце `details` фрейма `users_events`. Эти пропуски не требуют обработки - столбец содержит дополнительную информацию о действиях пользователя"
   ]
  },
  {
   "cell_type": "code",
   "execution_count": 10,
   "metadata": {},
   "outputs": [
    {
     "name": "stdout",
     "output_type": "stream",
     "text": [
      "0\n",
      "0\n",
      "0\n",
      "0\n"
     ]
    }
   ],
   "source": [
    "#проверим фреймы на явные дубликаты\n",
    "for df in datasets:\n",
    "    print(df.duplicated().sum())"
   ]
  },
  {
   "cell_type": "code",
   "execution_count": 11,
   "metadata": {},
   "outputs": [
    {
     "data": {
      "text/plain": [
       "Black Friday Ads Campaign           1\n",
       "Dragon Boat Festival Giveaway       1\n",
       "International Women's Day Promo     1\n",
       "Chinese New Year Promo              1\n",
       "Chinese Moon Festival               1\n",
       "Victory Day CIS (May 9th) Event     1\n",
       "Single's Day Gift Promo             1\n",
       "Labor day (May 1st) Ads Campaign    1\n",
       "Christmas&New Year Promo            1\n",
       "St. Patric's Day Promo              1\n",
       "CIS New Year Gift Lottery           1\n",
       "4th of July Promo                   1\n",
       "St. Valentine's Day Giveaway        1\n",
       "Easter Promo                        1\n",
       "Name: name, dtype: int64"
      ]
     },
     "metadata": {},
     "output_type": "display_data"
    },
    {
     "data": {
      "text/plain": [
       "EU           46270\n",
       "N.America     9155\n",
       "CIS           3155\n",
       "APAC          3153\n",
       "Name: region, dtype: int64"
      ]
     },
     "metadata": {},
     "output_type": "display_data"
    },
    {
     "data": {
      "text/plain": [
       "Android    27520\n",
       "PC         15599\n",
       "iPhone     12530\n",
       "Mac         6084\n",
       "Name: device, dtype: int64"
      ]
     },
     "metadata": {},
     "output_type": "display_data"
    },
    {
     "data": {
      "text/plain": [
       "login           189552\n",
       "product_page    125563\n",
       "purchase         62740\n",
       "product_cart     62462\n",
       "Name: event_name, dtype: int64"
      ]
     },
     "metadata": {},
     "output_type": "display_data"
    },
    {
     "data": {
      "text/plain": [
       "A    9655\n",
       "B    8613\n",
       "Name: group, dtype: int64"
      ]
     },
     "metadata": {},
     "output_type": "display_data"
    },
    {
     "data": {
      "text/plain": [
       "interface_eu_test          11567\n",
       "recommender_system_test     6701\n",
       "Name: ab_test, dtype: int64"
      ]
     },
     "metadata": {},
     "output_type": "display_data"
    }
   ],
   "source": [
    "#проверим наличие неявных дубликатов в категориальных столбцах\n",
    "categorial = ['name', 'region', 'device', 'event_name', 'group', 'ab_test']\n",
    "for df in datasets:\n",
    "    for col in df:\n",
    "        if col in categorial:\n",
    "            display(df[col].value_counts())"
   ]
  },
  {
   "cell_type": "markdown",
   "metadata": {},
   "source": [
    "Оценка корректности проведения теста"
   ]
  },
  {
   "cell_type": "markdown",
   "metadata": {},
   "source": [
    "Проверим корректность всех пунктов технического задания."
   ]
  },
  {
   "cell_type": "markdown",
   "metadata": {},
   "source": [
    "1. Название теста: recommender_system_test\n",
    "\n",
    "В проверке неявных дубликатов выше видно также наличие второго теста, который не имеет отношения к ТЗ. Удаляем его с созданием нового датафрейма."
   ]
  },
  {
   "cell_type": "code",
   "execution_count": 12,
   "metadata": {},
   "outputs": [],
   "source": [
    "participants_filtered = participants.query('ab_test == \"recommender_system_test\"')"
   ]
  },
  {
   "cell_type": "markdown",
   "metadata": {},
   "source": [
    "2. Группы: А (контрольная), B (новая платёжная воронка)"
   ]
  },
  {
   "cell_type": "code",
   "execution_count": 13,
   "metadata": {},
   "outputs": [
    {
     "data": {
      "image/png": "[encoded data removed]",
      "text/plain": [
       "<Figure size 432x288 with 1 Axes>"
      ]
     },
     "metadata": {
      "needs_background": "light"
     },
     "output_type": "display_data"
    }
   ],
   "source": [
    "sb.barplot(x=participants_filtered.group.value_counts().index, y=participants_filtered.group.value_counts())\n",
    "plt.title('Количество участников по группам')\n",
    "plt.ylabel('Количество участников')\n",
    "plt.xlabel('Группа теста')\n",
    "plt.show()"
   ]
  },
  {
   "cell_type": "markdown",
   "metadata": {},
   "source": [
    "3. Дата запуска: 2020-12-07\n",
    "\n",
    "first_date в фрейме users должен быть больше или равен этой дате"
   ]
  },
  {
   "cell_type": "code",
   "execution_count": 14,
   "metadata": {},
   "outputs": [
    {
     "data": {
      "text/html": [
       "<div>\n",
       "<style scoped>\n",
       "    .dataframe tbody tr th:only-of-type {\n",
       "        vertical-align: middle;\n",
       "    }\n",
       "\n",
       "    .dataframe tbody tr th {\n",
       "        vertical-align: top;\n",
       "    }\n",
       "\n",
       "    .dataframe thead th {\n",
       "        text-align: right;\n",
       "    }\n",
       "</style>\n",
       "<table border=\"1\" class=\"dataframe\">\n",
       "  <thead>\n",
       "    <tr style=\"text-align: right;\">\n",
       "      <th></th>\n",
       "      <th>user_id</th>\n",
       "      <th>first_date</th>\n",
       "      <th>region</th>\n",
       "      <th>device</th>\n",
       "    </tr>\n",
       "  </thead>\n",
       "  <tbody>\n",
       "  </tbody>\n",
       "</table>\n",
       "</div>"
      ],
      "text/plain": [
       "Empty DataFrame\n",
       "Columns: [user_id, first_date, region, device]\n",
       "Index: []"
      ]
     },
     "execution_count": 14,
     "metadata": {},
     "output_type": "execute_result"
    }
   ],
   "source": [
    "users[users['first_date'] < pd.to_datetime(\"2020-12-07\").date()]"
   ]
  },
  {
   "cell_type": "markdown",
   "metadata": {},
   "source": [
    "Подтверждено, пользователи с датой регистрации ранее 2012-12-07 отсутствуют"
   ]
  },
  {
   "cell_type": "markdown",
   "metadata": {},
   "source": [
    "4. Дата остановки набора новых пользователей: 2020-12-21\n",
    "\n",
    "first_date в фрейме users должен быть меньше или равен этой дате"
   ]
  },
  {
   "cell_type": "code",
   "execution_count": 15,
   "metadata": {},
   "outputs": [
    {
     "data": {
      "text/plain": [
       "0"
      ]
     },
     "execution_count": 15,
     "metadata": {},
     "output_type": "execute_result"
    }
   ],
   "source": [
    "users_test = participants_filtered['user_id'].unique()\n",
    "users[users['first_date'] > pd.to_datetime(\"2020-12-21\").date()].query('user_id in @users_test')['user_id'].nunique()"
   ]
  },
  {
   "cell_type": "markdown",
   "metadata": {},
   "source": [
    "5. Дата остановки: 2021-01-04\n",
    "\n",
    "Все события далее этой даты нас не интересуют"
   ]
  },
  {
   "cell_type": "code",
   "execution_count": 16,
   "metadata": {},
   "outputs": [
    {
     "data": {
      "text/html": [
       "<div>\n",
       "<style scoped>\n",
       "    .dataframe tbody tr th:only-of-type {\n",
       "        vertical-align: middle;\n",
       "    }\n",
       "\n",
       "    .dataframe tbody tr th {\n",
       "        vertical-align: top;\n",
       "    }\n",
       "\n",
       "    .dataframe thead th {\n",
       "        text-align: right;\n",
       "    }\n",
       "</style>\n",
       "<table border=\"1\" class=\"dataframe\">\n",
       "  <thead>\n",
       "    <tr style=\"text-align: right;\">\n",
       "      <th></th>\n",
       "      <th>user_id</th>\n",
       "      <th>event_dt</th>\n",
       "      <th>event_name</th>\n",
       "      <th>details</th>\n",
       "    </tr>\n",
       "  </thead>\n",
       "  <tbody>\n",
       "  </tbody>\n",
       "</table>\n",
       "</div>"
      ],
      "text/plain": [
       "Empty DataFrame\n",
       "Columns: [user_id, event_dt, event_name, details]\n",
       "Index: []"
      ]
     },
     "execution_count": 16,
     "metadata": {},
     "output_type": "execute_result"
    }
   ],
   "source": [
    "users_events[users_events['event_dt'] > pd.to_datetime(\"2021-01-04 23:59:59\")]"
   ]
  },
  {
   "cell_type": "markdown",
   "metadata": {},
   "source": [
    "Таких событий нет. Однако, нужно проверить когда реально закончился тест."
   ]
  },
  {
   "cell_type": "code",
   "execution_count": 17,
   "metadata": {},
   "outputs": [
    {
     "data": {
      "text/html": [
       "<div>\n",
       "<style scoped>\n",
       "    .dataframe tbody tr th:only-of-type {\n",
       "        vertical-align: middle;\n",
       "    }\n",
       "\n",
       "    .dataframe tbody tr th {\n",
       "        vertical-align: top;\n",
       "    }\n",
       "\n",
       "    .dataframe thead th {\n",
       "        text-align: right;\n",
       "    }\n",
       "</style>\n",
       "<table border=\"1\" class=\"dataframe\">\n",
       "  <thead>\n",
       "    <tr style=\"text-align: right;\">\n",
       "      <th></th>\n",
       "      <th>user_id</th>\n",
       "      <th>event_dt</th>\n",
       "      <th>event_name</th>\n",
       "      <th>details</th>\n",
       "    </tr>\n",
       "  </thead>\n",
       "  <tbody>\n",
       "    <tr>\n",
       "      <th>250743</th>\n",
       "      <td>DD4352CDCF8C3D57</td>\n",
       "      <td>2020-12-30 12:42:57</td>\n",
       "      <td>product_page</td>\n",
       "      <td>NaN</td>\n",
       "    </tr>\n",
       "  </tbody>\n",
       "</table>\n",
       "</div>"
      ],
      "text/plain": [
       "                 user_id            event_dt    event_name  details\n",
       "250743  DD4352CDCF8C3D57 2020-12-30 12:42:57  product_page      NaN"
      ]
     },
     "execution_count": 17,
     "metadata": {},
     "output_type": "execute_result"
    }
   ],
   "source": [
    "users_events[users_events['event_dt'] == max(users_events.merge(participants_filtered, on='user_id', how='right')['event_dt'])]"
   ]
  },
  {
   "cell_type": "markdown",
   "metadata": {},
   "source": [
    "* тест остановлен ранее плановой даты, а он предполагал расчет метрик по пользователям на 14 день пользования сервисом. Или ресурс имеет крайне низкое удержание пользователей - и они просто перестали пользоваться сервисом до наступления конечной даты теста."
   ]
  },
  {
   "cell_type": "markdown",
   "metadata": {},
   "source": [
    "6. Аудитория: 15% новых пользователей из региона EU\n",
    "\n",
    "Соединяем таблицы users и participants и проверяем долю пользователей по регионам и группам теста."
   ]
  },
  {
   "cell_type": "code",
   "execution_count": 18,
   "metadata": {},
   "outputs": [],
   "source": [
    "#соединяем все user_id со всеми отфильрованными участниками\n",
    "data = users.merge(participants_filtered, on='user_id', how='outer')\n",
    "#заполняем пропуски для тех user_id, что не попали в тест\n",
    "data['group'] = data['group'].fillna('out_of_test')"
   ]
  },
  {
   "cell_type": "code",
   "execution_count": 19,
   "metadata": {},
   "outputs": [],
   "source": [
    "#группируем пользователей из EU\n",
    "eu_users_group = data.query('region == \"EU\"').groupby('group')['user_id'].agg('nunique').reset_index()"
   ]
  },
  {
   "cell_type": "code",
   "execution_count": 20,
   "metadata": {},
   "outputs": [
    {
     "data": {
      "text/html": [
       "<style  type=\"text/css\" >\n",
       "</style><table id=\"T_861c1071_58ff_11ed_805d_00d861da9215\" ><thead>    <tr>        <th class=\"blank level0\" ></th>        <th class=\"col_heading level0 col0\" >group</th>        <th class=\"col_heading level0 col1\" >user_id</th>        <th class=\"col_heading level0 col2\" >share</th>    </tr></thead><tbody>\n",
       "                <tr>\n",
       "                        <th id=\"T_861c1071_58ff_11ed_805d_00d861da9215level0_row0\" class=\"row_heading level0 row0\" >0</th>\n",
       "                        <td id=\"T_861c1071_58ff_11ed_805d_00d861da9215row0_col0\" class=\"data row0 col0\" >A</td>\n",
       "                        <td id=\"T_861c1071_58ff_11ed_805d_00d861da9215row0_col1\" class=\"data row0 col1\" >3634</td>\n",
       "                        <td id=\"T_861c1071_58ff_11ed_805d_00d861da9215row0_col2\" class=\"data row0 col2\" >7.9%</td>\n",
       "            </tr>\n",
       "            <tr>\n",
       "                        <th id=\"T_861c1071_58ff_11ed_805d_00d861da9215level0_row1\" class=\"row_heading level0 row1\" >1</th>\n",
       "                        <td id=\"T_861c1071_58ff_11ed_805d_00d861da9215row1_col0\" class=\"data row1 col0\" >B</td>\n",
       "                        <td id=\"T_861c1071_58ff_11ed_805d_00d861da9215row1_col1\" class=\"data row1 col1\" >2717</td>\n",
       "                        <td id=\"T_861c1071_58ff_11ed_805d_00d861da9215row1_col2\" class=\"data row1 col2\" >5.9%</td>\n",
       "            </tr>\n",
       "            <tr>\n",
       "                        <th id=\"T_861c1071_58ff_11ed_805d_00d861da9215level0_row2\" class=\"row_heading level0 row2\" >2</th>\n",
       "                        <td id=\"T_861c1071_58ff_11ed_805d_00d861da9215row2_col0\" class=\"data row2 col0\" >out_of_test</td>\n",
       "                        <td id=\"T_861c1071_58ff_11ed_805d_00d861da9215row2_col1\" class=\"data row2 col1\" >39919</td>\n",
       "                        <td id=\"T_861c1071_58ff_11ed_805d_00d861da9215row2_col2\" class=\"data row2 col2\" >86.3%</td>\n",
       "            </tr>\n",
       "    </tbody></table>"
      ],
      "text/plain": [
       "<pandas.io.formats.style.Styler at 0x1f5b7ad3580>"
      ]
     },
     "execution_count": 20,
     "metadata": {},
     "output_type": "execute_result"
    }
   ],
   "source": [
    "#рассчитываем относительные значения\n",
    "eu_users_group['share'] = eu_users_group['user_id'] / sum(eu_users_group['user_id'])\n",
    "eu_users_group.style.format({'share': '{:.1%}'})"
   ]
  },
  {
   "cell_type": "markdown",
   "metadata": {},
   "source": [
    "Совокупно, контрольная группа и группа с новой платежной воронкой занимают ровно 15% от всех новых польхователей в EU. Проверим также, не попали ли в тест пользователи не из EU."
   ]
  },
  {
   "cell_type": "code",
   "execution_count": 21,
   "metadata": {},
   "outputs": [
    {
     "data": {
      "text/html": [
       "<div>\n",
       "<style scoped>\n",
       "    .dataframe tbody tr th:only-of-type {\n",
       "        vertical-align: middle;\n",
       "    }\n",
       "\n",
       "    .dataframe tbody tr th {\n",
       "        vertical-align: top;\n",
       "    }\n",
       "\n",
       "    .dataframe thead th {\n",
       "        text-align: right;\n",
       "    }\n",
       "</style>\n",
       "<table border=\"1\" class=\"dataframe\">\n",
       "  <thead>\n",
       "    <tr style=\"text-align: right;\">\n",
       "      <th></th>\n",
       "      <th>group</th>\n",
       "      <th>user_id</th>\n",
       "    </tr>\n",
       "  </thead>\n",
       "  <tbody>\n",
       "    <tr>\n",
       "      <th>0</th>\n",
       "      <td>A</td>\n",
       "      <td>190</td>\n",
       "    </tr>\n",
       "    <tr>\n",
       "      <th>1</th>\n",
       "      <td>B</td>\n",
       "      <td>160</td>\n",
       "    </tr>\n",
       "    <tr>\n",
       "      <th>2</th>\n",
       "      <td>out_of_test</td>\n",
       "      <td>15113</td>\n",
       "    </tr>\n",
       "  </tbody>\n",
       "</table>\n",
       "</div>"
      ],
      "text/plain": [
       "         group  user_id\n",
       "0            A      190\n",
       "1            B      160\n",
       "2  out_of_test    15113"
      ]
     },
     "execution_count": 21,
     "metadata": {},
     "output_type": "execute_result"
    }
   ],
   "source": [
    "data.query('region != \"EU\"').groupby('group')['user_id'].agg('nunique').reset_index()"
   ]
  },
  {
   "cell_type": "markdown",
   "metadata": {},
   "source": [
    "Данные пользователи не должны входить в тест по условиям ТЗ. Удалим также и других пользователей не учавствовавших в тесте."
   ]
  },
  {
   "cell_type": "code",
   "execution_count": 22,
   "metadata": {},
   "outputs": [],
   "source": [
    "data = data.query('region == \"EU\"')\n",
    "data = data.query('group in [\"A\", \"B\"]')"
   ]
  },
  {
   "cell_type": "markdown",
   "metadata": {},
   "source": [
    "7. Назначение теста: тестирование изменений, связанных с внедрением улучшенной рекомендательной системы.\n",
    "\n",
    "Данный пункт проверить нет возможности - предполагаем, что мы имеем дело с верными данными"
   ]
  },
  {
   "cell_type": "markdown",
   "metadata": {},
   "source": [
    "8. Ожидаемое количество участников теста: 6000"
   ]
  },
  {
   "cell_type": "code",
   "execution_count": 23,
   "metadata": {},
   "outputs": [
    {
     "data": {
      "text/plain": [
       "6351"
      ]
     },
     "execution_count": 23,
     "metadata": {},
     "output_type": "execute_result"
    }
   ],
   "source": [
    "data.user_id.nunique()"
   ]
  },
  {
   "cell_type": "markdown",
   "metadata": {},
   "source": [
    "7. ожидаемый эффект будем проверять далее"
   ]
  },
  {
   "cell_type": "markdown",
   "metadata": {},
   "source": [
    "Далее - время проведения теста. Убедимся, что оно не совпадает с маркетинговыми и другими активностями."
   ]
  },
  {
   "cell_type": "code",
   "execution_count": 24,
   "metadata": {},
   "outputs": [
    {
     "data": {
      "text/html": [
       "<div>\n",
       "<style scoped>\n",
       "    .dataframe tbody tr th:only-of-type {\n",
       "        vertical-align: middle;\n",
       "    }\n",
       "\n",
       "    .dataframe tbody tr th {\n",
       "        vertical-align: top;\n",
       "    }\n",
       "\n",
       "    .dataframe thead th {\n",
       "        text-align: right;\n",
       "    }\n",
       "</style>\n",
       "<table border=\"1\" class=\"dataframe\">\n",
       "  <thead>\n",
       "    <tr style=\"text-align: right;\">\n",
       "      <th></th>\n",
       "      <th>name</th>\n",
       "      <th>regions</th>\n",
       "      <th>start_dt</th>\n",
       "      <th>finish_dt</th>\n",
       "    </tr>\n",
       "  </thead>\n",
       "  <tbody>\n",
       "    <tr>\n",
       "      <th>0</th>\n",
       "      <td>Christmas&amp;New Year Promo</td>\n",
       "      <td>EU, N.America</td>\n",
       "      <td>2020-12-25</td>\n",
       "      <td>2021-01-03</td>\n",
       "    </tr>\n",
       "  </tbody>\n",
       "</table>\n",
       "</div>"
      ],
      "text/plain": [
       "                       name        regions    start_dt   finish_dt\n",
       "0  Christmas&New Year Promo  EU, N.America  2020-12-25  2021-01-03"
      ]
     },
     "execution_count": 24,
     "metadata": {},
     "output_type": "execute_result"
    }
   ],
   "source": [
    "marketing_events[marketing_events['regions'].str.contains(\"EU\") & \n",
    "                 ((marketing_events['start_dt'] >= pd.to_datetime('2020-12-07')) &\n",
    "                 (marketing_events['start_dt'] <= pd.to_datetime('2021-01-04'))) |\n",
    "                 ((marketing_events['finish_dt'] >= pd.to_datetime('2020-12-07')) &\n",
    "                 (marketing_events['finish_dt'] <= pd.to_datetime('2021-01-04')))\n",
    "                  ]"
   ]
  },
  {
   "cell_type": "markdown",
   "metadata": {},
   "source": [
    "На время проведения теста приходится Christmas&New Year Promo в регионе EU. Так как мы пока не можем сказать, как эта акция влияла на группы пользователей, пока будем просто иметь в виду этот факт."
   ]
  },
  {
   "cell_type": "markdown",
   "metadata": {},
   "source": [
    "Проверим аудиторию теста. Конкурирующий тест удален нами ранее. Однако кто-то из пользователей мог участвовать одновременно  в обоих тестах. Проверим, есть ли такие."
   ]
  },
  {
   "cell_type": "code",
   "execution_count": 25,
   "metadata": {
    "scrolled": true
   },
   "outputs": [
    {
     "data": {
      "text/plain": [
       "1    15064\n",
       "2     1602\n",
       "Name: ab_test, dtype: int64"
      ]
     },
     "execution_count": 25,
     "metadata": {},
     "output_type": "execute_result"
    }
   ],
   "source": [
    "participants.groupby('user_id')['ab_test'].agg('nunique').reset_index()['ab_test'].value_counts()"
   ]
  },
  {
   "cell_type": "markdown",
   "metadata": {},
   "source": [
    "1602 пользователя участвовали одновременно в обоих тестах. Т.к. это существенная часть данных исследуемого теста (25%), удалять их нельзя. Однако, зафиксируем этот факт как нарушение условий проведения теста."
   ]
  },
  {
   "cell_type": "markdown",
   "metadata": {},
   "source": [
    "Теперь проверим наличие пользователей, попавших в две группы теста одновременно."
   ]
  },
  {
   "cell_type": "code",
   "execution_count": 26,
   "metadata": {
    "scrolled": true
   },
   "outputs": [
    {
     "data": {
      "text/plain": [
       "1    6351\n",
       "Name: group, dtype: int64"
      ]
     },
     "execution_count": 26,
     "metadata": {},
     "output_type": "execute_result"
    }
   ],
   "source": [
    "data.groupby('user_id')['group'].agg('nunique').reset_index()['group'].value_counts()"
   ]
  },
  {
   "cell_type": "markdown",
   "metadata": {},
   "source": [
    "Таких пользователей не обнаружено"
   ]
  },
  {
   "cell_type": "code",
   "execution_count": 27,
   "metadata": {},
   "outputs": [
    {
     "data": {
      "text/plain": [
       "login           10595\n",
       "product_page     6554\n",
       "purchase         3196\n",
       "product_cart     3075\n",
       "register         2870\n",
       "Name: event_name, dtype: int64"
      ]
     },
     "execution_count": 27,
     "metadata": {},
     "output_type": "execute_result"
    }
   ],
   "source": [
    "#добавляем к данным события по выбранным пользователям\n",
    "data_full = data.merge(users_events, on='user_id', how='left')\n",
    "#заполняем отсутствующие events предопределенным значением\n",
    "data_full['event_name'] = data_full.event_name.fillna('register')\n",
    "data_full.event_name.value_counts()"
   ]
  },
  {
   "cell_type": "markdown",
   "metadata": {},
   "source": [
    "По части пользователей отстутствуют события. Это может быть по двум причинам. \n",
    "1) Данные пользователи зарегистрировались, но ни разу не заходили на сайт под зарегистированным логином. Т.е. это потери в конверсии между регистрацией и первым логином. \n",
    "2) Это может быть ошибка в сборе данных (например, нам не дали всех логов, или для этой группы пользователей логи вообще не записывались). \n",
    "\n",
    "Проверим, как менялось количество пользователей в группах  по дням."
   ]
  },
  {
   "cell_type": "code",
   "execution_count": 28,
   "metadata": {},
   "outputs": [
    {
     "data": {
      "image/png": "[encoded data removed]",
      "text/plain": [
       "<Figure size 432x288 with 1 Axes>"
      ]
     },
     "metadata": {
      "needs_background": "light"
     },
     "output_type": "display_data"
    }
   ],
   "source": [
    "data_full['event_date'] = data_full['event_dt'].dt.date\n",
    "dataA = data_full.query('group == \"A\"')\n",
    "dataB = data_full.query('group == \"B\"')\n",
    "\n",
    "plt.plot(dataA.groupby('event_date')['user_id'].agg('nunique'), label='A')\n",
    "plt.plot(dataB.groupby('event_date')['user_id'].agg('nunique'), label='B')\n",
    "plt.legend()\n",
    "plt.xticks(rotation = '45')\n",
    "plt.title('Количество уникальных пользователей по датам')\n",
    "plt.ylabel('Количество событий')\n",
    "plt.xlabel('Дата')\n",
    "plt.show()"
   ]
  },
  {
   "cell_type": "code",
   "execution_count": 29,
   "metadata": {},
   "outputs": [
    {
     "name": "stdout",
     "output_type": "stream",
     "text": [
      "Всего пользователей  6351\n",
      "Пользователей без событий 0\n"
     ]
    }
   ],
   "source": [
    "print('Всего пользователей ', data_full.user_id.nunique())\n",
    "print('Пользователей без событий', data_full.query('event_name == \"not defined\"').user_id.nunique())"
   ]
  },
  {
   "cell_type": "markdown",
   "metadata": {},
   "source": [
    "Пользователей без событий - почти половина. При этом есть существенный всплеск по новым пользователям в середине теста в группе A. Это говорит в пользу второй версии - возможно, части данных недостает. Однако, выборка по по количеству пользователей идеально соответствует ТЗ (15% новых пользователей в EU). Поэтому, а также в связи с отсутствием верных данных будем рассматривать пользователей без событий как прошедших первый этап воронки событий - пользователь зарегистрировался, но ни разу не логинился."
   ]
  },
  {
   "cell_type": "markdown",
   "metadata": {},
   "source": [
    "Проверим равномерность распределения пользователей по тестовым группам."
   ]
  },
  {
   "cell_type": "code",
   "execution_count": 30,
   "metadata": {
    "scrolled": true
   },
   "outputs": [
    {
     "data": {
      "image/png": "[encoded data removed]",
      "text/plain": [
       "<Figure size 432x288 with 1 Axes>"
      ]
     },
     "metadata": {
      "needs_background": "light"
     },
     "output_type": "display_data"
    }
   ],
   "source": [
    "sb.barplot(x=data_full.group.value_counts().index, y=data_full.groupby('group')['user_id'].agg('nunique'))\n",
    "plt.title('Количество уникальных пользователей по группам')\n",
    "plt.show()"
   ]
  },
  {
   "cell_type": "markdown",
   "metadata": {},
   "source": [
    "По количеству уникальных пользователей отличие не критичное, хотя и наблюдается перекос."
   ]
  },
  {
   "cell_type": "markdown",
   "metadata": {},
   "source": [
    "## Исследовательский анализ данных"
   ]
  },
  {
   "cell_type": "code",
   "execution_count": 31,
   "metadata": {
    "scrolled": true
   },
   "outputs": [
    {
     "data": {
      "image/png": "[encoded data removed]",
      "text/plain": [
       "<Figure size 432x288 with 1 Axes>"
      ]
     },
     "metadata": {
      "needs_background": "light"
     },
     "output_type": "display_data"
    }
   ],
   "source": [
    "sb.barplot(x=data_full.group.value_counts().index, y=data_full.groupby('group')['user_id'].agg('count'))\n",
    "plt.title('Количество событий по группам')\n",
    "plt.show()"
   ]
  },
  {
   "cell_type": "markdown",
   "metadata": {},
   "source": [
    "По количеству событий очень сильное различие. Возможно, это обусловлено значимыми изменениями в воронке событий."
   ]
  },
  {
   "cell_type": "markdown",
   "metadata": {},
   "source": [
    "Взглянем, как число событий в выборках распределено по дням."
   ]
  },
  {
   "cell_type": "code",
   "execution_count": 32,
   "metadata": {},
   "outputs": [
    {
     "data": {
      "image/png": "[encoded data removed]",
      "text/plain": [
       "<Figure size 432x288 with 1 Axes>"
      ]
     },
     "metadata": {
      "needs_background": "light"
     },
     "output_type": "display_data"
    }
   ],
   "source": [
    "data_full['event_date'] = data_full['event_dt'].dt.date\n",
    "dataA = data_full.query('group == \"A\"')\n",
    "dataB = data_full.query('group == \"B\"')\n",
    "\n",
    "plt.plot(dataA.groupby('event_date')['event_name'].agg('count'), label='A')\n",
    "plt.plot(dataB.groupby('event_date')['event_name'].agg('count'), label='B')\n",
    "plt.legend()\n",
    "plt.xticks(rotation = '45')\n",
    "plt.title('Количество событий по датам')\n",
    "plt.ylabel('Количество событий')\n",
    "plt.xlabel('Дата')\n",
    "plt.show()"
   ]
  },
  {
   "cell_type": "markdown",
   "metadata": {},
   "source": [
    "Картина идентична той, что мы видели по уникальным пользователям. Резкий рост количества событий по одной из групп в середине теста. Также следует заметить, что начавшаяся 25 декабря маркетинговая акция не повлияла на тестовые группы - как по уникальным пользователям, так и по количеству событий."
   ]
  },
  {
   "cell_type": "markdown",
   "metadata": {},
   "source": [
    "Взглянем, как меняется конверсия в воронке в выборках на разных этапах."
   ]
  },
  {
   "cell_type": "code",
   "execution_count": 33,
   "metadata": {},
   "outputs": [
    {
     "data": {
      "text/html": [
       "<div>\n",
       "<style scoped>\n",
       "    .dataframe tbody tr th:only-of-type {\n",
       "        vertical-align: middle;\n",
       "    }\n",
       "\n",
       "    .dataframe tbody tr th {\n",
       "        vertical-align: top;\n",
       "    }\n",
       "\n",
       "    .dataframe thead th {\n",
       "        text-align: right;\n",
       "    }\n",
       "</style>\n",
       "<table border=\"1\" class=\"dataframe\">\n",
       "  <thead>\n",
       "    <tr style=\"text-align: right;\">\n",
       "      <th></th>\n",
       "      <th>event</th>\n",
       "      <th>users</th>\n",
       "      <th>perc_of_users</th>\n",
       "    </tr>\n",
       "  </thead>\n",
       "  <tbody>\n",
       "    <tr>\n",
       "      <th>0</th>\n",
       "      <td>login</td>\n",
       "      <td>2604</td>\n",
       "      <td>71.7</td>\n",
       "    </tr>\n",
       "    <tr>\n",
       "      <th>1</th>\n",
       "      <td>product_page</td>\n",
       "      <td>1685</td>\n",
       "      <td>46.4</td>\n",
       "    </tr>\n",
       "    <tr>\n",
       "      <th>2</th>\n",
       "      <td>register</td>\n",
       "      <td>1030</td>\n",
       "      <td>28.3</td>\n",
       "    </tr>\n",
       "    <tr>\n",
       "      <th>3</th>\n",
       "      <td>purchase</td>\n",
       "      <td>833</td>\n",
       "      <td>22.9</td>\n",
       "    </tr>\n",
       "    <tr>\n",
       "      <th>4</th>\n",
       "      <td>product_cart</td>\n",
       "      <td>782</td>\n",
       "      <td>21.5</td>\n",
       "    </tr>\n",
       "  </tbody>\n",
       "</table>\n",
       "</div>"
      ],
      "text/plain": [
       "          event  users  perc_of_users\n",
       "0         login   2604           71.7\n",
       "1  product_page   1685           46.4\n",
       "2      register   1030           28.3\n",
       "3      purchase    833           22.9\n",
       "4  product_cart    782           21.5"
      ]
     },
     "metadata": {},
     "output_type": "display_data"
    },
    {
     "data": {
      "text/html": [
       "<div>\n",
       "<style scoped>\n",
       "    .dataframe tbody tr th:only-of-type {\n",
       "        vertical-align: middle;\n",
       "    }\n",
       "\n",
       "    .dataframe tbody tr th {\n",
       "        vertical-align: top;\n",
       "    }\n",
       "\n",
       "    .dataframe thead th {\n",
       "        text-align: right;\n",
       "    }\n",
       "</style>\n",
       "<table border=\"1\" class=\"dataframe\">\n",
       "  <thead>\n",
       "    <tr style=\"text-align: right;\">\n",
       "      <th></th>\n",
       "      <th>event</th>\n",
       "      <th>users</th>\n",
       "      <th>perc_of_users</th>\n",
       "    </tr>\n",
       "  </thead>\n",
       "  <tbody>\n",
       "    <tr>\n",
       "      <th>0</th>\n",
       "      <td>register</td>\n",
       "      <td>1840</td>\n",
       "      <td>50.6</td>\n",
       "    </tr>\n",
       "    <tr>\n",
       "      <th>1</th>\n",
       "      <td>login</td>\n",
       "      <td>877</td>\n",
       "      <td>24.1</td>\n",
       "    </tr>\n",
       "    <tr>\n",
       "      <th>2</th>\n",
       "      <td>product_page</td>\n",
       "      <td>493</td>\n",
       "      <td>13.6</td>\n",
       "    </tr>\n",
       "    <tr>\n",
       "      <th>3</th>\n",
       "      <td>purchase</td>\n",
       "      <td>249</td>\n",
       "      <td>6.9</td>\n",
       "    </tr>\n",
       "    <tr>\n",
       "      <th>4</th>\n",
       "      <td>product_cart</td>\n",
       "      <td>244</td>\n",
       "      <td>6.7</td>\n",
       "    </tr>\n",
       "  </tbody>\n",
       "</table>\n",
       "</div>"
      ],
      "text/plain": [
       "          event  users  perc_of_users\n",
       "0      register   1840           50.6\n",
       "1         login    877           24.1\n",
       "2  product_page    493           13.6\n",
       "3      purchase    249            6.9\n",
       "4  product_cart    244            6.7"
      ]
     },
     "metadata": {},
     "output_type": "display_data"
    }
   ],
   "source": [
    "events_usersA = (\n",
    "dataA[['event_name', 'user_id']]\n",
    "    .groupby('event_name')\n",
    "    .agg({'user_id': 'nunique'})\n",
    "    .sort_values(by='user_id', ascending=False)\n",
    "    .reset_index()\n",
    ")\n",
    "events_usersA.columns = ['event', 'users']\n",
    "events_usersA['perc_of_users'] = round(events_usersA['users']/dataA['user_id'].nunique() * 100, 1)\n",
    "display(events_usersA)\n",
    "\n",
    "events_usersB = (\n",
    "dataB[['event_name', 'user_id']]\n",
    "    .groupby('event_name')\n",
    "    .agg({'user_id': 'nunique'})\n",
    "    .sort_values(by='user_id', ascending=False)\n",
    "    .reset_index()\n",
    ")\n",
    "events_usersB.columns = ['event', 'users']\n",
    "events_usersB['perc_of_users'] = round(events_usersB['users']/dataA['user_id'].nunique() * 100, 1)\n",
    "display(events_usersB)"
   ]
  },
  {
   "cell_type": "markdown",
   "metadata": {},
   "source": [
    "В группе В  более 50% пользователей не имеют событий, т.е. по нашему предположению не прошли дальше регистрации. В то же время в группе A таких пользователей 28%. Вообще это очень странно - от 28% до 50% пользователей регистрируются, чтобы не разу не зайти в систему. Либо мы имеем дело с техническими ошибками, когда вход затрудняется по каким-либо причинам, либо у нас серьезные искажения при сборе данных."
   ]
  },
  {
   "cell_type": "markdown",
   "metadata": {},
   "source": [
    "В таблице данных у нас есть поле device. Попробуем проанализировать его - возможно, ошибка проявляет себя лишь на одной из платформ."
   ]
  },
  {
   "cell_type": "code",
   "execution_count": 34,
   "metadata": {},
   "outputs": [
    {
     "data": {
      "text/html": [
       "<div>\n",
       "<style scoped>\n",
       "    .dataframe tbody tr th:only-of-type {\n",
       "        vertical-align: middle;\n",
       "    }\n",
       "\n",
       "    .dataframe tbody tr th {\n",
       "        vertical-align: top;\n",
       "    }\n",
       "\n",
       "    .dataframe thead tr th {\n",
       "        text-align: left;\n",
       "    }\n",
       "\n",
       "    .dataframe thead tr:last-of-type th {\n",
       "        text-align: right;\n",
       "    }\n",
       "</style>\n",
       "<table border=\"1\" class=\"dataframe\">\n",
       "  <thead>\n",
       "    <tr>\n",
       "      <th>device</th>\n",
       "      <th colspan=\"2\" halign=\"left\">Android</th>\n",
       "      <th colspan=\"2\" halign=\"left\">Mac</th>\n",
       "      <th colspan=\"2\" halign=\"left\">PC</th>\n",
       "      <th colspan=\"2\" halign=\"left\">iPhone</th>\n",
       "    </tr>\n",
       "    <tr>\n",
       "      <th>group</th>\n",
       "      <th>A</th>\n",
       "      <th>B</th>\n",
       "      <th>A</th>\n",
       "      <th>B</th>\n",
       "      <th>A</th>\n",
       "      <th>B</th>\n",
       "      <th>A</th>\n",
       "      <th>B</th>\n",
       "    </tr>\n",
       "    <tr>\n",
       "      <th>event_name</th>\n",
       "      <th></th>\n",
       "      <th></th>\n",
       "      <th></th>\n",
       "      <th></th>\n",
       "      <th></th>\n",
       "      <th></th>\n",
       "      <th></th>\n",
       "      <th></th>\n",
       "    </tr>\n",
       "  </thead>\n",
       "  <tbody>\n",
       "    <tr>\n",
       "      <th>login</th>\n",
       "      <td>1139</td>\n",
       "      <td>405</td>\n",
       "      <td>255</td>\n",
       "      <td>74</td>\n",
       "      <td>689</td>\n",
       "      <td>212</td>\n",
       "      <td>521</td>\n",
       "      <td>186</td>\n",
       "    </tr>\n",
       "    <tr>\n",
       "      <th>product_cart</th>\n",
       "      <td>347</td>\n",
       "      <td>109</td>\n",
       "      <td>81</td>\n",
       "      <td>20</td>\n",
       "      <td>192</td>\n",
       "      <td>56</td>\n",
       "      <td>162</td>\n",
       "      <td>59</td>\n",
       "    </tr>\n",
       "    <tr>\n",
       "      <th>product_page</th>\n",
       "      <td>723</td>\n",
       "      <td>233</td>\n",
       "      <td>172</td>\n",
       "      <td>47</td>\n",
       "      <td>450</td>\n",
       "      <td>111</td>\n",
       "      <td>340</td>\n",
       "      <td>102</td>\n",
       "    </tr>\n",
       "    <tr>\n",
       "      <th>purchase</th>\n",
       "      <td>358</td>\n",
       "      <td>115</td>\n",
       "      <td>94</td>\n",
       "      <td>22</td>\n",
       "      <td>215</td>\n",
       "      <td>58</td>\n",
       "      <td>166</td>\n",
       "      <td>54</td>\n",
       "    </tr>\n",
       "    <tr>\n",
       "      <th>register</th>\n",
       "      <td>451</td>\n",
       "      <td>823</td>\n",
       "      <td>99</td>\n",
       "      <td>176</td>\n",
       "      <td>275</td>\n",
       "      <td>445</td>\n",
       "      <td>205</td>\n",
       "      <td>396</td>\n",
       "    </tr>\n",
       "  </tbody>\n",
       "</table>\n",
       "</div>"
      ],
      "text/plain": [
       "device       Android       Mac        PC      iPhone     \n",
       "group              A    B    A    B    A    B      A    B\n",
       "event_name                                               \n",
       "login           1139  405  255   74  689  212    521  186\n",
       "product_cart     347  109   81   20  192   56    162   59\n",
       "product_page     723  233  172   47  450  111    340  102\n",
       "purchase         358  115   94   22  215   58    166   54\n",
       "register         451  823   99  176  275  445    205  396"
      ]
     },
     "execution_count": 34,
     "metadata": {},
     "output_type": "execute_result"
    }
   ],
   "source": [
    "data_full.pivot_table(index='event_name', columns=['device', 'group'], values='user_id', aggfunc='nunique')"
   ]
  },
  {
   "cell_type": "markdown",
   "metadata": {},
   "source": [
    "Нет, предположение не подтвердилось. Мы наблюдаем странное поведение пользователей на всех платформах."
   ]
  },
  {
   "cell_type": "markdown",
   "metadata": {},
   "source": [
    "Перечислим проблемы проведенного теста, которые следует учитывать при попытке интерпретации результата:\n",
    "* тест остановлен ранее плановой даты, а он предполагал расчет метрик по пользователям на 14 день пользования сервисом. Или ресурс имеет крайне низкое удержание пользователей - они просто перестали пользоваться сервисом до наступления конечной даты теста.\n",
    "* существует значительный перекос в количестве событий между группами, однако это могло быть вызвано полученными изменениями в конверсии\n",
    "* существует небольшой перекос в количестве уникальных пользователей в группах\n",
    "* значительная часть пользователей, участвующих в тесте - от трети до половины - не имеет событий в логах\n",
    "* некоторая часть пользователей одновременно участвовала в двух AB-тестах, про технические особенности тестов и возможности их пересечения ничего не известно\n",
    "* в период проведения теста попадает рожденственская рекламная акция"
   ]
  },
  {
   "cell_type": "markdown",
   "metadata": {},
   "source": [
    "## Оценка результатов AB-тестирования"
   ]
  },
  {
   "cell_type": "markdown",
   "metadata": {},
   "source": [
    "Для оценки проведенного теста ожидаемым эффектом из ТЗ произведем дополнительные вычисления:\n",
    "* Для каждого события рассчитаем срок его возникновения от момента регистрации пользователя;\n",
    "* Отфильтруем только события, которые произошли в первые 14 дней в соотвествии с ТЗ"
   ]
  },
  {
   "cell_type": "code",
   "execution_count": 35,
   "metadata": {},
   "outputs": [],
   "source": [
    "data_full['lifetime'] = data_full['event_date'] - data_full['first_date']\n",
    "data_14_days = data_full[data_full['lifetime'] <= pd.to_timedelta(14, unit='D')]"
   ]
  },
  {
   "cell_type": "code",
   "execution_count": 36,
   "metadata": {},
   "outputs": [
    {
     "data": {
      "text/html": [
       "<div>\n",
       "<style scoped>\n",
       "    .dataframe tbody tr th:only-of-type {\n",
       "        vertical-align: middle;\n",
       "    }\n",
       "\n",
       "    .dataframe tbody tr th {\n",
       "        vertical-align: top;\n",
       "    }\n",
       "\n",
       "    .dataframe thead th {\n",
       "        text-align: right;\n",
       "    }\n",
       "</style>\n",
       "<table border=\"1\" class=\"dataframe\">\n",
       "  <thead>\n",
       "    <tr style=\"text-align: right;\">\n",
       "      <th>group</th>\n",
       "      <th>event_name</th>\n",
       "      <th>A</th>\n",
       "      <th>B</th>\n",
       "    </tr>\n",
       "  </thead>\n",
       "  <tbody>\n",
       "    <tr>\n",
       "      <th>0</th>\n",
       "      <td>product_cart</td>\n",
       "      <td>782</td>\n",
       "      <td>244</td>\n",
       "    </tr>\n",
       "    <tr>\n",
       "      <th>1</th>\n",
       "      <td>product_page</td>\n",
       "      <td>1685</td>\n",
       "      <td>493</td>\n",
       "    </tr>\n",
       "    <tr>\n",
       "      <th>2</th>\n",
       "      <td>purchase</td>\n",
       "      <td>833</td>\n",
       "      <td>249</td>\n",
       "    </tr>\n",
       "  </tbody>\n",
       "</table>\n",
       "</div>"
      ],
      "text/plain": [
       "group    event_name     A    B\n",
       "0      product_cart   782  244\n",
       "1      product_page  1685  493\n",
       "2          purchase   833  249"
      ]
     },
     "metadata": {},
     "output_type": "display_data"
    }
   ],
   "source": [
    "#Фильтруем данные оставляя только события из ТЗ\n",
    "events = ['product_page', 'product_cart', 'purchase']\n",
    "data_14_days = data_14_days.query('event_name in @events')\n",
    "#Группируем данные в разрезах событий и групп (уникальные пользователи)\n",
    "result = data_14_days.pivot_table(index='event_name', columns='group', values='user_id', aggfunc='nunique').reset_index()\n",
    "display(result)"
   ]
  },
  {
   "cell_type": "markdown",
   "metadata": {},
   "source": [
    "Здесь мы видим еще один интересный факт - покупка возможна без добавления в корзину (количество пользователей по событиям покупок выше в обоих группах)"
   ]
  },
  {
   "cell_type": "markdown",
   "metadata": {},
   "source": [
    "Рассчитываем общее количество пользователей, конверсию которых мы будем сравнивать."
   ]
  },
  {
   "cell_type": "code",
   "execution_count": 37,
   "metadata": {},
   "outputs": [
    {
     "name": "stdout",
     "output_type": "stream",
     "text": [
      "база для группы А 3634\n",
      "база для группы B 2717\n"
     ]
    },
    {
     "data": {
      "text/html": [
       "<div>\n",
       "<style scoped>\n",
       "    .dataframe tbody tr th:only-of-type {\n",
       "        vertical-align: middle;\n",
       "    }\n",
       "\n",
       "    .dataframe tbody tr th {\n",
       "        vertical-align: top;\n",
       "    }\n",
       "\n",
       "    .dataframe thead th {\n",
       "        text-align: right;\n",
       "    }\n",
       "</style>\n",
       "<table border=\"1\" class=\"dataframe\">\n",
       "  <thead>\n",
       "    <tr style=\"text-align: right;\">\n",
       "      <th>group</th>\n",
       "      <th>event_name</th>\n",
       "      <th>A</th>\n",
       "      <th>B</th>\n",
       "      <th>conversionA</th>\n",
       "      <th>conversionB</th>\n",
       "      <th>absolute</th>\n",
       "      <th>relative</th>\n",
       "    </tr>\n",
       "  </thead>\n",
       "  <tbody>\n",
       "    <tr>\n",
       "      <th>0</th>\n",
       "      <td>product_cart</td>\n",
       "      <td>782</td>\n",
       "      <td>244</td>\n",
       "      <td>0.215190</td>\n",
       "      <td>0.067144</td>\n",
       "      <td>-0.148046</td>\n",
       "      <td>-0.69</td>\n",
       "    </tr>\n",
       "    <tr>\n",
       "      <th>1</th>\n",
       "      <td>product_page</td>\n",
       "      <td>1685</td>\n",
       "      <td>493</td>\n",
       "      <td>0.463676</td>\n",
       "      <td>0.135663</td>\n",
       "      <td>-0.328013</td>\n",
       "      <td>-0.71</td>\n",
       "    </tr>\n",
       "    <tr>\n",
       "      <th>2</th>\n",
       "      <td>purchase</td>\n",
       "      <td>833</td>\n",
       "      <td>249</td>\n",
       "      <td>0.229224</td>\n",
       "      <td>0.068520</td>\n",
       "      <td>-0.160704</td>\n",
       "      <td>-0.70</td>\n",
       "    </tr>\n",
       "  </tbody>\n",
       "</table>\n",
       "</div>"
      ],
      "text/plain": [
       "group    event_name     A    B  conversionA  conversionB  absolute  relative\n",
       "0      product_cart   782  244     0.215190     0.067144 -0.148046     -0.69\n",
       "1      product_page  1685  493     0.463676     0.135663 -0.328013     -0.71\n",
       "2          purchase   833  249     0.229224     0.068520 -0.160704     -0.70"
      ]
     },
     "metadata": {},
     "output_type": "display_data"
    }
   ],
   "source": [
    "usersA = data_full.query('group == \"A\"')['user_id'].nunique()\n",
    "usersB = data_full.query('group == \"B\"')['user_id'].nunique()\n",
    "print('база для группы А', usersA)\n",
    "print('база для группы B', usersB)\n",
    "#Делим на общее количество пользователей по группам для расчета конверсии\n",
    "result['conversionA'] = result['A'] / usersA\n",
    "result['conversionB'] = result['B'] / usersA\n",
    "#Считаем абсолютные и относительные отклонения\n",
    "result['absolute'] = result['conversionB'] - result['conversionA']\n",
    "result['relative'] = round(result['absolute'] / result['conversionA'], 2)\n",
    "display(result)"
   ]
  },
  {
   "cell_type": "markdown",
   "metadata": {},
   "source": [
    "### Промежуточный вывод\n",
    "Результат теста - прямо противоположный задуманному. Конверсия в указанные события не только не выросла, но и существенно уменьшилась."
   ]
  },
  {
   "cell_type": "markdown",
   "metadata": {},
   "source": [
    "Проверим статистическую разницу долей z-критерием"
   ]
  },
  {
   "cell_type": "code",
   "execution_count": 38,
   "metadata": {},
   "outputs": [],
   "source": [
    "#создаем функцию для проверки гипотез по z-value\n",
    "#на вход передаем пары значений с результатами теста\n",
    "#функция возвращает p-value\n",
    "def check_stats(col1, col2):\n",
    "    successes = np.array([col1[0], col2[0]])\n",
    "    trials = np.array([col1[1], col2[1]])\n",
    "\n",
    "    # пропорция успехов в первой группе:\n",
    "    p1 = successes[0]/trials[0]\n",
    "    # пропорция успехов во второй группе:\n",
    "    p2 = successes[1]/trials[1]\n",
    "    # пропорция успехов в комбинированном датасете:\n",
    "    p_combined = (successes[0] + successes[1]) / (trials[0] + trials[1])\n",
    "    # разница пропорций в датасетах\n",
    "    difference = p1 - p2 \n",
    "    # считаем статистику в ст.отклонениях стандартного нормального распределения\n",
    "    z_value = difference / math.sqrt(\n",
    "        p_combined * (1 - p_combined) * (1 / trials[0] + 1 / trials[1])\n",
    "    )\n",
    "    # задаем стандартное нормальное распределение (среднее 0, ст.отклонение 1)\n",
    "    distr = stats.norm(0, 1)\n",
    "    p_value = (1 - distr.cdf(abs(z_value))) * 2\n",
    "\n",
    "    return p_value"
   ]
  },
  {
   "cell_type": "markdown",
   "metadata": {},
   "source": [
    "Проверим нулевую гипотезу - конверсия уникальных пользователей из события регистрации в интересующие нас события в группах A и B не отличается. Альтернативная гипотеза - они различаются. Будем использовать созданную функцию в цикле."
   ]
  },
  {
   "cell_type": "code",
   "execution_count": 39,
   "metadata": {},
   "outputs": [
    {
     "name": "stdout",
     "output_type": "stream",
     "text": [
      "product_cart  p-значение:  0.0\n",
      "Отвергаем нулевую гипотезу: между долями есть значимая разница\n",
      "product_page  p-значение:  0.0\n",
      "Отвергаем нулевую гипотезу: между долями есть значимая разница\n",
      "purchase  p-значение:  0.0\n",
      "Отвергаем нулевую гипотезу: между долями есть значимая разница\n"
     ]
    }
   ],
   "source": [
    "alpha = .05\n",
    "for i, row in result.iterrows():\n",
    "    p_value = check_stats([row['A'], usersA], [row['B'], usersB])\n",
    "    print(row['event_name'], ' p-значение: ', p_value)\n",
    "    if p_value < alpha:\n",
    "        print('Отвергаем нулевую гипотезу: между долями есть значимая разница')\n",
    "    else:\n",
    "        print('Не получилось отвергнуть нулевую гипотезу, нет оснований считать доли разными') "
   ]
  },
  {
   "cell_type": "markdown",
   "metadata": {},
   "source": [
    "Т.к. мы тестировали несколько гипотез (A/B для трех событий), мы имеем дело с множественным тестом. При его проведении с каждой новой гипотезой возрастает вероятность появления ошибки первого рода (нулевая гипотеза неверно отвергнута).\n",
    "\n",
    "Для подтверждения результата используем поправку Бонферрони.\n",
    "\n",
    "Полученный p-value близок к нулю, поэтому здесь поправка ничего не изменит. Однако, рассчитаем ее значение и интерпретируем результат.\n",
    "\n",
    "При уровне значимости 0.05 и n=3 поправка равна 0.5/3 = 0.0167. При данном уровне значимости все наши нулевые гипотезы отвергаются.\n",
    "\n",
    "При уровне значимости 0.1 поправка составляет 0.033. При данном уровне значимости все наши нулевые гипотезы также отвергаются."
   ]
  },
  {
   "cell_type": "markdown",
   "metadata": {},
   "source": [
    "## Выводы"
   ]
  },
  {
   "cell_type": "markdown",
   "metadata": {},
   "source": [
    "В данных теста обнаружено большое количество аномалий. Однако, без понимания технической стороны комплектования групп пользователей теста, мы можем лишь косвенно оценивать эти аномалии.\n",
    "\n",
    "В целом, данные логов подтверждены техническим заданием. Если заказчик уверяет, что они верны и не содержат технических ошибок, мы можем однозначно интерпретировать результат.\n",
    "\n",
    "В группе В получено статистически значимое уменьшение конверсии пользователей в события, регламентированные ТЗ, вопреки ожидаемому повышению. При условии допущений, изложенных выше, тест можно считать состоявшимся. Ожидаемых улучшений в тестовой группе не произошло."
   ]
  }
 ],
 "metadata": {
  "ExecuteTimeLog": [
   {
    "duration": 1421,
    "start_time": "2022-07-06T06:38:05.832Z"
   },
   {
    "duration": 910,
    "start_time": "2022-07-06T06:38:07.256Z"
   },
   {
    "duration": 76,
    "start_time": "2022-07-06T06:38:08.167Z"
   },
   {
    "duration": 13,
    "start_time": "2022-07-06T06:38:08.244Z"
   },
   {
    "duration": 13,
    "start_time": "2022-07-06T06:38:08.260Z"
   },
   {
    "duration": 13,
    "start_time": "2022-07-06T06:38:08.275Z"
   },
   {
    "duration": 214,
    "start_time": "2022-07-06T06:38:08.290Z"
   },
   {
    "duration": 158,
    "start_time": "2022-07-06T06:38:08.506Z"
   },
   {
    "duration": 34,
    "start_time": "2022-07-06T06:38:08.666Z"
   },
   {
    "duration": 44,
    "start_time": "2022-07-06T06:38:08.702Z"
   },
   {
    "duration": 35,
    "start_time": "2022-07-06T06:38:08.748Z"
   },
   {
    "duration": 9,
    "start_time": "2022-07-06T06:38:08.785Z"
   },
   {
    "duration": 30,
    "start_time": "2022-07-06T06:38:08.796Z"
   },
   {
    "duration": 12,
    "start_time": "2022-07-06T06:38:08.830Z"
   },
   {
    "duration": 13,
    "start_time": "2022-07-06T06:38:08.844Z"
   },
   {
    "duration": 10,
    "start_time": "2022-07-06T06:38:08.859Z"
   },
   {
    "duration": 9,
    "start_time": "2022-07-06T06:38:08.870Z"
   },
   {
    "duration": 8,
    "start_time": "2022-07-06T06:38:08.880Z"
   },
   {
    "duration": 8,
    "start_time": "2022-07-06T06:38:08.890Z"
   },
   {
    "duration": 28,
    "start_time": "2022-07-06T06:38:08.899Z"
   },
   {
    "duration": 477,
    "start_time": "2022-07-06T06:38:08.929Z"
   },
   {
    "duration": 5,
    "start_time": "2022-07-06T06:38:09.408Z"
   },
   {
    "duration": 5,
    "start_time": "2022-07-06T06:38:09.423Z"
   },
   {
    "duration": 5,
    "start_time": "2022-07-06T06:38:09.429Z"
   },
   {
    "duration": 246,
    "start_time": "2022-07-06T06:38:09.436Z"
   },
   {
    "duration": 215,
    "start_time": "2022-07-06T06:38:09.684Z"
   },
   {
    "duration": 291,
    "start_time": "2022-07-06T06:38:09.901Z"
   },
   {
    "duration": 5,
    "start_time": "2022-07-06T06:38:10.193Z"
   },
   {
    "duration": 32,
    "start_time": "2022-07-06T06:38:10.200Z"
   },
   {
    "duration": 260,
    "start_time": "2022-07-06T06:38:10.234Z"
   },
   {
    "duration": 4,
    "start_time": "2022-07-06T06:38:10.496Z"
   },
   {
    "duration": 38,
    "start_time": "2022-07-06T06:38:10.501Z"
   },
   {
    "duration": 3,
    "start_time": "2022-07-06T06:38:10.541Z"
   },
   {
    "duration": 1497,
    "start_time": "2022-07-06T06:38:10.545Z"
   },
   {
    "duration": 1915,
    "start_time": "2022-07-06T06:38:12.043Z"
   },
   {
    "duration": 1928,
    "start_time": "2022-07-06T06:38:13.960Z"
   },
   {
    "duration": 2604,
    "start_time": "2022-07-06T06:38:15.889Z"
   },
   {
    "duration": 2762,
    "start_time": "2022-07-06T06:38:18.495Z"
   },
   {
    "duration": 1448,
    "start_time": "2022-07-06T06:38:21.259Z"
   },
   {
    "duration": 1454,
    "start_time": "2022-07-06T06:38:22.709Z"
   },
   {
    "duration": 1990,
    "start_time": "2022-07-06T06:38:24.166Z"
   },
   {
    "duration": 5,
    "start_time": "2022-07-06T06:40:41.419Z"
   },
   {
    "duration": 256,
    "start_time": "2022-07-06T06:40:42.013Z"
   },
   {
    "duration": 215,
    "start_time": "2022-07-06T06:40:42.645Z"
   },
   {
    "duration": 264,
    "start_time": "2022-07-06T06:40:43.970Z"
   },
   {
    "duration": 9,
    "start_time": "2022-07-06T06:41:04.421Z"
   },
   {
    "duration": 236,
    "start_time": "2022-07-06T06:41:04.677Z"
   },
   {
    "duration": 218,
    "start_time": "2022-07-06T06:41:05.228Z"
   },
   {
    "duration": 399,
    "start_time": "2022-07-06T06:41:05.770Z"
   },
   {
    "duration": 1123,
    "start_time": "2022-07-09T07:16:11.851Z"
   },
   {
    "duration": 638,
    "start_time": "2022-07-09T07:16:12.976Z"
   },
   {
    "duration": 66,
    "start_time": "2022-07-09T07:16:13.616Z"
   },
   {
    "duration": 11,
    "start_time": "2022-07-09T07:16:13.684Z"
   },
   {
    "duration": 11,
    "start_time": "2022-07-09T07:16:13.697Z"
   },
   {
    "duration": 11,
    "start_time": "2022-07-09T07:16:13.709Z"
   },
   {
    "duration": 177,
    "start_time": "2022-07-09T07:16:13.722Z"
   },
   {
    "duration": 139,
    "start_time": "2022-07-09T07:16:13.901Z"
   },
   {
    "duration": 34,
    "start_time": "2022-07-09T07:16:14.042Z"
   },
   {
    "duration": 30,
    "start_time": "2022-07-09T07:16:14.078Z"
   },
   {
    "duration": 61,
    "start_time": "2022-07-09T07:16:14.110Z"
   },
   {
    "duration": 8,
    "start_time": "2022-07-09T07:16:14.173Z"
   },
   {
    "duration": 7,
    "start_time": "2022-07-09T07:16:14.183Z"
   },
   {
    "duration": 8,
    "start_time": "2022-07-09T07:16:14.192Z"
   },
   {
    "duration": 11,
    "start_time": "2022-07-09T07:16:14.202Z"
   },
   {
    "duration": 10,
    "start_time": "2022-07-09T07:16:14.215Z"
   },
   {
    "duration": 11,
    "start_time": "2022-07-09T07:16:14.227Z"
   },
   {
    "duration": 28,
    "start_time": "2022-07-09T07:16:14.239Z"
   },
   {
    "duration": 9,
    "start_time": "2022-07-09T07:16:14.269Z"
   },
   {
    "duration": 12,
    "start_time": "2022-07-09T07:16:14.279Z"
   },
   {
    "duration": 467,
    "start_time": "2022-07-09T07:16:14.293Z"
   },
   {
    "duration": 5,
    "start_time": "2022-07-09T07:16:14.762Z"
   },
   {
    "duration": 8,
    "start_time": "2022-07-09T07:16:14.768Z"
   },
   {
    "duration": 7,
    "start_time": "2022-07-09T07:16:14.778Z"
   },
   {
    "duration": 238,
    "start_time": "2022-07-09T07:16:14.786Z"
   },
   {
    "duration": 218,
    "start_time": "2022-07-09T07:16:15.025Z"
   },
   {
    "duration": 273,
    "start_time": "2022-07-09T07:16:15.244Z"
   },
   {
    "duration": 4,
    "start_time": "2022-07-09T07:16:15.520Z"
   },
   {
    "duration": 34,
    "start_time": "2022-07-09T07:16:15.526Z"
   },
   {
    "duration": 266,
    "start_time": "2022-07-09T07:16:15.562Z"
   },
   {
    "duration": 312,
    "start_time": "2022-07-09T07:16:15.830Z"
   },
   {
    "duration": 5,
    "start_time": "2022-07-09T07:16:16.144Z"
   },
   {
    "duration": 24,
    "start_time": "2022-07-09T07:16:16.161Z"
   },
   {
    "duration": 14,
    "start_time": "2022-07-09T07:16:16.189Z"
   },
   {
    "duration": 1623,
    "start_time": "2022-07-09T07:16:16.207Z"
   },
   {
    "duration": 70,
    "start_time": "2022-07-09T07:16:17.832Z"
   },
   {
    "duration": 0,
    "start_time": "2022-07-09T07:16:17.903Z"
   },
   {
    "duration": 0,
    "start_time": "2022-07-09T07:16:17.905Z"
   },
   {
    "duration": 0,
    "start_time": "2022-07-09T07:16:17.906Z"
   },
   {
    "duration": 0,
    "start_time": "2022-07-09T07:16:17.907Z"
   },
   {
    "duration": 0,
    "start_time": "2022-07-09T07:16:17.908Z"
   },
   {
    "duration": 0,
    "start_time": "2022-07-09T07:16:17.909Z"
   },
   {
    "duration": 0,
    "start_time": "2022-07-09T07:16:17.910Z"
   },
   {
    "duration": 0,
    "start_time": "2022-07-09T07:16:17.911Z"
   },
   {
    "duration": 0,
    "start_time": "2022-07-09T07:16:17.912Z"
   },
   {
    "duration": 1069,
    "start_time": "2022-07-09T07:20:33.788Z"
   },
   {
    "duration": 1134,
    "start_time": "2022-07-09T07:20:34.858Z"
   },
   {
    "duration": 107,
    "start_time": "2022-07-09T07:20:35.996Z"
   },
   {
    "duration": 12,
    "start_time": "2022-07-09T07:20:36.160Z"
   },
   {
    "duration": 18,
    "start_time": "2022-07-09T07:20:36.174Z"
   },
   {
    "duration": 19,
    "start_time": "2022-07-09T07:20:36.195Z"
   },
   {
    "duration": 466,
    "start_time": "2022-07-09T07:20:36.216Z"
   },
   {
    "duration": 174,
    "start_time": "2022-07-09T07:20:36.684Z"
   },
   {
    "duration": 27,
    "start_time": "2022-07-09T07:20:36.862Z"
   },
   {
    "duration": 31,
    "start_time": "2022-07-09T07:20:36.891Z"
   },
   {
    "duration": 42,
    "start_time": "2022-07-09T07:20:36.924Z"
   },
   {
    "duration": 7,
    "start_time": "2022-07-09T07:20:36.968Z"
   },
   {
    "duration": 7,
    "start_time": "2022-07-09T07:20:36.977Z"
   },
   {
    "duration": 9,
    "start_time": "2022-07-09T07:20:36.986Z"
   },
   {
    "duration": 9,
    "start_time": "2022-07-09T07:20:36.997Z"
   },
   {
    "duration": 9,
    "start_time": "2022-07-09T07:20:37.007Z"
   },
   {
    "duration": 7,
    "start_time": "2022-07-09T07:20:37.018Z"
   },
   {
    "duration": 8,
    "start_time": "2022-07-09T07:20:37.026Z"
   },
   {
    "duration": 6,
    "start_time": "2022-07-09T07:20:37.061Z"
   },
   {
    "duration": 10,
    "start_time": "2022-07-09T07:20:37.068Z"
   },
   {
    "duration": 467,
    "start_time": "2022-07-09T07:20:37.079Z"
   },
   {
    "duration": 13,
    "start_time": "2022-07-09T07:20:37.548Z"
   },
   {
    "duration": 4,
    "start_time": "2022-07-09T07:20:37.562Z"
   },
   {
    "duration": 6,
    "start_time": "2022-07-09T07:20:37.568Z"
   },
   {
    "duration": 243,
    "start_time": "2022-07-09T07:20:37.576Z"
   },
   {
    "duration": 209,
    "start_time": "2022-07-09T07:20:37.821Z"
   },
   {
    "duration": 290,
    "start_time": "2022-07-09T07:20:38.033Z"
   },
   {
    "duration": 4,
    "start_time": "2022-07-09T07:20:38.325Z"
   },
   {
    "duration": 33,
    "start_time": "2022-07-09T07:20:38.331Z"
   },
   {
    "duration": 263,
    "start_time": "2022-07-09T07:20:38.366Z"
   },
   {
    "duration": 371,
    "start_time": "2022-07-09T07:20:38.631Z"
   },
   {
    "duration": 4,
    "start_time": "2022-07-09T07:20:39.004Z"
   },
   {
    "duration": 27,
    "start_time": "2022-07-09T07:20:39.010Z"
   },
   {
    "duration": 3,
    "start_time": "2022-07-09T07:20:39.039Z"
   },
   {
    "duration": 1554,
    "start_time": "2022-07-09T07:20:39.060Z"
   },
   {
    "duration": 77,
    "start_time": "2022-07-09T07:20:40.616Z"
   },
   {
    "duration": 1,
    "start_time": "2022-07-09T07:20:40.695Z"
   },
   {
    "duration": 0,
    "start_time": "2022-07-09T07:20:40.697Z"
   },
   {
    "duration": 1,
    "start_time": "2022-07-09T07:20:40.698Z"
   },
   {
    "duration": 0,
    "start_time": "2022-07-09T07:20:40.700Z"
   },
   {
    "duration": 0,
    "start_time": "2022-07-09T07:20:40.702Z"
   },
   {
    "duration": 0,
    "start_time": "2022-07-09T07:20:40.703Z"
   },
   {
    "duration": 0,
    "start_time": "2022-07-09T07:20:40.704Z"
   },
   {
    "duration": 0,
    "start_time": "2022-07-09T07:20:40.705Z"
   },
   {
    "duration": 0,
    "start_time": "2022-07-09T07:20:40.706Z"
   },
   {
    "duration": 1625,
    "start_time": "2022-07-09T07:21:02.512Z"
   },
   {
    "duration": 1664,
    "start_time": "2022-07-09T07:21:19.228Z"
   },
   {
    "duration": 857,
    "start_time": "2022-07-09T07:21:20.894Z"
   },
   {
    "duration": 74,
    "start_time": "2022-07-09T07:21:21.753Z"
   },
   {
    "duration": 16,
    "start_time": "2022-07-09T07:21:21.829Z"
   },
   {
    "duration": 24,
    "start_time": "2022-07-09T07:21:21.847Z"
   },
   {
    "duration": 16,
    "start_time": "2022-07-09T07:21:21.873Z"
   },
   {
    "duration": 186,
    "start_time": "2022-07-09T07:21:21.890Z"
   },
   {
    "duration": 134,
    "start_time": "2022-07-09T07:21:22.078Z"
   },
   {
    "duration": 29,
    "start_time": "2022-07-09T07:21:22.213Z"
   },
   {
    "duration": 28,
    "start_time": "2022-07-09T07:21:22.260Z"
   },
   {
    "duration": 33,
    "start_time": "2022-07-09T07:21:22.290Z"
   },
   {
    "duration": 7,
    "start_time": "2022-07-09T07:21:22.325Z"
   },
   {
    "duration": 7,
    "start_time": "2022-07-09T07:21:22.334Z"
   },
   {
    "duration": 20,
    "start_time": "2022-07-09T07:21:22.342Z"
   },
   {
    "duration": 11,
    "start_time": "2022-07-09T07:21:22.364Z"
   },
   {
    "duration": 9,
    "start_time": "2022-07-09T07:21:22.377Z"
   },
   {
    "duration": 7,
    "start_time": "2022-07-09T07:21:22.387Z"
   },
   {
    "duration": 8,
    "start_time": "2022-07-09T07:21:22.396Z"
   },
   {
    "duration": 8,
    "start_time": "2022-07-09T07:21:22.405Z"
   },
   {
    "duration": 9,
    "start_time": "2022-07-09T07:21:22.415Z"
   },
   {
    "duration": 464,
    "start_time": "2022-07-09T07:21:22.426Z"
   },
   {
    "duration": 5,
    "start_time": "2022-07-09T07:21:22.891Z"
   },
   {
    "duration": 6,
    "start_time": "2022-07-09T07:21:22.898Z"
   },
   {
    "duration": 5,
    "start_time": "2022-07-09T07:21:22.906Z"
   },
   {
    "duration": 231,
    "start_time": "2022-07-09T07:21:22.913Z"
   },
   {
    "duration": 198,
    "start_time": "2022-07-09T07:21:23.146Z"
   },
   {
    "duration": 252,
    "start_time": "2022-07-09T07:21:23.345Z"
   },
   {
    "duration": 4,
    "start_time": "2022-07-09T07:21:23.601Z"
   },
   {
    "duration": 15,
    "start_time": "2022-07-09T07:21:23.607Z"
   },
   {
    "duration": 267,
    "start_time": "2022-07-09T07:21:23.624Z"
   },
   {
    "duration": 278,
    "start_time": "2022-07-09T07:21:23.894Z"
   },
   {
    "duration": 6,
    "start_time": "2022-07-09T07:21:24.173Z"
   },
   {
    "duration": 25,
    "start_time": "2022-07-09T07:21:24.181Z"
   },
   {
    "duration": 2,
    "start_time": "2022-07-09T07:21:24.208Z"
   },
   {
    "duration": 1437,
    "start_time": "2022-07-09T07:21:24.212Z"
   },
   {
    "duration": 1685,
    "start_time": "2022-07-09T07:21:25.652Z"
   },
   {
    "duration": 1724,
    "start_time": "2022-07-09T07:21:27.338Z"
   },
   {
    "duration": 1817,
    "start_time": "2022-07-09T07:21:29.072Z"
   },
   {
    "duration": 2537,
    "start_time": "2022-07-09T07:21:30.891Z"
   },
   {
    "duration": 1851,
    "start_time": "2022-07-09T07:21:33.430Z"
   },
   {
    "duration": 1901,
    "start_time": "2022-07-09T07:21:35.283Z"
   },
   {
    "duration": 2594,
    "start_time": "2022-07-09T07:21:37.186Z"
   },
   {
    "duration": 1437,
    "start_time": "2022-07-09T07:21:39.782Z"
   },
   {
    "duration": 1356,
    "start_time": "2022-07-09T07:21:41.221Z"
   },
   {
    "duration": 1788,
    "start_time": "2022-07-09T07:21:42.579Z"
   },
   {
    "duration": 5,
    "start_time": "2022-07-09T11:42:10.719Z"
   },
   {
    "duration": 3,
    "start_time": "2022-07-09T11:43:16.150Z"
   },
   {
    "duration": 580,
    "start_time": "2022-07-09T11:43:16.171Z"
   },
   {
    "duration": 51,
    "start_time": "2022-07-09T11:43:16.753Z"
   },
   {
    "duration": 10,
    "start_time": "2022-07-09T11:43:16.806Z"
   },
   {
    "duration": 9,
    "start_time": "2022-07-09T11:43:16.817Z"
   },
   {
    "duration": 24,
    "start_time": "2022-07-09T11:43:16.828Z"
   },
   {
    "duration": 168,
    "start_time": "2022-07-09T11:43:16.854Z"
   },
   {
    "duration": 134,
    "start_time": "2022-07-09T11:43:17.023Z"
   },
   {
    "duration": 23,
    "start_time": "2022-07-09T11:43:17.159Z"
   },
   {
    "duration": 24,
    "start_time": "2022-07-09T11:43:17.183Z"
   },
   {
    "duration": 48,
    "start_time": "2022-07-09T11:43:17.208Z"
   },
   {
    "duration": 7,
    "start_time": "2022-07-09T11:43:17.258Z"
   },
   {
    "duration": 14,
    "start_time": "2022-07-09T11:43:17.267Z"
   },
   {
    "duration": 17,
    "start_time": "2022-07-09T11:43:17.283Z"
   },
   {
    "duration": 27,
    "start_time": "2022-07-09T11:43:17.304Z"
   },
   {
    "duration": 23,
    "start_time": "2022-07-09T11:43:17.333Z"
   },
   {
    "duration": 19,
    "start_time": "2022-07-09T11:43:17.358Z"
   },
   {
    "duration": 20,
    "start_time": "2022-07-09T11:43:17.379Z"
   },
   {
    "duration": 25,
    "start_time": "2022-07-09T11:43:17.401Z"
   },
   {
    "duration": 17,
    "start_time": "2022-07-09T11:43:17.428Z"
   },
   {
    "duration": 406,
    "start_time": "2022-07-09T11:43:17.447Z"
   },
   {
    "duration": 5,
    "start_time": "2022-07-09T11:43:17.854Z"
   },
   {
    "duration": 7,
    "start_time": "2022-07-09T11:43:17.860Z"
   },
   {
    "duration": 6,
    "start_time": "2022-07-09T11:43:17.868Z"
   },
   {
    "duration": 235,
    "start_time": "2022-07-09T11:43:17.875Z"
   },
   {
    "duration": 320,
    "start_time": "2022-07-09T11:43:18.111Z"
   },
   {
    "duration": 263,
    "start_time": "2022-07-09T11:43:18.433Z"
   },
   {
    "duration": 4,
    "start_time": "2022-07-09T11:43:18.697Z"
   },
   {
    "duration": 17,
    "start_time": "2022-07-09T11:43:18.703Z"
   },
   {
    "duration": 217,
    "start_time": "2022-07-09T11:43:18.721Z"
   },
   {
    "duration": 315,
    "start_time": "2022-07-09T11:43:18.940Z"
   },
   {
    "duration": 19,
    "start_time": "2022-07-09T11:43:19.257Z"
   },
   {
    "duration": 20,
    "start_time": "2022-07-09T11:43:19.278Z"
   },
   {
    "duration": 3,
    "start_time": "2022-07-09T11:43:19.300Z"
   },
   {
    "duration": 1334,
    "start_time": "2022-07-09T11:43:19.304Z"
   },
   {
    "duration": 1710,
    "start_time": "2022-07-09T11:43:20.640Z"
   },
   {
    "duration": 1621,
    "start_time": "2022-07-09T11:43:22.352Z"
   },
   {
    "duration": 1582,
    "start_time": "2022-07-09T11:43:23.974Z"
   },
   {
    "duration": 2197,
    "start_time": "2022-07-09T11:43:25.557Z"
   },
   {
    "duration": 1749,
    "start_time": "2022-07-09T11:43:27.756Z"
   },
   {
    "duration": 1604,
    "start_time": "2022-07-09T11:43:29.507Z"
   },
   {
    "duration": 2361,
    "start_time": "2022-07-09T11:43:31.114Z"
   },
   {
    "duration": 1299,
    "start_time": "2022-07-09T11:43:33.477Z"
   },
   {
    "duration": 1299,
    "start_time": "2022-07-09T11:43:34.777Z"
   },
   {
    "duration": 1504,
    "start_time": "2022-07-09T11:43:36.078Z"
   },
   {
    "duration": 14,
    "start_time": "2022-07-09T11:48:30.835Z"
   },
   {
    "duration": 20,
    "start_time": "2022-07-09T11:48:31.490Z"
   },
   {
    "duration": 1704,
    "start_time": "2022-07-09T16:10:07.800Z"
   },
   {
    "duration": 1501,
    "start_time": "2022-07-09T16:10:09.506Z"
   },
   {
    "duration": 98,
    "start_time": "2022-07-09T16:10:11.009Z"
   },
   {
    "duration": 29,
    "start_time": "2022-07-09T16:10:11.110Z"
   },
   {
    "duration": 33,
    "start_time": "2022-07-09T16:10:11.142Z"
   },
   {
    "duration": 12,
    "start_time": "2022-07-09T16:10:11.177Z"
   },
   {
    "duration": 251,
    "start_time": "2022-07-09T16:10:11.191Z"
   },
   {
    "duration": 188,
    "start_time": "2022-07-09T16:10:11.444Z"
   },
   {
    "duration": 40,
    "start_time": "2022-07-09T16:10:11.641Z"
   },
   {
    "duration": 33,
    "start_time": "2022-07-09T16:10:11.683Z"
   },
   {
    "duration": 52,
    "start_time": "2022-07-09T16:10:11.723Z"
   },
   {
    "duration": 8,
    "start_time": "2022-07-09T16:10:11.777Z"
   },
   {
    "duration": 7,
    "start_time": "2022-07-09T16:10:11.787Z"
   },
   {
    "duration": 14,
    "start_time": "2022-07-09T16:10:11.796Z"
   },
   {
    "duration": 39,
    "start_time": "2022-07-09T16:10:11.812Z"
   },
   {
    "duration": 20,
    "start_time": "2022-07-09T16:10:11.854Z"
   },
   {
    "duration": 11,
    "start_time": "2022-07-09T16:10:11.876Z"
   },
   {
    "duration": 8,
    "start_time": "2022-07-09T16:10:11.889Z"
   },
   {
    "duration": 11,
    "start_time": "2022-07-09T16:10:11.898Z"
   },
   {
    "duration": 22,
    "start_time": "2022-07-09T16:10:11.911Z"
   },
   {
    "duration": 619,
    "start_time": "2022-07-09T16:10:11.936Z"
   },
   {
    "duration": 7,
    "start_time": "2022-07-09T16:10:12.557Z"
   },
   {
    "duration": 8,
    "start_time": "2022-07-09T16:10:12.565Z"
   },
   {
    "duration": 5,
    "start_time": "2022-07-09T16:10:12.575Z"
   },
   {
    "duration": 273,
    "start_time": "2022-07-09T16:10:12.582Z"
   },
   {
    "duration": 243,
    "start_time": "2022-07-09T16:10:12.858Z"
   },
   {
    "duration": 343,
    "start_time": "2022-07-09T16:10:13.103Z"
   },
   {
    "duration": 6,
    "start_time": "2022-07-09T16:10:13.450Z"
   },
   {
    "duration": 20,
    "start_time": "2022-07-09T16:10:13.458Z"
   },
   {
    "duration": 308,
    "start_time": "2022-07-09T16:10:13.480Z"
   },
   {
    "duration": 360,
    "start_time": "2022-07-09T16:10:13.790Z"
   },
   {
    "duration": 20,
    "start_time": "2022-07-09T16:10:14.154Z"
   },
   {
    "duration": 19,
    "start_time": "2022-07-09T16:10:14.176Z"
   },
   {
    "duration": 31,
    "start_time": "2022-07-09T16:10:14.197Z"
   },
   {
    "duration": 1667,
    "start_time": "2022-07-09T16:10:14.230Z"
   },
   {
    "duration": 1852,
    "start_time": "2022-07-09T16:10:15.899Z"
   },
   {
    "duration": 1850,
    "start_time": "2022-07-09T16:10:17.754Z"
   },
   {
    "duration": 1992,
    "start_time": "2022-07-09T16:10:19.606Z"
   },
   {
    "duration": 2673,
    "start_time": "2022-07-09T16:10:21.600Z"
   },
   {
    "duration": 2033,
    "start_time": "2022-07-09T16:10:24.275Z"
   },
   {
    "duration": 1965,
    "start_time": "2022-07-09T16:10:26.310Z"
   },
   {
    "duration": 2921,
    "start_time": "2022-07-09T16:10:28.277Z"
   },
   {
    "duration": 1721,
    "start_time": "2022-07-09T16:10:31.200Z"
   },
   {
    "duration": 1519,
    "start_time": "2022-07-09T16:10:32.927Z"
   },
   {
    "duration": 1901,
    "start_time": "2022-07-09T16:10:34.449Z"
   },
   {
    "duration": 50,
    "start_time": "2022-07-19T15:33:02.248Z"
   },
   {
    "duration": 1214,
    "start_time": "2022-07-19T15:33:07.557Z"
   },
   {
    "duration": 87,
    "start_time": "2022-07-19T15:33:08.774Z"
   },
   {
    "duration": 11,
    "start_time": "2022-07-19T15:33:08.863Z"
   },
   {
    "duration": 42,
    "start_time": "2022-07-19T15:33:08.876Z"
   },
   {
    "duration": 47,
    "start_time": "2022-07-19T15:33:08.920Z"
   },
   {
    "duration": 187,
    "start_time": "2022-07-19T15:33:08.969Z"
   },
   {
    "duration": 6,
    "start_time": "2022-07-19T15:33:09.157Z"
   },
   {
    "duration": 198,
    "start_time": "2022-07-19T15:33:09.164Z"
   },
   {
    "duration": 124,
    "start_time": "2022-07-19T15:33:09.364Z"
   },
   {
    "duration": 28,
    "start_time": "2022-07-19T15:33:09.490Z"
   },
   {
    "duration": 327,
    "start_time": "2022-07-19T15:33:09.519Z"
   },
   {
    "duration": 282,
    "start_time": "2022-07-19T15:33:09.848Z"
   },
   {
    "duration": 399,
    "start_time": "2022-07-19T15:33:10.134Z"
   },
   {
    "duration": 322,
    "start_time": "2022-07-19T15:33:10.536Z"
   },
   {
    "duration": 426,
    "start_time": "2022-07-19T15:33:10.860Z"
   },
   {
    "duration": 165,
    "start_time": "2022-07-19T15:33:11.287Z"
   },
   {
    "duration": 4,
    "start_time": "2022-07-19T15:33:11.460Z"
   },
   {
    "duration": 177,
    "start_time": "2022-07-19T15:33:11.466Z"
   },
   {
    "duration": 7,
    "start_time": "2022-07-19T15:33:11.645Z"
   },
   {
    "duration": 96,
    "start_time": "2022-07-19T15:33:11.653Z"
   },
   {
    "duration": 10,
    "start_time": "2022-07-19T15:33:11.755Z"
   },
   {
    "duration": 18,
    "start_time": "2022-07-19T15:33:11.766Z"
   },
   {
    "duration": 8,
    "start_time": "2022-07-19T15:33:11.785Z"
   },
   {
    "duration": 12,
    "start_time": "2022-07-19T15:33:11.794Z"
   },
   {
    "duration": 1123,
    "start_time": "2022-07-23T09:18:32.508Z"
   },
   {
    "duration": 64,
    "start_time": "2022-07-23T09:18:33.633Z"
   },
   {
    "duration": 11,
    "start_time": "2022-07-23T09:18:33.699Z"
   },
   {
    "duration": 21,
    "start_time": "2022-07-23T09:18:33.712Z"
   },
   {
    "duration": 11,
    "start_time": "2022-07-23T09:18:33.734Z"
   },
   {
    "duration": 145,
    "start_time": "2022-07-23T09:18:33.746Z"
   },
   {
    "duration": 6,
    "start_time": "2022-07-23T09:18:33.893Z"
   },
   {
    "duration": 5,
    "start_time": "2022-07-23T09:18:33.901Z"
   },
   {
    "duration": 11,
    "start_time": "2022-07-23T09:18:33.908Z"
   },
   {
    "duration": 8,
    "start_time": "2022-07-23T09:18:33.921Z"
   },
   {
    "duration": 11,
    "start_time": "2022-07-23T09:18:33.930Z"
   },
   {
    "duration": 17,
    "start_time": "2022-07-23T09:18:33.943Z"
   },
   {
    "duration": 6,
    "start_time": "2022-07-23T09:18:33.962Z"
   },
   {
    "duration": 8,
    "start_time": "2022-07-23T09:18:33.970Z"
   },
   {
    "duration": 160,
    "start_time": "2022-07-23T09:18:33.979Z"
   },
   {
    "duration": 124,
    "start_time": "2022-07-23T09:18:34.140Z"
   },
   {
    "duration": 11,
    "start_time": "2022-07-23T09:18:34.266Z"
   },
   {
    "duration": 269,
    "start_time": "2022-07-23T09:18:34.278Z"
   },
   {
    "duration": 265,
    "start_time": "2022-07-23T09:18:34.549Z"
   },
   {
    "duration": 355,
    "start_time": "2022-07-23T09:18:34.815Z"
   },
   {
    "duration": 292,
    "start_time": "2022-07-23T09:18:35.172Z"
   },
   {
    "duration": 367,
    "start_time": "2022-07-23T09:18:35.465Z"
   },
   {
    "duration": 143,
    "start_time": "2022-07-23T09:18:35.834Z"
   },
   {
    "duration": 4,
    "start_time": "2022-07-23T09:18:35.979Z"
   },
   {
    "duration": 145,
    "start_time": "2022-07-23T09:18:35.984Z"
   },
   {
    "duration": 156,
    "start_time": "2022-07-23T09:18:36.130Z"
   },
   {
    "duration": 5,
    "start_time": "2022-07-23T09:18:36.289Z"
   },
   {
    "duration": 186,
    "start_time": "2022-07-23T09:18:36.298Z"
   },
   {
    "duration": 141,
    "start_time": "2022-07-23T09:18:36.486Z"
   },
   {
    "duration": 33,
    "start_time": "2022-07-23T09:18:36.628Z"
   },
   {
    "duration": 9,
    "start_time": "2022-07-23T09:18:36.663Z"
   },
   {
    "duration": 160,
    "start_time": "2022-07-23T09:18:36.673Z"
   },
   {
    "duration": 9,
    "start_time": "2022-07-23T09:18:36.835Z"
   }
  ],
  "kernelspec": {
   "display_name": "Python 3",
   "language": "python",
   "name": "python3"
  },
  "language_info": {
   "codemirror_mode": {
    "name": "ipython",
    "version": 3
   },
   "file_extension": ".py",
   "mimetype": "text/x-python",
   "name": "python",
   "nbconvert_exporter": "python",
   "pygments_lexer": "ipython3",
   "version": "3.8.3"
  },
  "toc": {
   "base_numbering": 1,
   "nav_menu": {},
   "number_sections": true,
   "sideBar": true,
   "skip_h1_title": true,
   "title_cell": "Table of Contents",
   "title_sidebar": "Contents",
   "toc_cell": false,
   "toc_position": {
    "height": "calc(100% - 180px)",
    "left": "10px",
    "top": "150px",
    "width": "312.4375px"
   },
   "toc_section_display": true,
   "toc_window_display": true
  }
 },
 "nbformat": 4,
 "nbformat_minor": 4
}
